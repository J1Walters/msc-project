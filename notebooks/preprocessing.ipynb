{
 "cells": [
  {
   "cell_type": "markdown",
   "metadata": {},
   "source": [
    "### Import Packages"
   ]
  },
  {
   "cell_type": "code",
   "execution_count": 1,
   "metadata": {},
   "outputs": [],
   "source": [
    "import numpy as np\n",
    "import matplotlib.pyplot as plt\n",
    "import seaborn as sns\n",
    "import pandas as pd\n",
    "import sqlean as sqlite3\n",
    "import spacy\n",
    "from sklearn.feature_extraction.text import TfidfVectorizer"
   ]
  },
  {
   "cell_type": "code",
   "execution_count": 2,
   "metadata": {},
   "outputs": [],
   "source": [
    "# nlp = spacy.load('en_core_web_sm')\n",
    "nlp = spacy.load('../models/model-best')"
   ]
  },
  {
   "cell_type": "markdown",
   "metadata": {},
   "source": [
    "### Import Data"
   ]
  },
  {
   "cell_type": "code",
   "execution_count": 3,
   "metadata": {},
   "outputs": [],
   "source": [
    "DATABASE_PATH = 'C:/University/6G7V0007_MSC_Project/Project/Data/joblistings_transformed.db'\n",
    "con = sqlite3.connect(DATABASE_PATH)"
   ]
  },
  {
   "cell_type": "code",
   "execution_count": 4,
   "metadata": {},
   "outputs": [
    {
     "name": "stderr",
     "output_type": "stream",
     "text": [
      "C:\\Users\\walte\\AppData\\Local\\Temp\\ipykernel_12104\\1361633401.py:1: UserWarning: pandas only supports SQLAlchemy connectable (engine/connection) or database string URI or sqlite3 DBAPI2 connection. Other DBAPI2 objects are not tested. Please consider using SQLAlchemy.\n",
      "  job = pd.read_sql('SELECT * FROM job', con)\n",
      "C:\\Users\\walte\\AppData\\Local\\Temp\\ipykernel_12104\\1361633401.py:2: UserWarning: pandas only supports SQLAlchemy connectable (engine/connection) or database string URI or sqlite3 DBAPI2 connection. Other DBAPI2 objects are not tested. Please consider using SQLAlchemy.\n",
      "  company = pd.read_sql('SELECT * FROM company', con)\n",
      "C:\\Users\\walte\\AppData\\Local\\Temp\\ipykernel_12104\\1361633401.py:3: UserWarning: pandas only supports SQLAlchemy connectable (engine/connection) or database string URI or sqlite3 DBAPI2 connection. Other DBAPI2 objects are not tested. Please consider using SQLAlchemy.\n",
      "  website = pd.read_sql('SELECT * FROM website', con)\n"
     ]
    }
   ],
   "source": [
    "job = pd.read_sql('SELECT * FROM job', con)\n",
    "company = pd.read_sql('SELECT * FROM company', con)\n",
    "website = pd.read_sql('SELECT * FROM website', con)"
   ]
  },
  {
   "cell_type": "code",
   "execution_count": 5,
   "metadata": {},
   "outputs": [],
   "source": [
    "job.set_index('id', inplace=True)\n",
    "company.set_index('id', inplace=True)\n",
    "website.set_index('id', inplace=True)"
   ]
  },
  {
   "cell_type": "code",
   "execution_count": 6,
   "metadata": {},
   "outputs": [],
   "source": [
    "test = job.merge(company, left_on='company_id', right_index=True)"
   ]
  },
  {
   "cell_type": "code",
   "execution_count": 7,
   "metadata": {},
   "outputs": [],
   "source": [
    "test.rename(columns={'name':'company_name'}, inplace=True)"
   ]
  },
  {
   "cell_type": "code",
   "execution_count": 8,
   "metadata": {},
   "outputs": [
    {
     "data": {
      "text/html": [
       "<div>\n",
       "<style scoped>\n",
       "    .dataframe tbody tr th:only-of-type {\n",
       "        vertical-align: middle;\n",
       "    }\n",
       "\n",
       "    .dataframe tbody tr th {\n",
       "        vertical-align: top;\n",
       "    }\n",
       "\n",
       "    .dataframe thead th {\n",
       "        text-align: right;\n",
       "    }\n",
       "</style>\n",
       "<table border=\"1\" class=\"dataframe\">\n",
       "  <thead>\n",
       "    <tr style=\"text-align: right;\">\n",
       "      <th></th>\n",
       "      <th>website_id</th>\n",
       "      <th>company_id</th>\n",
       "      <th>title</th>\n",
       "      <th>location</th>\n",
       "      <th>pay</th>\n",
       "      <th>description</th>\n",
       "      <th>timestamp</th>\n",
       "      <th>company_name</th>\n",
       "    </tr>\n",
       "    <tr>\n",
       "      <th>id</th>\n",
       "      <th></th>\n",
       "      <th></th>\n",
       "      <th></th>\n",
       "      <th></th>\n",
       "      <th></th>\n",
       "      <th></th>\n",
       "      <th></th>\n",
       "      <th></th>\n",
       "    </tr>\n",
       "  </thead>\n",
       "  <tbody>\n",
       "    <tr>\n",
       "      <th>1</th>\n",
       "      <td>1</td>\n",
       "      <td>1</td>\n",
       "      <td>Graduate Electronics/Computer Science Software...</td>\n",
       "      <td>Cirencester (Gloucestershire)</td>\n",
       "      <td>£30,000</td>\n",
       "      <td>About the role A unique opportunity to join a ...</td>\n",
       "      <td>2024-06-28</td>\n",
       "      <td>AccuLink Technology</td>\n",
       "    </tr>\n",
       "    <tr>\n",
       "      <th>145</th>\n",
       "      <td>1</td>\n",
       "      <td>1</td>\n",
       "      <td>Project Engineer</td>\n",
       "      <td>Cirencester (Gloucestershire)</td>\n",
       "      <td>Competitive</td>\n",
       "      <td>AccuLink Technology specialises in the design ...</td>\n",
       "      <td>2024-06-28</td>\n",
       "      <td>AccuLink Technology</td>\n",
       "    </tr>\n",
       "    <tr>\n",
       "      <th>2</th>\n",
       "      <td>1</td>\n",
       "      <td>2</td>\n",
       "      <td>Graduate Software Development Engineer</td>\n",
       "      <td>London</td>\n",
       "      <td>Competitive</td>\n",
       "      <td>nFocus Graduate Academy Accelerate your career...</td>\n",
       "      <td>2024-06-28</td>\n",
       "      <td>nfocus</td>\n",
       "    </tr>\n",
       "    <tr>\n",
       "      <th>3</th>\n",
       "      <td>1</td>\n",
       "      <td>3</td>\n",
       "      <td>Graduate Technology Consultant</td>\n",
       "      <td>Manchester (Hybrid)</td>\n",
       "      <td>Competitive</td>\n",
       "      <td>About Arlanis Reply: Arlanis Reply is the Repl...</td>\n",
       "      <td>2024-06-28</td>\n",
       "      <td>Reply</td>\n",
       "    </tr>\n",
       "    <tr>\n",
       "      <th>20</th>\n",
       "      <td>1</td>\n",
       "      <td>3</td>\n",
       "      <td>Graduate Software Developer</td>\n",
       "      <td>London and Manchester (Hybrid)</td>\n",
       "      <td>Competitive</td>\n",
       "      <td>About Arlanis Reply: Arlanis Reply is the Repl...</td>\n",
       "      <td>2024-06-28</td>\n",
       "      <td>Reply</td>\n",
       "    </tr>\n",
       "  </tbody>\n",
       "</table>\n",
       "</div>"
      ],
      "text/plain": [
       "     website_id  company_id  \\\n",
       "id                            \n",
       "1             1           1   \n",
       "145           1           1   \n",
       "2             1           2   \n",
       "3             1           3   \n",
       "20            1           3   \n",
       "\n",
       "                                                 title  \\\n",
       "id                                                       \n",
       "1    Graduate Electronics/Computer Science Software...   \n",
       "145                                   Project Engineer   \n",
       "2               Graduate Software Development Engineer   \n",
       "3                       Graduate Technology Consultant   \n",
       "20                         Graduate Software Developer   \n",
       "\n",
       "                           location          pay  \\\n",
       "id                                                 \n",
       "1     Cirencester (Gloucestershire)      £30,000   \n",
       "145   Cirencester (Gloucestershire)  Competitive   \n",
       "2                            London  Competitive   \n",
       "3               Manchester (Hybrid)  Competitive   \n",
       "20   London and Manchester (Hybrid)  Competitive   \n",
       "\n",
       "                                           description   timestamp  \\\n",
       "id                                                                   \n",
       "1    About the role A unique opportunity to join a ...  2024-06-28   \n",
       "145  AccuLink Technology specialises in the design ...  2024-06-28   \n",
       "2    nFocus Graduate Academy Accelerate your career...  2024-06-28   \n",
       "3    About Arlanis Reply: Arlanis Reply is the Repl...  2024-06-28   \n",
       "20   About Arlanis Reply: Arlanis Reply is the Repl...  2024-06-28   \n",
       "\n",
       "            company_name  \n",
       "id                        \n",
       "1    AccuLink Technology  \n",
       "145  AccuLink Technology  \n",
       "2                 nfocus  \n",
       "3                  Reply  \n",
       "20                 Reply  "
      ]
     },
     "execution_count": 8,
     "metadata": {},
     "output_type": "execute_result"
    }
   ],
   "source": [
    "test.head()"
   ]
  },
  {
   "cell_type": "markdown",
   "metadata": {},
   "source": [
    "### Contractions"
   ]
  },
  {
   "cell_type": "code",
   "execution_count": 9,
   "metadata": {},
   "outputs": [
    {
     "data": {
      "text/plain": [
       "array([\"AMS's\", \"API's\", \"Agency's\", \"Ali's\", \"Ally's\", \"America's\",\n",
       "       \"Analyst's\", \"Apple's\", \"Arm's\", \"Army's\", \"Aurora's\", \"BCG's\",\n",
       "       \"Bachelor's\", \"Bank's\", \"Batchelor's\", \"BlackRock's\", \"Blair's\",\n",
       "       \"Bloomberg's\", \"Bright's\", \"ByteDance's\", \"C's\", \"CV's\", \"Cameo's\",\n",
       "       \"Centre's\", \"Citi's\", \"Cleansing's\", \"Cloud's\", \"Combinator's\",\n",
       "       \"Commission's\", \"Community's\", \"Company's\", \"Corero's\",\n",
       "       \"Customer's\", \"DRW's\", \"DeepL's\", \"Dimensional's\", \"Don't\",\n",
       "       \"Dona's\", \"Edinburgh's\", \"Employee's\", \"Europe's\", \"Exchange's\",\n",
       "       \"FORTUNE's\", \"FT's\", \"FactSet's\", \"Filtration's\", \"GCP's\", \"GSK's\",\n",
       "       \"Glue's\", \"Google's\", \"Group's\", \"HRT's\", \"HealthNet's\", \"Here's\",\n",
       "       \"Honda's\", \"I'd\", \"I'm\", \"InMoment's\", \"It's\", \"Keltbray's\",\n",
       "       \"King's\", \"LearnTech's\", \"Leonardo's\", \"Let's\", \"Live's\",\n",
       "       \"Louise's\", \"Luminance's\", \"Mako's\", \"Master's\", \"Medidata's\",\n",
       "       \"Meta's\", \"NexGen's\", \"Nokia's\", \"Oracle's\", \"PRMIA's\",\n",
       "       \"Perforce's\", \"Phastar's\", \"PitchBook's\", \"Platform's\",\n",
       "       \"Precisely's\", \"QR's\", \"QuestDB's\", \"RAF's\", \"Reckitt's\",\n",
       "       \"Reply's\", \"Ripple's\", \"SLA's\", \"SME's\", \"Shopify's\", \"Siri's\",\n",
       "       \"Sterling's\", \"Street's\", \"Submarine's\", \"TEKEVER's\", \"Technica's\",\n",
       "       \"That's\", \"Theory's\", \"There's\", \"They're\", \"TikTok's\", \"Today's\",\n",
       "       \"Tomorrow's\", \"Trust's\", \"UK's\", \"University's\", \"VIOOH's\",\n",
       "       \"VPN's\", \"Valpak's\", \"WE'RE\", \"WHAT'S\", \"We'd\", \"We'll\", \"We're\",\n",
       "       \"We've\", \"What's\", \"Women's\", \"Worldpay's\", \"YOU'LL\", \"YOU'RE\",\n",
       "       \"You'll\", \"You're\", \"You've\", \"Zikodrive's\", \"applicant's\",\n",
       "       \"application's\", \"aren't\", \"bachelor's\", \"bank's\", \"bird's\",\n",
       "       \"business's\", \"can't\", \"candidate's\", \"client's\", \"company's\",\n",
       "       \"cont'd\", \"country's\", \"customer's\", \"d'Ivoire\", \"dashboard's\",\n",
       "       \"data's\", \"day's\", \"descriptionWe're\", \"doesn't\", \"don't\",\n",
       "       \"employee's\", \"everyone's\", \"firm's\", \"framework's\", \"hasn't\",\n",
       "       \"headquarter's\", \"individual's\", \"industry's\", \"isn't\", \"it's\",\n",
       "       \"let's\", \"management's\", \"master's\", \"network's\", \"one's\",\n",
       "       \"organisation's\", \"organization's\", \"other's\", \"people's\",\n",
       "       \"person's\", \"platform's\", \"product's\", \"project's\", \"ship's\",\n",
       "       \"skillsWe're\", \"software's\", \"student's\", \"system's\", \"team's\",\n",
       "       \"technology's\", \"that's\", \"there's\", \"they're\", \"today's\",\n",
       "       \"tomorrow's\", \"user's\", \"we'd\", \"we'll\", \"we're\", \"we've\", \"web's\",\n",
       "       \"what's\", \"who'd\", \"who's\", \"won't\", \"world's\", \"you'd\", \"you'll\",\n",
       "       \"you're\", \"you've\"], dtype=object)"
      ]
     },
     "execution_count": 9,
     "metadata": {},
     "output_type": "execute_result"
    }
   ],
   "source": [
    "# Get a list of contractions found within the job listings\n",
    "contractions = np.unique(test['description'].str.extractall(r\"([a-zA-z]{1,}'[a-zA-Z]{1,})\").values)\n",
    "contractions"
   ]
  },
  {
   "cell_type": "markdown",
   "metadata": {},
   "source": [
    "### Preprocessing for TF-IDF"
   ]
  },
  {
   "cell_type": "code",
   "execution_count": 19,
   "metadata": {},
   "outputs": [],
   "source": [
    "# Extra stop words\n"
   ]
  },
  {
   "cell_type": "code",
   "execution_count": 20,
   "metadata": {},
   "outputs": [],
   "source": [
    "# Set tokeniser to use only whitespace to split\n",
    "# nlp.tokenizer = "
   ]
  },
  {
   "cell_type": "code",
   "execution_count": 26,
   "metadata": {},
   "outputs": [],
   "source": [
    "def tokenise(text):\n",
    "    \"\"\"Tokenise text\"\"\"\n",
    "    return [token.text for token in nlp(text)]"
   ]
  },
  {
   "cell_type": "code",
   "execution_count": 27,
   "metadata": {},
   "outputs": [],
   "source": [
    "def lemmatise(text):\n",
    "    \"\"\"Tokenise and lemmatise text\"\"\"\n",
    "    return [token.lemma_ for token in nlp(text)]"
   ]
  },
  {
   "cell_type": "code",
   "execution_count": 10,
   "metadata": {},
   "outputs": [],
   "source": [
    "def get_entities(text):\n",
    "    \"\"\"Return the named entities\"\"\"\n",
    "    return [(ent.text, ent.label_) for ent in nlp(text).ents]"
   ]
  },
  {
   "cell_type": "code",
   "execution_count": 11,
   "metadata": {},
   "outputs": [],
   "source": [
    "test['ents'] = test['description'].apply(get_entities)"
   ]
  },
  {
   "cell_type": "code",
   "execution_count": 12,
   "metadata": {},
   "outputs": [
    {
     "data": {
      "text/plain": [
       "id\n",
       "1      [(Python, LANG_FRAM), (work independently, S_S...\n",
       "145    [(continuously push, S_SKILL), (confidence in ...\n",
       "2      [(similarly technical degree, REQUIREMENT), (M...\n",
       "3      [(implementation and design of elegant systems...\n",
       "20     [(implementation and design of elegant systems...\n",
       "Name: ents, dtype: object"
      ]
     },
     "execution_count": 12,
     "metadata": {},
     "output_type": "execute_result"
    }
   ],
   "source": [
    "test['ents'].head()"
   ]
  },
  {
   "cell_type": "code",
   "execution_count": 38,
   "metadata": {},
   "outputs": [],
   "source": [
    "entities = test.explode('ents')['ents']"
   ]
  },
  {
   "cell_type": "code",
   "execution_count": 42,
   "metadata": {},
   "outputs": [],
   "source": [
    "ent_df = pd.DataFrame(entities.to_list())\n",
    "ent_df.columns = ['ent', 'type']"
   ]
  },
  {
   "cell_type": "code",
   "execution_count": 46,
   "metadata": {},
   "outputs": [
    {
     "data": {
      "text/plain": [
       "ent\n",
       "Python                   392\n",
       "AI                       371\n",
       "SQL                      272\n",
       "cloud                    181\n",
       "Azure                    177\n",
       "                        ... \n",
       "Vulkan                     1\n",
       "Apache Iceberg             1\n",
       "C Basic computer           1\n",
       "Graphics and graphics      1\n",
       "Alderley                   1\n",
       "Name: count, Length: 798, dtype: int64"
      ]
     },
     "execution_count": 46,
     "metadata": {},
     "output_type": "execute_result"
    }
   ],
   "source": [
    "ent_df.loc[ent_df['type'] == 'LANG_FRAM', 'ent'].value_counts()"
   ]
  },
  {
   "cell_type": "code",
   "execution_count": 47,
   "metadata": {},
   "outputs": [],
   "source": [
    "# Export entity dataframe\n",
    "ent_df.to_csv('C:/University/6G7V0007_MSC_Project/Project/Data/entities.csv')"
   ]
  },
  {
   "cell_type": "code",
   "execution_count": 30,
   "metadata": {},
   "outputs": [],
   "source": [
    "#test['doc'] = test['description'].apply(tokenise)"
   ]
  },
  {
   "cell_type": "code",
   "execution_count": 31,
   "metadata": {},
   "outputs": [],
   "source": [
    "# test['ents'].iloc[6]"
   ]
  },
  {
   "cell_type": "code",
   "execution_count": 32,
   "metadata": {},
   "outputs": [
    {
     "data": {
      "text/plain": [
       "['About',\n",
       " 'the',\n",
       " 'role',\n",
       " 'A',\n",
       " 'unique',\n",
       " 'opportunity',\n",
       " 'to',\n",
       " 'join',\n",
       " 'a',\n",
       " 'growing',\n",
       " 'new',\n",
       " 'company',\n",
       " 'developing',\n",
       " 'some',\n",
       " 'exciting',\n",
       " 'products',\n",
       " 'in',\n",
       " 'the',\n",
       " '5',\n",
       " 'G',\n",
       " 'mobile',\n",
       " 'infrastructure',\n",
       " 'space',\n",
       " '.',\n",
       " 'As',\n",
       " 'a',\n",
       " 'recent',\n",
       " 'graduate',\n",
       " 'you',\n",
       " 'would',\n",
       " 'be',\n",
       " 'joining',\n",
       " 'an',\n",
       " 'R&D',\n",
       " 'team',\n",
       " 'involved',\n",
       " 'in',\n",
       " 'the',\n",
       " 'design',\n",
       " ',',\n",
       " 'development',\n",
       " 'and',\n",
       " 'manufacture',\n",
       " 'of',\n",
       " 'these',\n",
       " 'products',\n",
       " '.',\n",
       " 'The',\n",
       " 'role',\n",
       " 'will',\n",
       " 'be',\n",
       " 'able',\n",
       " 'to',\n",
       " 'take',\n",
       " 'the',\n",
       " 'skills',\n",
       " 'learnt',\n",
       " 'during',\n",
       " 'your',\n",
       " 'degree',\n",
       " 'and',\n",
       " 'apply',\n",
       " 'them',\n",
       " 'to',\n",
       " 'real',\n",
       " 'world',\n",
       " 'applications',\n",
       " '.',\n",
       " 'Working',\n",
       " 'from',\n",
       " 'requirements',\n",
       " 'you',\n",
       " 'will',\n",
       " 'be',\n",
       " 'expected',\n",
       " 'to',\n",
       " 'develop',\n",
       " 'all',\n",
       " 'forms',\n",
       " 'of',\n",
       " 'software',\n",
       " 'across',\n",
       " 'the',\n",
       " 'full',\n",
       " 'suite',\n",
       " ';',\n",
       " 'from',\n",
       " 'firmware',\n",
       " 'on',\n",
       " 'microprocessors',\n",
       " 'such',\n",
       " 'as',\n",
       " 'the',\n",
       " 'Raspberry',\n",
       " 'PI',\n",
       " ',',\n",
       " 'with',\n",
       " 'code',\n",
       " 'written',\n",
       " 'in',\n",
       " '‘',\n",
       " 'C',\n",
       " '’',\n",
       " 'and/or',\n",
       " 'Python',\n",
       " ',',\n",
       " 'all',\n",
       " 'the',\n",
       " 'way',\n",
       " 'through',\n",
       " 'to',\n",
       " 'GUI',\n",
       " 'development',\n",
       " 'using',\n",
       " 'rapid',\n",
       " 'development',\n",
       " 'tools',\n",
       " 'such',\n",
       " 'as',\n",
       " 'NodeRED',\n",
       " '.',\n",
       " 'The',\n",
       " 'role',\n",
       " 'will',\n",
       " 'involve',\n",
       " 'both',\n",
       " 'working',\n",
       " 'as',\n",
       " 'a',\n",
       " 'critical',\n",
       " 'member',\n",
       " 'of',\n",
       " 'the',\n",
       " 'team',\n",
       " ',',\n",
       " 'but',\n",
       " 'equally',\n",
       " 'you',\n",
       " 'will',\n",
       " 'be',\n",
       " 'expected',\n",
       " 'to',\n",
       " 'work',\n",
       " 'independently',\n",
       " 'and',\n",
       " 'to',\n",
       " 'set',\n",
       " 'direction',\n",
       " 'for',\n",
       " 'others',\n",
       " '.',\n",
       " 'If',\n",
       " 'you',\n",
       " 'are',\n",
       " 'a',\n",
       " 'passionate',\n",
       " 'problem',\n",
       " 'solver',\n",
       " ',',\n",
       " 'enjoy',\n",
       " 'a',\n",
       " 'challenge',\n",
       " ',',\n",
       " 'and',\n",
       " 'want',\n",
       " 'to',\n",
       " 'develop',\n",
       " ',',\n",
       " 'this',\n",
       " 'is',\n",
       " 'the',\n",
       " 'role',\n",
       " 'for',\n",
       " 'you',\n",
       " '!',\n",
       " 'Roles',\n",
       " '/',\n",
       " 'Responsibility',\n",
       " 'Management',\n",
       " 'of',\n",
       " 'functional',\n",
       " 'and',\n",
       " 'non',\n",
       " '-',\n",
       " 'functional',\n",
       " 'requirements',\n",
       " 'deriving',\n",
       " 'the',\n",
       " 'HLD',\n",
       " '&',\n",
       " 'LLD',\n",
       " 'designs',\n",
       " 'for',\n",
       " 'software',\n",
       " 'development',\n",
       " '.',\n",
       " 'Operate',\n",
       " 'in',\n",
       " 'an',\n",
       " 'agile',\n",
       " '/',\n",
       " 'scrum',\n",
       " 'environment',\n",
       " 'with',\n",
       " 'incremental',\n",
       " 'and',\n",
       " 'regular',\n",
       " 'delivery',\n",
       " '.',\n",
       " 'Software',\n",
       " 'development',\n",
       " 'using',\n",
       " 'a',\n",
       " 'CI',\n",
       " '/',\n",
       " 'CD',\n",
       " 'pipeline',\n",
       " '.',\n",
       " 'Development',\n",
       " 'of',\n",
       " 'test',\n",
       " 'environments',\n",
       " ',',\n",
       " 'facilitating',\n",
       " 'automated',\n",
       " 'testing',\n",
       " '.',\n",
       " 'Education',\n",
       " 'Qualifications',\n",
       " ':',\n",
       " 'Bachelor',\n",
       " \"'s\",\n",
       " 'degree',\n",
       " 'in',\n",
       " 'Computer',\n",
       " 'Science',\n",
       " 'or',\n",
       " 'similar',\n",
       " 'STEM',\n",
       " 'discipline',\n",
       " ',',\n",
       " 'or',\n",
       " 'proven',\n",
       " 'development',\n",
       " 'experience',\n",
       " '.',\n",
       " 'Desired',\n",
       " 'Characteristics',\n",
       " '&',\n",
       " 'Technical',\n",
       " 'Expertise',\n",
       " ':',\n",
       " 'Full',\n",
       " 'software',\n",
       " 'life',\n",
       " 'cycle',\n",
       " 'development',\n",
       " '.',\n",
       " 'Variety',\n",
       " 'of',\n",
       " 'embedded',\n",
       " 'platforms',\n",
       " '.',\n",
       " 'Experience',\n",
       " 'in',\n",
       " 'Windows',\n",
       " ',',\n",
       " 'Linux',\n",
       " 'OS',\n",
       " '.',\n",
       " 'Web',\n",
       " 'development',\n",
       " ',',\n",
       " 'HTML',\n",
       " ',',\n",
       " 'CSS',\n",
       " ',',\n",
       " 'Java',\n",
       " 'Script',\n",
       " ',',\n",
       " 'MQTT',\n",
       " '.',\n",
       " 'Front',\n",
       " 'end',\n",
       " '/',\n",
       " 'GUI',\n",
       " 'building',\n",
       " '&',\n",
       " 'app',\n",
       " 'development',\n",
       " '.',\n",
       " 'CI',\n",
       " '/',\n",
       " 'CD',\n",
       " 'with',\n",
       " 'version',\n",
       " 'control',\n",
       " 'and',\n",
       " 'code',\n",
       " 'repositories',\n",
       " 'such',\n",
       " 'as',\n",
       " 'GitHub',\n",
       " '.',\n",
       " 'Scrum',\n",
       " 'team',\n",
       " 'development',\n",
       " 'using',\n",
       " 'Agile',\n",
       " 'project',\n",
       " 'management',\n",
       " '.',\n",
       " 'Business',\n",
       " 'Acumen',\n",
       " ':',\n",
       " 'Skilled',\n",
       " 'in',\n",
       " 'breaking',\n",
       " 'down',\n",
       " 'problems',\n",
       " ',',\n",
       " 'documenting',\n",
       " 'problem',\n",
       " 'statements',\n",
       " 'and',\n",
       " 'estimating',\n",
       " 'efforts',\n",
       " '.',\n",
       " 'Understands',\n",
       " 'the',\n",
       " 'importance',\n",
       " 'of',\n",
       " 'software',\n",
       " 'quality',\n",
       " 'and',\n",
       " 'the',\n",
       " 'impact',\n",
       " 'of',\n",
       " 'product',\n",
       " 'quality',\n",
       " 'and',\n",
       " 'the',\n",
       " 'risk',\n",
       " 'of',\n",
       " 'brand',\n",
       " 'damage',\n",
       " '.',\n",
       " 'Ability',\n",
       " 'to',\n",
       " 'analyse',\n",
       " 'design',\n",
       " 'options',\n",
       " 'and',\n",
       " 'deliver',\n",
       " 'the',\n",
       " 'best',\n",
       " 'solutions',\n",
       " 'into',\n",
       " 'the',\n",
       " 'products',\n",
       " '.',\n",
       " 'Awareness',\n",
       " 'of',\n",
       " 'competitors',\n",
       " 'and',\n",
       " 'industry',\n",
       " 'trends',\n",
       " '.',\n",
       " 'Personal',\n",
       " 'Attributes',\n",
       " ':',\n",
       " 'Excellent',\n",
       " 'oral',\n",
       " 'and',\n",
       " 'written',\n",
       " 'communications',\n",
       " 'skills',\n",
       " '.',\n",
       " 'Effective',\n",
       " 'interpersonal',\n",
       " '/',\n",
       " 'extensive',\n",
       " 'team',\n",
       " 'building',\n",
       " 'skills',\n",
       " '.',\n",
       " 'Able',\n",
       " 'to',\n",
       " 'problem',\n",
       " 'solve',\n",
       " ',',\n",
       " 'finding',\n",
       " 'effective',\n",
       " 'solutions',\n",
       " '.',\n",
       " 'Pushing',\n",
       " 'self',\n",
       " 'and',\n",
       " 'team',\n",
       " 'results',\n",
       " 'through',\n",
       " 'team',\n",
       " 'spirit',\n",
       " '.',\n",
       " 'A',\n",
       " '‘',\n",
       " 'can',\n",
       " 'do',\n",
       " '’',\n",
       " 'and',\n",
       " 'willing',\n",
       " 'attitude',\n",
       " '.',\n",
       " 'Benefits',\n",
       " 'Competitive',\n",
       " 'starting',\n",
       " 'salary',\n",
       " ':',\n",
       " '£',\n",
       " '30,000',\n",
       " 'Company',\n",
       " 'pension',\n",
       " '25',\n",
       " 'days',\n",
       " \"'\",\n",
       " 'annual',\n",
       " 'leave',\n",
       " 'Ongoing',\n",
       " 'training',\n",
       " 'and',\n",
       " 'development',\n",
       " 'opportunities',\n",
       " ',',\n",
       " 'to',\n",
       " 'allow',\n",
       " 'you',\n",
       " 'to',\n",
       " 'reach',\n",
       " 'your',\n",
       " 'full',\n",
       " 'potential',\n",
       " 'Informal',\n",
       " 'dress',\n",
       " 'code',\n",
       " 'and',\n",
       " 'excellent',\n",
       " 'work',\n",
       " '/',\n",
       " 'life',\n",
       " 'balance',\n",
       " 'Reimbursement',\n",
       " 'towards',\n",
       " 'a',\n",
       " 'professional',\n",
       " 'membership',\n",
       " '.',\n",
       " 'Security',\n",
       " 'Clearance',\n",
       " ':',\n",
       " 'The',\n",
       " 'company',\n",
       " 'develops',\n",
       " 'solutions',\n",
       " 'for',\n",
       " 'military',\n",
       " 'applications',\n",
       " 'and',\n",
       " 'staff',\n",
       " 'within',\n",
       " 'the',\n",
       " 'business',\n",
       " 'are',\n",
       " 'expected',\n",
       " 'to',\n",
       " 'be',\n",
       " 'able',\n",
       " 'to',\n",
       " 'be',\n",
       " 'security',\n",
       " 'cleared',\n",
       " 'as',\n",
       " 'and',\n",
       " 'when',\n",
       " 'required',\n",
       " '.']"
      ]
     },
     "execution_count": 32,
     "metadata": {},
     "output_type": "execute_result"
    }
   ],
   "source": [
    "#test['doc'].iloc[0]"
   ]
  },
  {
   "cell_type": "code",
   "execution_count": 33,
   "metadata": {},
   "outputs": [],
   "source": [
    "# Convert list to string\n",
    "test['doc'] = test['doc'].apply(' '.join)"
   ]
  },
  {
   "cell_type": "code",
   "execution_count": 34,
   "metadata": {},
   "outputs": [
    {
     "data": {
      "text/html": [
       "<div>\n",
       "<style scoped>\n",
       "    .dataframe tbody tr th:only-of-type {\n",
       "        vertical-align: middle;\n",
       "    }\n",
       "\n",
       "    .dataframe tbody tr th {\n",
       "        vertical-align: top;\n",
       "    }\n",
       "\n",
       "    .dataframe thead th {\n",
       "        text-align: right;\n",
       "    }\n",
       "</style>\n",
       "<table border=\"1\" class=\"dataframe\">\n",
       "  <thead>\n",
       "    <tr style=\"text-align: right;\">\n",
       "      <th></th>\n",
       "      <th>website_id</th>\n",
       "      <th>company_id</th>\n",
       "      <th>title</th>\n",
       "      <th>location</th>\n",
       "      <th>pay</th>\n",
       "      <th>description</th>\n",
       "      <th>timestamp</th>\n",
       "      <th>company_name</th>\n",
       "      <th>doc</th>\n",
       "    </tr>\n",
       "    <tr>\n",
       "      <th>id</th>\n",
       "      <th></th>\n",
       "      <th></th>\n",
       "      <th></th>\n",
       "      <th></th>\n",
       "      <th></th>\n",
       "      <th></th>\n",
       "      <th></th>\n",
       "      <th></th>\n",
       "      <th></th>\n",
       "    </tr>\n",
       "  </thead>\n",
       "  <tbody>\n",
       "    <tr>\n",
       "      <th>1</th>\n",
       "      <td>1</td>\n",
       "      <td>1</td>\n",
       "      <td>Graduate Electronics/Computer Science Software...</td>\n",
       "      <td>Cirencester (Gloucestershire)</td>\n",
       "      <td>£30,000</td>\n",
       "      <td>About the role A unique opportunity to join a ...</td>\n",
       "      <td>2024-06-28</td>\n",
       "      <td>AccuLink Technology</td>\n",
       "      <td>About the role A unique opportunity to join a ...</td>\n",
       "    </tr>\n",
       "    <tr>\n",
       "      <th>145</th>\n",
       "      <td>1</td>\n",
       "      <td>1</td>\n",
       "      <td>Project Engineer</td>\n",
       "      <td>Cirencester (Gloucestershire)</td>\n",
       "      <td>Competitive</td>\n",
       "      <td>AccuLink Technology specialises in the design ...</td>\n",
       "      <td>2024-06-28</td>\n",
       "      <td>AccuLink Technology</td>\n",
       "      <td>AccuLink Technology specialises in the design ...</td>\n",
       "    </tr>\n",
       "    <tr>\n",
       "      <th>2</th>\n",
       "      <td>1</td>\n",
       "      <td>2</td>\n",
       "      <td>Graduate Software Development Engineer</td>\n",
       "      <td>London</td>\n",
       "      <td>Competitive</td>\n",
       "      <td>nFocus Graduate Academy Accelerate your career...</td>\n",
       "      <td>2024-06-28</td>\n",
       "      <td>nfocus</td>\n",
       "      <td>nFocus Graduate Academy Accelerate your career...</td>\n",
       "    </tr>\n",
       "    <tr>\n",
       "      <th>3</th>\n",
       "      <td>1</td>\n",
       "      <td>3</td>\n",
       "      <td>Graduate Technology Consultant</td>\n",
       "      <td>Manchester (Hybrid)</td>\n",
       "      <td>Competitive</td>\n",
       "      <td>About Arlanis Reply: Arlanis Reply is the Repl...</td>\n",
       "      <td>2024-06-28</td>\n",
       "      <td>Reply</td>\n",
       "      <td>About Arlanis Reply : Arlanis Reply is the Rep...</td>\n",
       "    </tr>\n",
       "    <tr>\n",
       "      <th>20</th>\n",
       "      <td>1</td>\n",
       "      <td>3</td>\n",
       "      <td>Graduate Software Developer</td>\n",
       "      <td>London and Manchester (Hybrid)</td>\n",
       "      <td>Competitive</td>\n",
       "      <td>About Arlanis Reply: Arlanis Reply is the Repl...</td>\n",
       "      <td>2024-06-28</td>\n",
       "      <td>Reply</td>\n",
       "      <td>About Arlanis Reply : Arlanis Reply is the Rep...</td>\n",
       "    </tr>\n",
       "  </tbody>\n",
       "</table>\n",
       "</div>"
      ],
      "text/plain": [
       "     website_id  company_id  \\\n",
       "id                            \n",
       "1             1           1   \n",
       "145           1           1   \n",
       "2             1           2   \n",
       "3             1           3   \n",
       "20            1           3   \n",
       "\n",
       "                                                 title  \\\n",
       "id                                                       \n",
       "1    Graduate Electronics/Computer Science Software...   \n",
       "145                                   Project Engineer   \n",
       "2               Graduate Software Development Engineer   \n",
       "3                       Graduate Technology Consultant   \n",
       "20                         Graduate Software Developer   \n",
       "\n",
       "                           location          pay  \\\n",
       "id                                                 \n",
       "1     Cirencester (Gloucestershire)      £30,000   \n",
       "145   Cirencester (Gloucestershire)  Competitive   \n",
       "2                            London  Competitive   \n",
       "3               Manchester (Hybrid)  Competitive   \n",
       "20   London and Manchester (Hybrid)  Competitive   \n",
       "\n",
       "                                           description   timestamp  \\\n",
       "id                                                                   \n",
       "1    About the role A unique opportunity to join a ...  2024-06-28   \n",
       "145  AccuLink Technology specialises in the design ...  2024-06-28   \n",
       "2    nFocus Graduate Academy Accelerate your career...  2024-06-28   \n",
       "3    About Arlanis Reply: Arlanis Reply is the Repl...  2024-06-28   \n",
       "20   About Arlanis Reply: Arlanis Reply is the Repl...  2024-06-28   \n",
       "\n",
       "            company_name                                                doc  \n",
       "id                                                                           \n",
       "1    AccuLink Technology  About the role A unique opportunity to join a ...  \n",
       "145  AccuLink Technology  AccuLink Technology specialises in the design ...  \n",
       "2                 nfocus  nFocus Graduate Academy Accelerate your career...  \n",
       "3                  Reply  About Arlanis Reply : Arlanis Reply is the Rep...  \n",
       "20                 Reply  About Arlanis Reply : Arlanis Reply is the Rep...  "
      ]
     },
     "execution_count": 34,
     "metadata": {},
     "output_type": "execute_result"
    }
   ],
   "source": [
    "test.head()"
   ]
  },
  {
   "cell_type": "markdown",
   "metadata": {},
   "source": [
    "### Topic Clustering"
   ]
  },
  {
   "cell_type": "code",
   "execution_count": 35,
   "metadata": {},
   "outputs": [],
   "source": [
    "from bertopic import BERTopic\n",
    "from bertopic.vectorizers import ClassTfidfTransformer"
   ]
  },
  {
   "cell_type": "code",
   "execution_count": 36,
   "metadata": {},
   "outputs": [],
   "source": [
    "cluster_nlp = spacy.load('en_core_web_sm', exclude=['tagger', 'parser', 'ner', 'attribute_ruler', 'lemmatizer'])\n",
    "ctfidf_model = ClassTfidfTransformer(reduce_frequent_words=True)"
   ]
  },
  {
   "cell_type": "code",
   "execution_count": 37,
   "metadata": {},
   "outputs": [],
   "source": [
    "topic_model = BERTopic(ctfidf_model=ctfidf_model)\n",
    "topics, probs = topic_model.fit_transform(test['description'])"
   ]
  },
  {
   "cell_type": "code",
   "execution_count": 38,
   "metadata": {},
   "outputs": [
    {
     "data": {
      "text/html": [
       "<div>\n",
       "<style scoped>\n",
       "    .dataframe tbody tr th:only-of-type {\n",
       "        vertical-align: middle;\n",
       "    }\n",
       "\n",
       "    .dataframe tbody tr th {\n",
       "        vertical-align: top;\n",
       "    }\n",
       "\n",
       "    .dataframe thead th {\n",
       "        text-align: right;\n",
       "    }\n",
       "</style>\n",
       "<table border=\"1\" class=\"dataframe\">\n",
       "  <thead>\n",
       "    <tr style=\"text-align: right;\">\n",
       "      <th></th>\n",
       "      <th>Topic</th>\n",
       "      <th>Count</th>\n",
       "      <th>Name</th>\n",
       "      <th>Representation</th>\n",
       "      <th>Representative_Docs</th>\n",
       "    </tr>\n",
       "  </thead>\n",
       "  <tbody>\n",
       "    <tr>\n",
       "      <th>0</th>\n",
       "      <td>-1</td>\n",
       "      <td>335</td>\n",
       "      <td>-1_we_is_our_team</td>\n",
       "      <td>[we, is, our, team, are, will, be, you, experi...</td>\n",
       "      <td>[At GSK, we want to supercharge our data capab...</td>\n",
       "    </tr>\n",
       "    <tr>\n",
       "      <th>1</th>\n",
       "      <td>0</td>\n",
       "      <td>100</td>\n",
       "      <td>0_web_developer_backend_software</td>\n",
       "      <td>[web, developer, backend, software, frontend, ...</td>\n",
       "      <td>[BIG Motoring World Head of Software Developme...</td>\n",
       "    </tr>\n",
       "    <tr>\n",
       "      <th>2</th>\n",
       "      <td>1</td>\n",
       "      <td>89</td>\n",
       "      <td>1_data_bi_analytics_insights</td>\n",
       "      <td>[data, bi, analytics, insights, science, sql, ...</td>\n",
       "      <td>[Overview As one of the fastest-growing and hi...</td>\n",
       "    </tr>\n",
       "    <tr>\n",
       "      <th>3</th>\n",
       "      <td>2</td>\n",
       "      <td>77</td>\n",
       "      <td>2_energy_engineering_carbon_electrical</td>\n",
       "      <td>[energy, engineering, carbon, electrical, powe...</td>\n",
       "      <td>[Job Advert This is an outstanding opportunity...</td>\n",
       "    </tr>\n",
       "    <tr>\n",
       "      <th>4</th>\n",
       "      <td>3</td>\n",
       "      <td>73</td>\n",
       "      <td>3_support_issues_it_service</td>\n",
       "      <td>[support, issues, it, service, customer, techn...</td>\n",
       "      <td>[Work Location : London, United Kingdom Hours:...</td>\n",
       "    </tr>\n",
       "    <tr>\n",
       "      <th>5</th>\n",
       "      <td>4</td>\n",
       "      <td>61</td>\n",
       "      <td>4_ai_machine_learning_models</td>\n",
       "      <td>[ai, machine, learning, models, ml, algorithms...</td>\n",
       "      <td>[Deep Learning Engineer (NLP) London, hybrid o...</td>\n",
       "    </tr>\n",
       "    <tr>\n",
       "      <th>6</th>\n",
       "      <td>5</td>\n",
       "      <td>48</td>\n",
       "      <td>5_product_business_kt_bcg</td>\n",
       "      <td>[product, business, kt, bcg, analyst, manageme...</td>\n",
       "      <td>[Description QR's reputation for product data ...</td>\n",
       "    </tr>\n",
       "    <tr>\n",
       "      <th>7</th>\n",
       "      <td>6</td>\n",
       "      <td>40</td>\n",
       "      <td>6_grayce_civil_opens_training</td>\n",
       "      <td>[grayce, civil, opens, training, digital, wind...</td>\n",
       "      <td>[The opportunity We’re looking for an experien...</td>\n",
       "    </tr>\n",
       "    <tr>\n",
       "      <th>8</th>\n",
       "      <td>7</td>\n",
       "      <td>36</td>\n",
       "      <td>7_cern_fundamental_physicists_particles</td>\n",
       "      <td>[cern, fundamental, physicists, particles, cer...</td>\n",
       "      <td>[About us At CERN, the European Organisation f...</td>\n",
       "    </tr>\n",
       "    <tr>\n",
       "      <th>9</th>\n",
       "      <td>8</td>\n",
       "      <td>29</td>\n",
       "      <td>8_blackrock_investment_blackrocks_submit</td>\n",
       "      <td>[blackrock, investment, blackrocks, submit, pr...</td>\n",
       "      <td>[The Full-Time Analyst Programme is for candid...</td>\n",
       "    </tr>\n",
       "    <tr>\n",
       "      <th>10</th>\n",
       "      <td>9</td>\n",
       "      <td>26</td>\n",
       "      <td>9_security_cyber_cybersecurity_vulnerability</td>\n",
       "      <td>[security, cyber, cybersecurity, vulnerability...</td>\n",
       "      <td>[Job Title: Reconnaissance HUMINT Analyst Abou...</td>\n",
       "    </tr>\n",
       "    <tr>\n",
       "      <th>11</th>\n",
       "      <td>10</td>\n",
       "      <td>25</td>\n",
       "      <td>10_reply_surrounded_microsoft_cloud</td>\n",
       "      <td>[reply, surrounded, microsoft, cloud, 365, gra...</td>\n",
       "      <td>[About WM Reply: WM Reply is the Reply Group c...</td>\n",
       "    </tr>\n",
       "    <tr>\n",
       "      <th>12</th>\n",
       "      <td>11</td>\n",
       "      <td>22</td>\n",
       "      <td>11_tpp_healthcare_outstanding_patients</td>\n",
       "      <td>[tpp, healthcare, outstanding, patients, salar...</td>\n",
       "      <td>[About TPP TPP is a world-leader in Digital He...</td>\n",
       "    </tr>\n",
       "    <tr>\n",
       "      <th>13</th>\n",
       "      <td>12</td>\n",
       "      <td>19</td>\n",
       "      <td>12_test_testing_tester_qa</td>\n",
       "      <td>[test, testing, tester, qa, automation, tests,...</td>\n",
       "      <td>[Position: Software Tester Reports to: Group H...</td>\n",
       "    </tr>\n",
       "    <tr>\n",
       "      <th>14</th>\n",
       "      <td>13</td>\n",
       "      <td>18</td>\n",
       "      <td>13_apple_gpu_amd_apples</td>\n",
       "      <td>[apple, gpu, amd, apples, graphics, compiler, ...</td>\n",
       "      <td>[Summary Posted: 16 Jan 2024 Role Number:20052...</td>\n",
       "    </tr>\n",
       "    <tr>\n",
       "      <th>15</th>\n",
       "      <td>14</td>\n",
       "      <td>18</td>\n",
       "      <td>14_gsk_study_dpo_statistical</td>\n",
       "      <td>[gsk, study, dpo, statistical, data, rwe, phas...</td>\n",
       "      <td>[Job title Data Protection Officer - Life Scie...</td>\n",
       "    </tr>\n",
       "    <tr>\n",
       "      <th>16</th>\n",
       "      <td>15</td>\n",
       "      <td>18</td>\n",
       "      <td>15_aecom_chartership_surveying_world</td>\n",
       "      <td>[aecom, chartership, surveying, world, cost, e...</td>\n",
       "      <td>[About AECOM AECOM is the world’s trusted infr...</td>\n",
       "    </tr>\n",
       "    <tr>\n",
       "      <th>17</th>\n",
       "      <td>16</td>\n",
       "      <td>17</td>\n",
       "      <td>16_blackrock_financial_cash_treasury</td>\n",
       "      <td>[blackrock, financial, cash, treasury, finance...</td>\n",
       "      <td>[About BlackRock BlackRock’s purpose is to hel...</td>\n",
       "    </tr>\n",
       "    <tr>\n",
       "      <th>18</th>\n",
       "      <td>17</td>\n",
       "      <td>17</td>\n",
       "      <td>17_meta_frostbite_asb_build</td>\n",
       "      <td>[meta, frostbite, asb, build, software, featur...</td>\n",
       "      <td>[We are the teams who create all of Facebook’s...</td>\n",
       "    </tr>\n",
       "    <tr>\n",
       "      <th>19</th>\n",
       "      <td>18</td>\n",
       "      <td>17</td>\n",
       "      <td>18_bae_youll_chosen_lifestyle</td>\n",
       "      <td>[bae, youll, chosen, lifestyle, suit, export, ...</td>\n",
       "      <td>[What you’ll be doing: As a Graduate you will ...</td>\n",
       "    </tr>\n",
       "    <tr>\n",
       "      <th>20</th>\n",
       "      <td>19</td>\n",
       "      <td>16</td>\n",
       "      <td>19_ict_police_wales_south</td>\n",
       "      <td>[ict, police, wales, south, wc, july, force, v...</td>\n",
       "      <td>[About us South Wales Police is the largest po...</td>\n",
       "    </tr>\n",
       "    <tr>\n",
       "      <th>21</th>\n",
       "      <td>20</td>\n",
       "      <td>15</td>\n",
       "      <td>20_audit_risk_axa_sbc</td>\n",
       "      <td>[audit, risk, axa, sbc, dcp, deloitte, insider...</td>\n",
       "      <td>[Job details Location: Aberdeen, Birmingham, B...</td>\n",
       "    </tr>\n",
       "    <tr>\n",
       "      <th>22</th>\n",
       "      <td>21</td>\n",
       "      <td>14</td>\n",
       "      <td>21_mercedes_amg_hpp_formula</td>\n",
       "      <td>[mercedes, amg, hpp, formula, motor, embedded,...</td>\n",
       "      <td>[About Us The AAPS CDT is jointly funded by EP...</td>\n",
       "    </tr>\n",
       "    <tr>\n",
       "      <th>23</th>\n",
       "      <td>22</td>\n",
       "      <td>14</td>\n",
       "      <td>22_leonardo_coursera_4000_graduate</td>\n",
       "      <td>[leonardo, coursera, 4000, graduate, engineeri...</td>\n",
       "      <td>[Our 12 month Graduate Programme Joining the L...</td>\n",
       "    </tr>\n",
       "    <tr>\n",
       "      <th>24</th>\n",
       "      <td>23</td>\n",
       "      <td>12</td>\n",
       "      <td>23_officer_royal_army_youll</td>\n",
       "      <td>[officer, royal, army, youll, need, golden, sa...</td>\n",
       "      <td>[What you'll do As a Weapon Engineer Officer, ...</td>\n",
       "    </tr>\n",
       "    <tr>\n",
       "      <th>25</th>\n",
       "      <td>24</td>\n",
       "      <td>12</td>\n",
       "      <td>24_audio_game_studios_games</td>\n",
       "      <td>[audio, game, studios, games, reality, meta, 3...</td>\n",
       "      <td>[Reality Labs at Meta is building products tha...</td>\n",
       "    </tr>\n",
       "    <tr>\n",
       "      <th>26</th>\n",
       "      <td>25</td>\n",
       "      <td>11</td>\n",
       "      <td>25_network_steris_infrastructure_palo</td>\n",
       "      <td>[network, steris, infrastructure, palo, alto, ...</td>\n",
       "      <td>[Description Reports to: Head of Infrastructur...</td>\n",
       "    </tr>\n",
       "    <tr>\n",
       "      <th>27</th>\n",
       "      <td>26</td>\n",
       "      <td>11</td>\n",
       "      <td>26_bae_system_youll_systems</td>\n",
       "      <td>[bae, system, youll, systems, astute, needsreq...</td>\n",
       "      <td>[What you’ll be doing: Do you want to work at ...</td>\n",
       "    </tr>\n",
       "    <tr>\n",
       "      <th>28</th>\n",
       "      <td>27</td>\n",
       "      <td>10</td>\n",
       "      <td>27_medpace_cincinnati_tidalsense_boston</td>\n",
       "      <td>[medpace, cincinnati, tidalsense, boston, resp...</td>\n",
       "      <td>[About TidalSense TidalSense is a respiratory ...</td>\n",
       "    </tr>\n",
       "  </tbody>\n",
       "</table>\n",
       "</div>"
      ],
      "text/plain": [
       "    Topic  Count                                          Name  \\\n",
       "0      -1    335                             -1_we_is_our_team   \n",
       "1       0    100              0_web_developer_backend_software   \n",
       "2       1     89                  1_data_bi_analytics_insights   \n",
       "3       2     77        2_energy_engineering_carbon_electrical   \n",
       "4       3     73                   3_support_issues_it_service   \n",
       "5       4     61                  4_ai_machine_learning_models   \n",
       "6       5     48                     5_product_business_kt_bcg   \n",
       "7       6     40                 6_grayce_civil_opens_training   \n",
       "8       7     36       7_cern_fundamental_physicists_particles   \n",
       "9       8     29      8_blackrock_investment_blackrocks_submit   \n",
       "10      9     26  9_security_cyber_cybersecurity_vulnerability   \n",
       "11     10     25           10_reply_surrounded_microsoft_cloud   \n",
       "12     11     22        11_tpp_healthcare_outstanding_patients   \n",
       "13     12     19                     12_test_testing_tester_qa   \n",
       "14     13     18                       13_apple_gpu_amd_apples   \n",
       "15     14     18                  14_gsk_study_dpo_statistical   \n",
       "16     15     18          15_aecom_chartership_surveying_world   \n",
       "17     16     17          16_blackrock_financial_cash_treasury   \n",
       "18     17     17                   17_meta_frostbite_asb_build   \n",
       "19     18     17                 18_bae_youll_chosen_lifestyle   \n",
       "20     19     16                     19_ict_police_wales_south   \n",
       "21     20     15                         20_audit_risk_axa_sbc   \n",
       "22     21     14                   21_mercedes_amg_hpp_formula   \n",
       "23     22     14            22_leonardo_coursera_4000_graduate   \n",
       "24     23     12                   23_officer_royal_army_youll   \n",
       "25     24     12                   24_audio_game_studios_games   \n",
       "26     25     11         25_network_steris_infrastructure_palo   \n",
       "27     26     11                   26_bae_system_youll_systems   \n",
       "28     27     10       27_medpace_cincinnati_tidalsense_boston   \n",
       "\n",
       "                                       Representation  \\\n",
       "0   [we, is, our, team, are, will, be, you, experi...   \n",
       "1   [web, developer, backend, software, frontend, ...   \n",
       "2   [data, bi, analytics, insights, science, sql, ...   \n",
       "3   [energy, engineering, carbon, electrical, powe...   \n",
       "4   [support, issues, it, service, customer, techn...   \n",
       "5   [ai, machine, learning, models, ml, algorithms...   \n",
       "6   [product, business, kt, bcg, analyst, manageme...   \n",
       "7   [grayce, civil, opens, training, digital, wind...   \n",
       "8   [cern, fundamental, physicists, particles, cer...   \n",
       "9   [blackrock, investment, blackrocks, submit, pr...   \n",
       "10  [security, cyber, cybersecurity, vulnerability...   \n",
       "11  [reply, surrounded, microsoft, cloud, 365, gra...   \n",
       "12  [tpp, healthcare, outstanding, patients, salar...   \n",
       "13  [test, testing, tester, qa, automation, tests,...   \n",
       "14  [apple, gpu, amd, apples, graphics, compiler, ...   \n",
       "15  [gsk, study, dpo, statistical, data, rwe, phas...   \n",
       "16  [aecom, chartership, surveying, world, cost, e...   \n",
       "17  [blackrock, financial, cash, treasury, finance...   \n",
       "18  [meta, frostbite, asb, build, software, featur...   \n",
       "19  [bae, youll, chosen, lifestyle, suit, export, ...   \n",
       "20  [ict, police, wales, south, wc, july, force, v...   \n",
       "21  [audit, risk, axa, sbc, dcp, deloitte, insider...   \n",
       "22  [mercedes, amg, hpp, formula, motor, embedded,...   \n",
       "23  [leonardo, coursera, 4000, graduate, engineeri...   \n",
       "24  [officer, royal, army, youll, need, golden, sa...   \n",
       "25  [audio, game, studios, games, reality, meta, 3...   \n",
       "26  [network, steris, infrastructure, palo, alto, ...   \n",
       "27  [bae, system, youll, systems, astute, needsreq...   \n",
       "28  [medpace, cincinnati, tidalsense, boston, resp...   \n",
       "\n",
       "                                  Representative_Docs  \n",
       "0   [At GSK, we want to supercharge our data capab...  \n",
       "1   [BIG Motoring World Head of Software Developme...  \n",
       "2   [Overview As one of the fastest-growing and hi...  \n",
       "3   [Job Advert This is an outstanding opportunity...  \n",
       "4   [Work Location : London, United Kingdom Hours:...  \n",
       "5   [Deep Learning Engineer (NLP) London, hybrid o...  \n",
       "6   [Description QR's reputation for product data ...  \n",
       "7   [The opportunity We’re looking for an experien...  \n",
       "8   [About us At CERN, the European Organisation f...  \n",
       "9   [The Full-Time Analyst Programme is for candid...  \n",
       "10  [Job Title: Reconnaissance HUMINT Analyst Abou...  \n",
       "11  [About WM Reply: WM Reply is the Reply Group c...  \n",
       "12  [About TPP TPP is a world-leader in Digital He...  \n",
       "13  [Position: Software Tester Reports to: Group H...  \n",
       "14  [Summary Posted: 16 Jan 2024 Role Number:20052...  \n",
       "15  [Job title Data Protection Officer - Life Scie...  \n",
       "16  [About AECOM AECOM is the world’s trusted infr...  \n",
       "17  [About BlackRock BlackRock’s purpose is to hel...  \n",
       "18  [We are the teams who create all of Facebook’s...  \n",
       "19  [What you’ll be doing: As a Graduate you will ...  \n",
       "20  [About us South Wales Police is the largest po...  \n",
       "21  [Job details Location: Aberdeen, Birmingham, B...  \n",
       "22  [About Us The AAPS CDT is jointly funded by EP...  \n",
       "23  [Our 12 month Graduate Programme Joining the L...  \n",
       "24  [What you'll do As a Weapon Engineer Officer, ...  \n",
       "25  [Reality Labs at Meta is building products tha...  \n",
       "26  [Description Reports to: Head of Infrastructur...  \n",
       "27  [What you’ll be doing: Do you want to work at ...  \n",
       "28  [About TidalSense TidalSense is a respiratory ...  "
      ]
     },
     "execution_count": 38,
     "metadata": {},
     "output_type": "execute_result"
    }
   ],
   "source": [
    "topic_model.get_topic_info()"
   ]
  },
  {
   "cell_type": "code",
   "execution_count": 39,
   "metadata": {},
   "outputs": [
    {
     "data": {
      "application/vnd.plotly.v1+json": {
       "config": {
        "plotlyServerURL": "https://plot.ly"
       },
       "data": [
        {
         "customdata": [
          [
           0,
           "web | developer | backend | software | frontend",
           100
          ],
          [
           1,
           "data | bi | analytics | insights | science",
           89
          ],
          [
           2,
           "energy | engineering | carbon | electrical | power",
           77
          ],
          [
           3,
           "support | issues | it | service | customer",
           73
          ],
          [
           4,
           "ai | machine | learning | models | ml",
           61
          ],
          [
           5,
           "product | business | kt | bcg | analyst",
           48
          ],
          [
           6,
           "grayce | civil | opens | training | digital",
           40
          ],
          [
           7,
           "cern | fundamental | physicists | particles | cerns",
           36
          ],
          [
           8,
           "blackrock | investment | blackrocks | submit | programme",
           29
          ],
          [
           9,
           "security | cyber | cybersecurity | vulnerability | threat",
           26
          ],
          [
           10,
           "reply | surrounded | microsoft | cloud | 365",
           25
          ],
          [
           11,
           "tpp | healthcare | outstanding | patients | salary",
           22
          ],
          [
           12,
           "test | testing | tester | qa | automation",
           19
          ],
          [
           13,
           "apple | gpu | amd | apples | graphics",
           18
          ],
          [
           14,
           "gsk | study | dpo | statistical | data",
           18
          ],
          [
           15,
           "aecom | chartership | surveying | world | cost",
           18
          ],
          [
           16,
           "blackrock | financial | cash | treasury | finance",
           17
          ],
          [
           17,
           "meta | frostbite | asb | build | software",
           17
          ],
          [
           18,
           "bae | youll | chosen | lifestyle | suit",
           17
          ],
          [
           19,
           "ict | police | wales | south | wc",
           16
          ],
          [
           20,
           "audit | risk | axa | sbc | dcp",
           15
          ],
          [
           21,
           "mercedes | amg | hpp | formula | motor",
           14
          ],
          [
           22,
           "leonardo | coursera | 4000 | graduate | engineering",
           14
          ],
          [
           23,
           "officer | royal | army | youll | need",
           12
          ],
          [
           24,
           "audio | game | studios | games | reality",
           12
          ],
          [
           25,
           "network | steris | infrastructure | palo | alto",
           11
          ],
          [
           26,
           "bae | system | youll | systems | astute",
           11
          ],
          [
           27,
           "medpace | cincinnati | tidalsense | boston | respiratory",
           10
          ]
         ],
         "hovertemplate": "<b>Topic %{customdata[0]}</b><br>%{customdata[1]}<br>Size: %{customdata[2]}",
         "legendgroup": "",
         "marker": {
          "color": "#B0BEC5",
          "line": {
           "color": "DarkSlateGrey",
           "width": 2
          },
          "size": [
           100,
           89,
           77,
           73,
           61,
           48,
           40,
           36,
           29,
           26,
           25,
           22,
           19,
           18,
           18,
           18,
           17,
           17,
           17,
           16,
           15,
           14,
           14,
           12,
           12,
           11,
           11,
           10
          ],
          "sizemode": "area",
          "sizeref": 0.0625,
          "symbol": "circle"
         },
         "mode": "markers",
         "name": "",
         "orientation": "v",
         "showlegend": false,
         "type": "scatter",
         "x": [
          -0.36099526286125183,
          9.725078582763672,
          -1.1804730892181396,
          4.510149002075195,
          9.868367195129395,
          9.59394645690918,
          -1.334576964378357,
          0.4345625936985016,
          -6.964032173156738,
          9.124171257019043,
          -0.024475084617733955,
          2.547497272491455,
          -0.19584016501903534,
          -0.401837557554245,
          2.159796953201294,
          -7.317809581756592,
          -7.083776473999023,
          -0.11586569994688034,
          16.897260665893555,
          4.708377838134766,
          9.33572769165039,
          -0.38845011591911316,
          -1.4695861339569092,
          17.007083892822266,
          0.1371920257806778,
          4.561276912689209,
          16.63918685913086,
          2.42710280418396
         ],
         "xaxis": "x",
         "y": [
          -5.56671667098999,
          13.317596435546875,
          -5.197375297546387,
          4.670805931091309,
          13.483790397644043,
          12.998245239257812,
          -5.013373374938965,
          -5.458245277404785,
          10.923892974853516,
          12.994458198547363,
          -5.548490524291992,
          -19.920011520385742,
          -5.943445682525635,
          -4.799825191497803,
          -20.307634353637695,
          11.277713775634766,
          11.043606758117676,
          -4.960381984710693,
          7.901741027832031,
          4.868927478790283,
          12.82092571258545,
          -4.410740375518799,
          -4.935729026794434,
          7.791895389556885,
          -4.761857509613037,
          4.721822261810303,
          8.159552574157715,
          -20.04046630859375
         ],
         "yaxis": "y"
        }
       ],
       "layout": {
        "annotations": [
         {
          "showarrow": false,
          "text": "D1",
          "x": -8.415481019020081,
          "y": -3.92371027469635,
          "yshift": 10
         },
         {
          "showarrow": false,
          "text": "D2",
          "x": 5.571332728862762,
          "xshift": 10,
          "y": 15.506358957290649
         }
        ],
        "height": 650,
        "hoverlabel": {
         "bgcolor": "white",
         "font": {
          "family": "Rockwell",
          "size": 16
         }
        },
        "legend": {
         "itemsizing": "constant",
         "tracegroupgap": 0
        },
        "margin": {
         "t": 60
        },
        "shapes": [
         {
          "line": {
           "color": "#CFD8DC",
           "width": 2
          },
          "type": "line",
          "x0": 5.571332728862762,
          "x1": 5.571332728862762,
          "y0": -23.35377950668335,
          "y1": 15.506358957290649
         },
         {
          "line": {
           "color": "#9E9E9E",
           "width": 2
          },
          "type": "line",
          "x0": -8.415481019020081,
          "x1": 19.558146476745605,
          "y0": -3.92371027469635,
          "y1": -3.92371027469635
         }
        ],
        "sliders": [
         {
          "active": 0,
          "pad": {
           "t": 50
          },
          "steps": [
           {
            "args": [
             {
              "marker.color": [
               [
                "red",
                "#B0BEC5",
                "#B0BEC5",
                "#B0BEC5",
                "#B0BEC5",
                "#B0BEC5",
                "#B0BEC5",
                "#B0BEC5",
                "#B0BEC5",
                "#B0BEC5",
                "#B0BEC5",
                "#B0BEC5",
                "#B0BEC5",
                "#B0BEC5",
                "#B0BEC5",
                "#B0BEC5",
                "#B0BEC5",
                "#B0BEC5",
                "#B0BEC5",
                "#B0BEC5",
                "#B0BEC5",
                "#B0BEC5",
                "#B0BEC5",
                "#B0BEC5",
                "#B0BEC5",
                "#B0BEC5",
                "#B0BEC5",
                "#B0BEC5"
               ]
              ]
             }
            ],
            "label": "Topic 0",
            "method": "update"
           },
           {
            "args": [
             {
              "marker.color": [
               [
                "#B0BEC5",
                "red",
                "#B0BEC5",
                "#B0BEC5",
                "#B0BEC5",
                "#B0BEC5",
                "#B0BEC5",
                "#B0BEC5",
                "#B0BEC5",
                "#B0BEC5",
                "#B0BEC5",
                "#B0BEC5",
                "#B0BEC5",
                "#B0BEC5",
                "#B0BEC5",
                "#B0BEC5",
                "#B0BEC5",
                "#B0BEC5",
                "#B0BEC5",
                "#B0BEC5",
                "#B0BEC5",
                "#B0BEC5",
                "#B0BEC5",
                "#B0BEC5",
                "#B0BEC5",
                "#B0BEC5",
                "#B0BEC5",
                "#B0BEC5"
               ]
              ]
             }
            ],
            "label": "Topic 1",
            "method": "update"
           },
           {
            "args": [
             {
              "marker.color": [
               [
                "#B0BEC5",
                "#B0BEC5",
                "red",
                "#B0BEC5",
                "#B0BEC5",
                "#B0BEC5",
                "#B0BEC5",
                "#B0BEC5",
                "#B0BEC5",
                "#B0BEC5",
                "#B0BEC5",
                "#B0BEC5",
                "#B0BEC5",
                "#B0BEC5",
                "#B0BEC5",
                "#B0BEC5",
                "#B0BEC5",
                "#B0BEC5",
                "#B0BEC5",
                "#B0BEC5",
                "#B0BEC5",
                "#B0BEC5",
                "#B0BEC5",
                "#B0BEC5",
                "#B0BEC5",
                "#B0BEC5",
                "#B0BEC5",
                "#B0BEC5"
               ]
              ]
             }
            ],
            "label": "Topic 2",
            "method": "update"
           },
           {
            "args": [
             {
              "marker.color": [
               [
                "#B0BEC5",
                "#B0BEC5",
                "#B0BEC5",
                "red",
                "#B0BEC5",
                "#B0BEC5",
                "#B0BEC5",
                "#B0BEC5",
                "#B0BEC5",
                "#B0BEC5",
                "#B0BEC5",
                "#B0BEC5",
                "#B0BEC5",
                "#B0BEC5",
                "#B0BEC5",
                "#B0BEC5",
                "#B0BEC5",
                "#B0BEC5",
                "#B0BEC5",
                "#B0BEC5",
                "#B0BEC5",
                "#B0BEC5",
                "#B0BEC5",
                "#B0BEC5",
                "#B0BEC5",
                "#B0BEC5",
                "#B0BEC5",
                "#B0BEC5"
               ]
              ]
             }
            ],
            "label": "Topic 3",
            "method": "update"
           },
           {
            "args": [
             {
              "marker.color": [
               [
                "#B0BEC5",
                "#B0BEC5",
                "#B0BEC5",
                "#B0BEC5",
                "red",
                "#B0BEC5",
                "#B0BEC5",
                "#B0BEC5",
                "#B0BEC5",
                "#B0BEC5",
                "#B0BEC5",
                "#B0BEC5",
                "#B0BEC5",
                "#B0BEC5",
                "#B0BEC5",
                "#B0BEC5",
                "#B0BEC5",
                "#B0BEC5",
                "#B0BEC5",
                "#B0BEC5",
                "#B0BEC5",
                "#B0BEC5",
                "#B0BEC5",
                "#B0BEC5",
                "#B0BEC5",
                "#B0BEC5",
                "#B0BEC5",
                "#B0BEC5"
               ]
              ]
             }
            ],
            "label": "Topic 4",
            "method": "update"
           },
           {
            "args": [
             {
              "marker.color": [
               [
                "#B0BEC5",
                "#B0BEC5",
                "#B0BEC5",
                "#B0BEC5",
                "#B0BEC5",
                "red",
                "#B0BEC5",
                "#B0BEC5",
                "#B0BEC5",
                "#B0BEC5",
                "#B0BEC5",
                "#B0BEC5",
                "#B0BEC5",
                "#B0BEC5",
                "#B0BEC5",
                "#B0BEC5",
                "#B0BEC5",
                "#B0BEC5",
                "#B0BEC5",
                "#B0BEC5",
                "#B0BEC5",
                "#B0BEC5",
                "#B0BEC5",
                "#B0BEC5",
                "#B0BEC5",
                "#B0BEC5",
                "#B0BEC5",
                "#B0BEC5"
               ]
              ]
             }
            ],
            "label": "Topic 5",
            "method": "update"
           },
           {
            "args": [
             {
              "marker.color": [
               [
                "#B0BEC5",
                "#B0BEC5",
                "#B0BEC5",
                "#B0BEC5",
                "#B0BEC5",
                "#B0BEC5",
                "red",
                "#B0BEC5",
                "#B0BEC5",
                "#B0BEC5",
                "#B0BEC5",
                "#B0BEC5",
                "#B0BEC5",
                "#B0BEC5",
                "#B0BEC5",
                "#B0BEC5",
                "#B0BEC5",
                "#B0BEC5",
                "#B0BEC5",
                "#B0BEC5",
                "#B0BEC5",
                "#B0BEC5",
                "#B0BEC5",
                "#B0BEC5",
                "#B0BEC5",
                "#B0BEC5",
                "#B0BEC5",
                "#B0BEC5"
               ]
              ]
             }
            ],
            "label": "Topic 6",
            "method": "update"
           },
           {
            "args": [
             {
              "marker.color": [
               [
                "#B0BEC5",
                "#B0BEC5",
                "#B0BEC5",
                "#B0BEC5",
                "#B0BEC5",
                "#B0BEC5",
                "#B0BEC5",
                "red",
                "#B0BEC5",
                "#B0BEC5",
                "#B0BEC5",
                "#B0BEC5",
                "#B0BEC5",
                "#B0BEC5",
                "#B0BEC5",
                "#B0BEC5",
                "#B0BEC5",
                "#B0BEC5",
                "#B0BEC5",
                "#B0BEC5",
                "#B0BEC5",
                "#B0BEC5",
                "#B0BEC5",
                "#B0BEC5",
                "#B0BEC5",
                "#B0BEC5",
                "#B0BEC5",
                "#B0BEC5"
               ]
              ]
             }
            ],
            "label": "Topic 7",
            "method": "update"
           },
           {
            "args": [
             {
              "marker.color": [
               [
                "#B0BEC5",
                "#B0BEC5",
                "#B0BEC5",
                "#B0BEC5",
                "#B0BEC5",
                "#B0BEC5",
                "#B0BEC5",
                "#B0BEC5",
                "red",
                "#B0BEC5",
                "#B0BEC5",
                "#B0BEC5",
                "#B0BEC5",
                "#B0BEC5",
                "#B0BEC5",
                "#B0BEC5",
                "#B0BEC5",
                "#B0BEC5",
                "#B0BEC5",
                "#B0BEC5",
                "#B0BEC5",
                "#B0BEC5",
                "#B0BEC5",
                "#B0BEC5",
                "#B0BEC5",
                "#B0BEC5",
                "#B0BEC5",
                "#B0BEC5"
               ]
              ]
             }
            ],
            "label": "Topic 8",
            "method": "update"
           },
           {
            "args": [
             {
              "marker.color": [
               [
                "#B0BEC5",
                "#B0BEC5",
                "#B0BEC5",
                "#B0BEC5",
                "#B0BEC5",
                "#B0BEC5",
                "#B0BEC5",
                "#B0BEC5",
                "#B0BEC5",
                "red",
                "#B0BEC5",
                "#B0BEC5",
                "#B0BEC5",
                "#B0BEC5",
                "#B0BEC5",
                "#B0BEC5",
                "#B0BEC5",
                "#B0BEC5",
                "#B0BEC5",
                "#B0BEC5",
                "#B0BEC5",
                "#B0BEC5",
                "#B0BEC5",
                "#B0BEC5",
                "#B0BEC5",
                "#B0BEC5",
                "#B0BEC5",
                "#B0BEC5"
               ]
              ]
             }
            ],
            "label": "Topic 9",
            "method": "update"
           },
           {
            "args": [
             {
              "marker.color": [
               [
                "#B0BEC5",
                "#B0BEC5",
                "#B0BEC5",
                "#B0BEC5",
                "#B0BEC5",
                "#B0BEC5",
                "#B0BEC5",
                "#B0BEC5",
                "#B0BEC5",
                "#B0BEC5",
                "red",
                "#B0BEC5",
                "#B0BEC5",
                "#B0BEC5",
                "#B0BEC5",
                "#B0BEC5",
                "#B0BEC5",
                "#B0BEC5",
                "#B0BEC5",
                "#B0BEC5",
                "#B0BEC5",
                "#B0BEC5",
                "#B0BEC5",
                "#B0BEC5",
                "#B0BEC5",
                "#B0BEC5",
                "#B0BEC5",
                "#B0BEC5"
               ]
              ]
             }
            ],
            "label": "Topic 10",
            "method": "update"
           },
           {
            "args": [
             {
              "marker.color": [
               [
                "#B0BEC5",
                "#B0BEC5",
                "#B0BEC5",
                "#B0BEC5",
                "#B0BEC5",
                "#B0BEC5",
                "#B0BEC5",
                "#B0BEC5",
                "#B0BEC5",
                "#B0BEC5",
                "#B0BEC5",
                "red",
                "#B0BEC5",
                "#B0BEC5",
                "#B0BEC5",
                "#B0BEC5",
                "#B0BEC5",
                "#B0BEC5",
                "#B0BEC5",
                "#B0BEC5",
                "#B0BEC5",
                "#B0BEC5",
                "#B0BEC5",
                "#B0BEC5",
                "#B0BEC5",
                "#B0BEC5",
                "#B0BEC5",
                "#B0BEC5"
               ]
              ]
             }
            ],
            "label": "Topic 11",
            "method": "update"
           },
           {
            "args": [
             {
              "marker.color": [
               [
                "#B0BEC5",
                "#B0BEC5",
                "#B0BEC5",
                "#B0BEC5",
                "#B0BEC5",
                "#B0BEC5",
                "#B0BEC5",
                "#B0BEC5",
                "#B0BEC5",
                "#B0BEC5",
                "#B0BEC5",
                "#B0BEC5",
                "red",
                "#B0BEC5",
                "#B0BEC5",
                "#B0BEC5",
                "#B0BEC5",
                "#B0BEC5",
                "#B0BEC5",
                "#B0BEC5",
                "#B0BEC5",
                "#B0BEC5",
                "#B0BEC5",
                "#B0BEC5",
                "#B0BEC5",
                "#B0BEC5",
                "#B0BEC5",
                "#B0BEC5"
               ]
              ]
             }
            ],
            "label": "Topic 12",
            "method": "update"
           },
           {
            "args": [
             {
              "marker.color": [
               [
                "#B0BEC5",
                "#B0BEC5",
                "#B0BEC5",
                "#B0BEC5",
                "#B0BEC5",
                "#B0BEC5",
                "#B0BEC5",
                "#B0BEC5",
                "#B0BEC5",
                "#B0BEC5",
                "#B0BEC5",
                "#B0BEC5",
                "#B0BEC5",
                "red",
                "#B0BEC5",
                "#B0BEC5",
                "#B0BEC5",
                "#B0BEC5",
                "#B0BEC5",
                "#B0BEC5",
                "#B0BEC5",
                "#B0BEC5",
                "#B0BEC5",
                "#B0BEC5",
                "#B0BEC5",
                "#B0BEC5",
                "#B0BEC5",
                "#B0BEC5"
               ]
              ]
             }
            ],
            "label": "Topic 13",
            "method": "update"
           },
           {
            "args": [
             {
              "marker.color": [
               [
                "#B0BEC5",
                "#B0BEC5",
                "#B0BEC5",
                "#B0BEC5",
                "#B0BEC5",
                "#B0BEC5",
                "#B0BEC5",
                "#B0BEC5",
                "#B0BEC5",
                "#B0BEC5",
                "#B0BEC5",
                "#B0BEC5",
                "#B0BEC5",
                "#B0BEC5",
                "red",
                "#B0BEC5",
                "#B0BEC5",
                "#B0BEC5",
                "#B0BEC5",
                "#B0BEC5",
                "#B0BEC5",
                "#B0BEC5",
                "#B0BEC5",
                "#B0BEC5",
                "#B0BEC5",
                "#B0BEC5",
                "#B0BEC5",
                "#B0BEC5"
               ]
              ]
             }
            ],
            "label": "Topic 14",
            "method": "update"
           },
           {
            "args": [
             {
              "marker.color": [
               [
                "#B0BEC5",
                "#B0BEC5",
                "#B0BEC5",
                "#B0BEC5",
                "#B0BEC5",
                "#B0BEC5",
                "#B0BEC5",
                "#B0BEC5",
                "#B0BEC5",
                "#B0BEC5",
                "#B0BEC5",
                "#B0BEC5",
                "#B0BEC5",
                "#B0BEC5",
                "#B0BEC5",
                "red",
                "#B0BEC5",
                "#B0BEC5",
                "#B0BEC5",
                "#B0BEC5",
                "#B0BEC5",
                "#B0BEC5",
                "#B0BEC5",
                "#B0BEC5",
                "#B0BEC5",
                "#B0BEC5",
                "#B0BEC5",
                "#B0BEC5"
               ]
              ]
             }
            ],
            "label": "Topic 15",
            "method": "update"
           },
           {
            "args": [
             {
              "marker.color": [
               [
                "#B0BEC5",
                "#B0BEC5",
                "#B0BEC5",
                "#B0BEC5",
                "#B0BEC5",
                "#B0BEC5",
                "#B0BEC5",
                "#B0BEC5",
                "#B0BEC5",
                "#B0BEC5",
                "#B0BEC5",
                "#B0BEC5",
                "#B0BEC5",
                "#B0BEC5",
                "#B0BEC5",
                "#B0BEC5",
                "red",
                "#B0BEC5",
                "#B0BEC5",
                "#B0BEC5",
                "#B0BEC5",
                "#B0BEC5",
                "#B0BEC5",
                "#B0BEC5",
                "#B0BEC5",
                "#B0BEC5",
                "#B0BEC5",
                "#B0BEC5"
               ]
              ]
             }
            ],
            "label": "Topic 16",
            "method": "update"
           },
           {
            "args": [
             {
              "marker.color": [
               [
                "#B0BEC5",
                "#B0BEC5",
                "#B0BEC5",
                "#B0BEC5",
                "#B0BEC5",
                "#B0BEC5",
                "#B0BEC5",
                "#B0BEC5",
                "#B0BEC5",
                "#B0BEC5",
                "#B0BEC5",
                "#B0BEC5",
                "#B0BEC5",
                "#B0BEC5",
                "#B0BEC5",
                "#B0BEC5",
                "#B0BEC5",
                "red",
                "#B0BEC5",
                "#B0BEC5",
                "#B0BEC5",
                "#B0BEC5",
                "#B0BEC5",
                "#B0BEC5",
                "#B0BEC5",
                "#B0BEC5",
                "#B0BEC5",
                "#B0BEC5"
               ]
              ]
             }
            ],
            "label": "Topic 17",
            "method": "update"
           },
           {
            "args": [
             {
              "marker.color": [
               [
                "#B0BEC5",
                "#B0BEC5",
                "#B0BEC5",
                "#B0BEC5",
                "#B0BEC5",
                "#B0BEC5",
                "#B0BEC5",
                "#B0BEC5",
                "#B0BEC5",
                "#B0BEC5",
                "#B0BEC5",
                "#B0BEC5",
                "#B0BEC5",
                "#B0BEC5",
                "#B0BEC5",
                "#B0BEC5",
                "#B0BEC5",
                "#B0BEC5",
                "red",
                "#B0BEC5",
                "#B0BEC5",
                "#B0BEC5",
                "#B0BEC5",
                "#B0BEC5",
                "#B0BEC5",
                "#B0BEC5",
                "#B0BEC5",
                "#B0BEC5"
               ]
              ]
             }
            ],
            "label": "Topic 18",
            "method": "update"
           },
           {
            "args": [
             {
              "marker.color": [
               [
                "#B0BEC5",
                "#B0BEC5",
                "#B0BEC5",
                "#B0BEC5",
                "#B0BEC5",
                "#B0BEC5",
                "#B0BEC5",
                "#B0BEC5",
                "#B0BEC5",
                "#B0BEC5",
                "#B0BEC5",
                "#B0BEC5",
                "#B0BEC5",
                "#B0BEC5",
                "#B0BEC5",
                "#B0BEC5",
                "#B0BEC5",
                "#B0BEC5",
                "#B0BEC5",
                "red",
                "#B0BEC5",
                "#B0BEC5",
                "#B0BEC5",
                "#B0BEC5",
                "#B0BEC5",
                "#B0BEC5",
                "#B0BEC5",
                "#B0BEC5"
               ]
              ]
             }
            ],
            "label": "Topic 19",
            "method": "update"
           },
           {
            "args": [
             {
              "marker.color": [
               [
                "#B0BEC5",
                "#B0BEC5",
                "#B0BEC5",
                "#B0BEC5",
                "#B0BEC5",
                "#B0BEC5",
                "#B0BEC5",
                "#B0BEC5",
                "#B0BEC5",
                "#B0BEC5",
                "#B0BEC5",
                "#B0BEC5",
                "#B0BEC5",
                "#B0BEC5",
                "#B0BEC5",
                "#B0BEC5",
                "#B0BEC5",
                "#B0BEC5",
                "#B0BEC5",
                "#B0BEC5",
                "red",
                "#B0BEC5",
                "#B0BEC5",
                "#B0BEC5",
                "#B0BEC5",
                "#B0BEC5",
                "#B0BEC5",
                "#B0BEC5"
               ]
              ]
             }
            ],
            "label": "Topic 20",
            "method": "update"
           },
           {
            "args": [
             {
              "marker.color": [
               [
                "#B0BEC5",
                "#B0BEC5",
                "#B0BEC5",
                "#B0BEC5",
                "#B0BEC5",
                "#B0BEC5",
                "#B0BEC5",
                "#B0BEC5",
                "#B0BEC5",
                "#B0BEC5",
                "#B0BEC5",
                "#B0BEC5",
                "#B0BEC5",
                "#B0BEC5",
                "#B0BEC5",
                "#B0BEC5",
                "#B0BEC5",
                "#B0BEC5",
                "#B0BEC5",
                "#B0BEC5",
                "#B0BEC5",
                "red",
                "#B0BEC5",
                "#B0BEC5",
                "#B0BEC5",
                "#B0BEC5",
                "#B0BEC5",
                "#B0BEC5"
               ]
              ]
             }
            ],
            "label": "Topic 21",
            "method": "update"
           },
           {
            "args": [
             {
              "marker.color": [
               [
                "#B0BEC5",
                "#B0BEC5",
                "#B0BEC5",
                "#B0BEC5",
                "#B0BEC5",
                "#B0BEC5",
                "#B0BEC5",
                "#B0BEC5",
                "#B0BEC5",
                "#B0BEC5",
                "#B0BEC5",
                "#B0BEC5",
                "#B0BEC5",
                "#B0BEC5",
                "#B0BEC5",
                "#B0BEC5",
                "#B0BEC5",
                "#B0BEC5",
                "#B0BEC5",
                "#B0BEC5",
                "#B0BEC5",
                "#B0BEC5",
                "red",
                "#B0BEC5",
                "#B0BEC5",
                "#B0BEC5",
                "#B0BEC5",
                "#B0BEC5"
               ]
              ]
             }
            ],
            "label": "Topic 22",
            "method": "update"
           },
           {
            "args": [
             {
              "marker.color": [
               [
                "#B0BEC5",
                "#B0BEC5",
                "#B0BEC5",
                "#B0BEC5",
                "#B0BEC5",
                "#B0BEC5",
                "#B0BEC5",
                "#B0BEC5",
                "#B0BEC5",
                "#B0BEC5",
                "#B0BEC5",
                "#B0BEC5",
                "#B0BEC5",
                "#B0BEC5",
                "#B0BEC5",
                "#B0BEC5",
                "#B0BEC5",
                "#B0BEC5",
                "#B0BEC5",
                "#B0BEC5",
                "#B0BEC5",
                "#B0BEC5",
                "#B0BEC5",
                "red",
                "#B0BEC5",
                "#B0BEC5",
                "#B0BEC5",
                "#B0BEC5"
               ]
              ]
             }
            ],
            "label": "Topic 23",
            "method": "update"
           },
           {
            "args": [
             {
              "marker.color": [
               [
                "#B0BEC5",
                "#B0BEC5",
                "#B0BEC5",
                "#B0BEC5",
                "#B0BEC5",
                "#B0BEC5",
                "#B0BEC5",
                "#B0BEC5",
                "#B0BEC5",
                "#B0BEC5",
                "#B0BEC5",
                "#B0BEC5",
                "#B0BEC5",
                "#B0BEC5",
                "#B0BEC5",
                "#B0BEC5",
                "#B0BEC5",
                "#B0BEC5",
                "#B0BEC5",
                "#B0BEC5",
                "#B0BEC5",
                "#B0BEC5",
                "#B0BEC5",
                "#B0BEC5",
                "red",
                "#B0BEC5",
                "#B0BEC5",
                "#B0BEC5"
               ]
              ]
             }
            ],
            "label": "Topic 24",
            "method": "update"
           },
           {
            "args": [
             {
              "marker.color": [
               [
                "#B0BEC5",
                "#B0BEC5",
                "#B0BEC5",
                "#B0BEC5",
                "#B0BEC5",
                "#B0BEC5",
                "#B0BEC5",
                "#B0BEC5",
                "#B0BEC5",
                "#B0BEC5",
                "#B0BEC5",
                "#B0BEC5",
                "#B0BEC5",
                "#B0BEC5",
                "#B0BEC5",
                "#B0BEC5",
                "#B0BEC5",
                "#B0BEC5",
                "#B0BEC5",
                "#B0BEC5",
                "#B0BEC5",
                "#B0BEC5",
                "#B0BEC5",
                "#B0BEC5",
                "#B0BEC5",
                "red",
                "#B0BEC5",
                "#B0BEC5"
               ]
              ]
             }
            ],
            "label": "Topic 25",
            "method": "update"
           },
           {
            "args": [
             {
              "marker.color": [
               [
                "#B0BEC5",
                "#B0BEC5",
                "#B0BEC5",
                "#B0BEC5",
                "#B0BEC5",
                "#B0BEC5",
                "#B0BEC5",
                "#B0BEC5",
                "#B0BEC5",
                "#B0BEC5",
                "#B0BEC5",
                "#B0BEC5",
                "#B0BEC5",
                "#B0BEC5",
                "#B0BEC5",
                "#B0BEC5",
                "#B0BEC5",
                "#B0BEC5",
                "#B0BEC5",
                "#B0BEC5",
                "#B0BEC5",
                "#B0BEC5",
                "#B0BEC5",
                "#B0BEC5",
                "#B0BEC5",
                "#B0BEC5",
                "red",
                "#B0BEC5"
               ]
              ]
             }
            ],
            "label": "Topic 26",
            "method": "update"
           },
           {
            "args": [
             {
              "marker.color": [
               [
                "#B0BEC5",
                "#B0BEC5",
                "#B0BEC5",
                "#B0BEC5",
                "#B0BEC5",
                "#B0BEC5",
                "#B0BEC5",
                "#B0BEC5",
                "#B0BEC5",
                "#B0BEC5",
                "#B0BEC5",
                "#B0BEC5",
                "#B0BEC5",
                "#B0BEC5",
                "#B0BEC5",
                "#B0BEC5",
                "#B0BEC5",
                "#B0BEC5",
                "#B0BEC5",
                "#B0BEC5",
                "#B0BEC5",
                "#B0BEC5",
                "#B0BEC5",
                "#B0BEC5",
                "#B0BEC5",
                "#B0BEC5",
                "#B0BEC5",
                "red"
               ]
              ]
             }
            ],
            "label": "Topic 27",
            "method": "update"
           }
          ]
         }
        ],
        "template": {
         "data": {
          "bar": [
           {
            "error_x": {
             "color": "rgb(36,36,36)"
            },
            "error_y": {
             "color": "rgb(36,36,36)"
            },
            "marker": {
             "line": {
              "color": "white",
              "width": 0.5
             },
             "pattern": {
              "fillmode": "overlay",
              "size": 10,
              "solidity": 0.2
             }
            },
            "type": "bar"
           }
          ],
          "barpolar": [
           {
            "marker": {
             "line": {
              "color": "white",
              "width": 0.5
             },
             "pattern": {
              "fillmode": "overlay",
              "size": 10,
              "solidity": 0.2
             }
            },
            "type": "barpolar"
           }
          ],
          "carpet": [
           {
            "aaxis": {
             "endlinecolor": "rgb(36,36,36)",
             "gridcolor": "white",
             "linecolor": "white",
             "minorgridcolor": "white",
             "startlinecolor": "rgb(36,36,36)"
            },
            "baxis": {
             "endlinecolor": "rgb(36,36,36)",
             "gridcolor": "white",
             "linecolor": "white",
             "minorgridcolor": "white",
             "startlinecolor": "rgb(36,36,36)"
            },
            "type": "carpet"
           }
          ],
          "choropleth": [
           {
            "colorbar": {
             "outlinewidth": 1,
             "tickcolor": "rgb(36,36,36)",
             "ticks": "outside"
            },
            "type": "choropleth"
           }
          ],
          "contour": [
           {
            "colorbar": {
             "outlinewidth": 1,
             "tickcolor": "rgb(36,36,36)",
             "ticks": "outside"
            },
            "colorscale": [
             [
              0,
              "#440154"
             ],
             [
              0.1111111111111111,
              "#482878"
             ],
             [
              0.2222222222222222,
              "#3e4989"
             ],
             [
              0.3333333333333333,
              "#31688e"
             ],
             [
              0.4444444444444444,
              "#26828e"
             ],
             [
              0.5555555555555556,
              "#1f9e89"
             ],
             [
              0.6666666666666666,
              "#35b779"
             ],
             [
              0.7777777777777778,
              "#6ece58"
             ],
             [
              0.8888888888888888,
              "#b5de2b"
             ],
             [
              1,
              "#fde725"
             ]
            ],
            "type": "contour"
           }
          ],
          "contourcarpet": [
           {
            "colorbar": {
             "outlinewidth": 1,
             "tickcolor": "rgb(36,36,36)",
             "ticks": "outside"
            },
            "type": "contourcarpet"
           }
          ],
          "heatmap": [
           {
            "colorbar": {
             "outlinewidth": 1,
             "tickcolor": "rgb(36,36,36)",
             "ticks": "outside"
            },
            "colorscale": [
             [
              0,
              "#440154"
             ],
             [
              0.1111111111111111,
              "#482878"
             ],
             [
              0.2222222222222222,
              "#3e4989"
             ],
             [
              0.3333333333333333,
              "#31688e"
             ],
             [
              0.4444444444444444,
              "#26828e"
             ],
             [
              0.5555555555555556,
              "#1f9e89"
             ],
             [
              0.6666666666666666,
              "#35b779"
             ],
             [
              0.7777777777777778,
              "#6ece58"
             ],
             [
              0.8888888888888888,
              "#b5de2b"
             ],
             [
              1,
              "#fde725"
             ]
            ],
            "type": "heatmap"
           }
          ],
          "heatmapgl": [
           {
            "colorbar": {
             "outlinewidth": 1,
             "tickcolor": "rgb(36,36,36)",
             "ticks": "outside"
            },
            "colorscale": [
             [
              0,
              "#440154"
             ],
             [
              0.1111111111111111,
              "#482878"
             ],
             [
              0.2222222222222222,
              "#3e4989"
             ],
             [
              0.3333333333333333,
              "#31688e"
             ],
             [
              0.4444444444444444,
              "#26828e"
             ],
             [
              0.5555555555555556,
              "#1f9e89"
             ],
             [
              0.6666666666666666,
              "#35b779"
             ],
             [
              0.7777777777777778,
              "#6ece58"
             ],
             [
              0.8888888888888888,
              "#b5de2b"
             ],
             [
              1,
              "#fde725"
             ]
            ],
            "type": "heatmapgl"
           }
          ],
          "histogram": [
           {
            "marker": {
             "line": {
              "color": "white",
              "width": 0.6
             }
            },
            "type": "histogram"
           }
          ],
          "histogram2d": [
           {
            "colorbar": {
             "outlinewidth": 1,
             "tickcolor": "rgb(36,36,36)",
             "ticks": "outside"
            },
            "colorscale": [
             [
              0,
              "#440154"
             ],
             [
              0.1111111111111111,
              "#482878"
             ],
             [
              0.2222222222222222,
              "#3e4989"
             ],
             [
              0.3333333333333333,
              "#31688e"
             ],
             [
              0.4444444444444444,
              "#26828e"
             ],
             [
              0.5555555555555556,
              "#1f9e89"
             ],
             [
              0.6666666666666666,
              "#35b779"
             ],
             [
              0.7777777777777778,
              "#6ece58"
             ],
             [
              0.8888888888888888,
              "#b5de2b"
             ],
             [
              1,
              "#fde725"
             ]
            ],
            "type": "histogram2d"
           }
          ],
          "histogram2dcontour": [
           {
            "colorbar": {
             "outlinewidth": 1,
             "tickcolor": "rgb(36,36,36)",
             "ticks": "outside"
            },
            "colorscale": [
             [
              0,
              "#440154"
             ],
             [
              0.1111111111111111,
              "#482878"
             ],
             [
              0.2222222222222222,
              "#3e4989"
             ],
             [
              0.3333333333333333,
              "#31688e"
             ],
             [
              0.4444444444444444,
              "#26828e"
             ],
             [
              0.5555555555555556,
              "#1f9e89"
             ],
             [
              0.6666666666666666,
              "#35b779"
             ],
             [
              0.7777777777777778,
              "#6ece58"
             ],
             [
              0.8888888888888888,
              "#b5de2b"
             ],
             [
              1,
              "#fde725"
             ]
            ],
            "type": "histogram2dcontour"
           }
          ],
          "mesh3d": [
           {
            "colorbar": {
             "outlinewidth": 1,
             "tickcolor": "rgb(36,36,36)",
             "ticks": "outside"
            },
            "type": "mesh3d"
           }
          ],
          "parcoords": [
           {
            "line": {
             "colorbar": {
              "outlinewidth": 1,
              "tickcolor": "rgb(36,36,36)",
              "ticks": "outside"
             }
            },
            "type": "parcoords"
           }
          ],
          "pie": [
           {
            "automargin": true,
            "type": "pie"
           }
          ],
          "scatter": [
           {
            "fillpattern": {
             "fillmode": "overlay",
             "size": 10,
             "solidity": 0.2
            },
            "type": "scatter"
           }
          ],
          "scatter3d": [
           {
            "line": {
             "colorbar": {
              "outlinewidth": 1,
              "tickcolor": "rgb(36,36,36)",
              "ticks": "outside"
             }
            },
            "marker": {
             "colorbar": {
              "outlinewidth": 1,
              "tickcolor": "rgb(36,36,36)",
              "ticks": "outside"
             }
            },
            "type": "scatter3d"
           }
          ],
          "scattercarpet": [
           {
            "marker": {
             "colorbar": {
              "outlinewidth": 1,
              "tickcolor": "rgb(36,36,36)",
              "ticks": "outside"
             }
            },
            "type": "scattercarpet"
           }
          ],
          "scattergeo": [
           {
            "marker": {
             "colorbar": {
              "outlinewidth": 1,
              "tickcolor": "rgb(36,36,36)",
              "ticks": "outside"
             }
            },
            "type": "scattergeo"
           }
          ],
          "scattergl": [
           {
            "marker": {
             "colorbar": {
              "outlinewidth": 1,
              "tickcolor": "rgb(36,36,36)",
              "ticks": "outside"
             }
            },
            "type": "scattergl"
           }
          ],
          "scattermapbox": [
           {
            "marker": {
             "colorbar": {
              "outlinewidth": 1,
              "tickcolor": "rgb(36,36,36)",
              "ticks": "outside"
             }
            },
            "type": "scattermapbox"
           }
          ],
          "scatterpolar": [
           {
            "marker": {
             "colorbar": {
              "outlinewidth": 1,
              "tickcolor": "rgb(36,36,36)",
              "ticks": "outside"
             }
            },
            "type": "scatterpolar"
           }
          ],
          "scatterpolargl": [
           {
            "marker": {
             "colorbar": {
              "outlinewidth": 1,
              "tickcolor": "rgb(36,36,36)",
              "ticks": "outside"
             }
            },
            "type": "scatterpolargl"
           }
          ],
          "scatterternary": [
           {
            "marker": {
             "colorbar": {
              "outlinewidth": 1,
              "tickcolor": "rgb(36,36,36)",
              "ticks": "outside"
             }
            },
            "type": "scatterternary"
           }
          ],
          "surface": [
           {
            "colorbar": {
             "outlinewidth": 1,
             "tickcolor": "rgb(36,36,36)",
             "ticks": "outside"
            },
            "colorscale": [
             [
              0,
              "#440154"
             ],
             [
              0.1111111111111111,
              "#482878"
             ],
             [
              0.2222222222222222,
              "#3e4989"
             ],
             [
              0.3333333333333333,
              "#31688e"
             ],
             [
              0.4444444444444444,
              "#26828e"
             ],
             [
              0.5555555555555556,
              "#1f9e89"
             ],
             [
              0.6666666666666666,
              "#35b779"
             ],
             [
              0.7777777777777778,
              "#6ece58"
             ],
             [
              0.8888888888888888,
              "#b5de2b"
             ],
             [
              1,
              "#fde725"
             ]
            ],
            "type": "surface"
           }
          ],
          "table": [
           {
            "cells": {
             "fill": {
              "color": "rgb(237,237,237)"
             },
             "line": {
              "color": "white"
             }
            },
            "header": {
             "fill": {
              "color": "rgb(217,217,217)"
             },
             "line": {
              "color": "white"
             }
            },
            "type": "table"
           }
          ]
         },
         "layout": {
          "annotationdefaults": {
           "arrowhead": 0,
           "arrowwidth": 1
          },
          "autotypenumbers": "strict",
          "coloraxis": {
           "colorbar": {
            "outlinewidth": 1,
            "tickcolor": "rgb(36,36,36)",
            "ticks": "outside"
           }
          },
          "colorscale": {
           "diverging": [
            [
             0,
             "rgb(103,0,31)"
            ],
            [
             0.1,
             "rgb(178,24,43)"
            ],
            [
             0.2,
             "rgb(214,96,77)"
            ],
            [
             0.3,
             "rgb(244,165,130)"
            ],
            [
             0.4,
             "rgb(253,219,199)"
            ],
            [
             0.5,
             "rgb(247,247,247)"
            ],
            [
             0.6,
             "rgb(209,229,240)"
            ],
            [
             0.7,
             "rgb(146,197,222)"
            ],
            [
             0.8,
             "rgb(67,147,195)"
            ],
            [
             0.9,
             "rgb(33,102,172)"
            ],
            [
             1,
             "rgb(5,48,97)"
            ]
           ],
           "sequential": [
            [
             0,
             "#440154"
            ],
            [
             0.1111111111111111,
             "#482878"
            ],
            [
             0.2222222222222222,
             "#3e4989"
            ],
            [
             0.3333333333333333,
             "#31688e"
            ],
            [
             0.4444444444444444,
             "#26828e"
            ],
            [
             0.5555555555555556,
             "#1f9e89"
            ],
            [
             0.6666666666666666,
             "#35b779"
            ],
            [
             0.7777777777777778,
             "#6ece58"
            ],
            [
             0.8888888888888888,
             "#b5de2b"
            ],
            [
             1,
             "#fde725"
            ]
           ],
           "sequentialminus": [
            [
             0,
             "#440154"
            ],
            [
             0.1111111111111111,
             "#482878"
            ],
            [
             0.2222222222222222,
             "#3e4989"
            ],
            [
             0.3333333333333333,
             "#31688e"
            ],
            [
             0.4444444444444444,
             "#26828e"
            ],
            [
             0.5555555555555556,
             "#1f9e89"
            ],
            [
             0.6666666666666666,
             "#35b779"
            ],
            [
             0.7777777777777778,
             "#6ece58"
            ],
            [
             0.8888888888888888,
             "#b5de2b"
            ],
            [
             1,
             "#fde725"
            ]
           ]
          },
          "colorway": [
           "#1F77B4",
           "#FF7F0E",
           "#2CA02C",
           "#D62728",
           "#9467BD",
           "#8C564B",
           "#E377C2",
           "#7F7F7F",
           "#BCBD22",
           "#17BECF"
          ],
          "font": {
           "color": "rgb(36,36,36)"
          },
          "geo": {
           "bgcolor": "white",
           "lakecolor": "white",
           "landcolor": "white",
           "showlakes": true,
           "showland": true,
           "subunitcolor": "white"
          },
          "hoverlabel": {
           "align": "left"
          },
          "hovermode": "closest",
          "mapbox": {
           "style": "light"
          },
          "paper_bgcolor": "white",
          "plot_bgcolor": "white",
          "polar": {
           "angularaxis": {
            "gridcolor": "rgb(232,232,232)",
            "linecolor": "rgb(36,36,36)",
            "showgrid": false,
            "showline": true,
            "ticks": "outside"
           },
           "bgcolor": "white",
           "radialaxis": {
            "gridcolor": "rgb(232,232,232)",
            "linecolor": "rgb(36,36,36)",
            "showgrid": false,
            "showline": true,
            "ticks": "outside"
           }
          },
          "scene": {
           "xaxis": {
            "backgroundcolor": "white",
            "gridcolor": "rgb(232,232,232)",
            "gridwidth": 2,
            "linecolor": "rgb(36,36,36)",
            "showbackground": true,
            "showgrid": false,
            "showline": true,
            "ticks": "outside",
            "zeroline": false,
            "zerolinecolor": "rgb(36,36,36)"
           },
           "yaxis": {
            "backgroundcolor": "white",
            "gridcolor": "rgb(232,232,232)",
            "gridwidth": 2,
            "linecolor": "rgb(36,36,36)",
            "showbackground": true,
            "showgrid": false,
            "showline": true,
            "ticks": "outside",
            "zeroline": false,
            "zerolinecolor": "rgb(36,36,36)"
           },
           "zaxis": {
            "backgroundcolor": "white",
            "gridcolor": "rgb(232,232,232)",
            "gridwidth": 2,
            "linecolor": "rgb(36,36,36)",
            "showbackground": true,
            "showgrid": false,
            "showline": true,
            "ticks": "outside",
            "zeroline": false,
            "zerolinecolor": "rgb(36,36,36)"
           }
          },
          "shapedefaults": {
           "fillcolor": "black",
           "line": {
            "width": 0
           },
           "opacity": 0.3
          },
          "ternary": {
           "aaxis": {
            "gridcolor": "rgb(232,232,232)",
            "linecolor": "rgb(36,36,36)",
            "showgrid": false,
            "showline": true,
            "ticks": "outside"
           },
           "baxis": {
            "gridcolor": "rgb(232,232,232)",
            "linecolor": "rgb(36,36,36)",
            "showgrid": false,
            "showline": true,
            "ticks": "outside"
           },
           "bgcolor": "white",
           "caxis": {
            "gridcolor": "rgb(232,232,232)",
            "linecolor": "rgb(36,36,36)",
            "showgrid": false,
            "showline": true,
            "ticks": "outside"
           }
          },
          "title": {
           "x": 0.05
          },
          "xaxis": {
           "automargin": true,
           "gridcolor": "rgb(232,232,232)",
           "linecolor": "rgb(36,36,36)",
           "showgrid": false,
           "showline": true,
           "ticks": "outside",
           "title": {
            "standoff": 15
           },
           "zeroline": false,
           "zerolinecolor": "rgb(36,36,36)"
          },
          "yaxis": {
           "automargin": true,
           "gridcolor": "rgb(232,232,232)",
           "linecolor": "rgb(36,36,36)",
           "showgrid": false,
           "showline": true,
           "ticks": "outside",
           "title": {
            "standoff": 15
           },
           "zeroline": false,
           "zerolinecolor": "rgb(36,36,36)"
          }
         }
        },
        "title": {
         "font": {
          "color": "Black",
          "size": 22
         },
         "text": "<b>Intertopic Distance Map</b>",
         "x": 0.5,
         "xanchor": "center",
         "y": 0.95,
         "yanchor": "top"
        },
        "width": 650,
        "xaxis": {
         "anchor": "y",
         "domain": [
          0,
          1
         ],
         "range": [
          -8.415481019020081,
          19.558146476745605
         ],
         "title": {
          "text": ""
         },
         "visible": false
        },
        "yaxis": {
         "anchor": "x",
         "domain": [
          0,
          1
         ],
         "range": [
          -23.35377950668335,
          15.506358957290649
         ],
         "title": {
          "text": ""
         },
         "visible": false
        }
       }
      }
     },
     "metadata": {},
     "output_type": "display_data"
    }
   ],
   "source": [
    "fig = topic_model.visualize_topics()\n",
    "fig.show()"
   ]
  },
  {
   "cell_type": "code",
   "execution_count": 40,
   "metadata": {},
   "outputs": [],
   "source": [
    "topic_df = pd.DataFrame({'topic':topics, 'job_listing':test['description']})"
   ]
  },
  {
   "cell_type": "code",
   "execution_count": 42,
   "metadata": {},
   "outputs": [
    {
     "data": {
      "text/html": [
       "<div>\n",
       "<style scoped>\n",
       "    .dataframe tbody tr th:only-of-type {\n",
       "        vertical-align: middle;\n",
       "    }\n",
       "\n",
       "    .dataframe tbody tr th {\n",
       "        vertical-align: top;\n",
       "    }\n",
       "\n",
       "    .dataframe thead th {\n",
       "        text-align: right;\n",
       "    }\n",
       "</style>\n",
       "<table border=\"1\" class=\"dataframe\">\n",
       "  <thead>\n",
       "    <tr style=\"text-align: right;\">\n",
       "      <th></th>\n",
       "      <th>topic</th>\n",
       "      <th>job_listing</th>\n",
       "    </tr>\n",
       "    <tr>\n",
       "      <th>id</th>\n",
       "      <th></th>\n",
       "      <th></th>\n",
       "    </tr>\n",
       "  </thead>\n",
       "  <tbody>\n",
       "    <tr>\n",
       "      <th>257</th>\n",
       "      <td>0</td>\n",
       "      <td>Your responsibilities Your primary role will b...</td>\n",
       "    </tr>\n",
       "    <tr>\n",
       "      <th>10</th>\n",
       "      <td>0</td>\n",
       "      <td>Rewarding software engineering job for Compute...</td>\n",
       "    </tr>\n",
       "    <tr>\n",
       "      <th>37</th>\n",
       "      <td>0</td>\n",
       "      <td>Why Alscient? We provide great opportunities f...</td>\n",
       "    </tr>\n",
       "    <tr>\n",
       "      <th>340</th>\n",
       "      <td>0</td>\n",
       "      <td>Full-Stack Developer - Web Transcription Archi...</td>\n",
       "    </tr>\n",
       "    <tr>\n",
       "      <th>355</th>\n",
       "      <td>0</td>\n",
       "      <td>BIG Motoring World Developer role Hours: Full ...</td>\n",
       "    </tr>\n",
       "    <tr>\n",
       "      <th>...</th>\n",
       "      <td>...</td>\n",
       "      <td>...</td>\n",
       "    </tr>\n",
       "    <tr>\n",
       "      <th>1864</th>\n",
       "      <td>0</td>\n",
       "      <td>Junior Game Programmer Requirements for the ro...</td>\n",
       "    </tr>\n",
       "    <tr>\n",
       "      <th>1872</th>\n",
       "      <td>0</td>\n",
       "      <td>Job Overview: We're on the hunt for a talented...</td>\n",
       "    </tr>\n",
       "    <tr>\n",
       "      <th>1885</th>\n",
       "      <td>0</td>\n",
       "      <td>Web Developer (Junior to Mid-range) Hydro Clea...</td>\n",
       "    </tr>\n",
       "    <tr>\n",
       "      <th>1920</th>\n",
       "      <td>0</td>\n",
       "      <td>Nordson Test &amp; Inspection, a leading provider ...</td>\n",
       "    </tr>\n",
       "    <tr>\n",
       "      <th>1927</th>\n",
       "      <td>0</td>\n",
       "      <td>*Are you a experienced Software Developer who'...</td>\n",
       "    </tr>\n",
       "  </tbody>\n",
       "</table>\n",
       "<p>100 rows × 2 columns</p>\n",
       "</div>"
      ],
      "text/plain": [
       "      topic                                        job_listing\n",
       "id                                                            \n",
       "257       0  Your responsibilities Your primary role will b...\n",
       "10        0  Rewarding software engineering job for Compute...\n",
       "37        0  Why Alscient? We provide great opportunities f...\n",
       "340       0  Full-Stack Developer - Web Transcription Archi...\n",
       "355       0  BIG Motoring World Developer role Hours: Full ...\n",
       "...     ...                                                ...\n",
       "1864      0  Junior Game Programmer Requirements for the ro...\n",
       "1872      0  Job Overview: We're on the hunt for a talented...\n",
       "1885      0  Web Developer (Junior to Mid-range) Hydro Clea...\n",
       "1920      0  Nordson Test & Inspection, a leading provider ...\n",
       "1927      0  *Are you a experienced Software Developer who'...\n",
       "\n",
       "[100 rows x 2 columns]"
      ]
     },
     "execution_count": 42,
     "metadata": {},
     "output_type": "execute_result"
    }
   ],
   "source": [
    "topic_df.loc[topic_df['topic'] == 0]"
   ]
  },
  {
   "cell_type": "markdown",
   "metadata": {},
   "source": [
    "### TF-IDF"
   ]
  },
  {
   "cell_type": "code",
   "execution_count": 25,
   "metadata": {},
   "outputs": [],
   "source": [
    "tfidf = TfidfVectorizer(stop_words='english')\n",
    "X = tfidf.fit_transform(test['doc'])"
   ]
  },
  {
   "cell_type": "code",
   "execution_count": 26,
   "metadata": {},
   "outputs": [],
   "source": [
    "X = X.toarray()"
   ]
  },
  {
   "cell_type": "code",
   "execution_count": 27,
   "metadata": {},
   "outputs": [],
   "source": [
    "df = pd.DataFrame(X, columns=tfidf.get_feature_names_out())"
   ]
  },
  {
   "cell_type": "code",
   "execution_count": 28,
   "metadata": {},
   "outputs": [
    {
     "data": {
      "text/html": [
       "<div>\n",
       "<style scoped>\n",
       "    .dataframe tbody tr th:only-of-type {\n",
       "        vertical-align: middle;\n",
       "    }\n",
       "\n",
       "    .dataframe tbody tr th {\n",
       "        vertical-align: top;\n",
       "    }\n",
       "\n",
       "    .dataframe thead th {\n",
       "        text-align: right;\n",
       "    }\n",
       "</style>\n",
       "<table border=\"1\" class=\"dataframe\">\n",
       "  <thead>\n",
       "    <tr style=\"text-align: right;\">\n",
       "      <th></th>\n",
       "      <th>00</th>\n",
       "      <th>000</th>\n",
       "      <th>000p</th>\n",
       "      <th>000pa</th>\n",
       "      <th>000usd</th>\n",
       "      <th>001</th>\n",
       "      <th>00227646</th>\n",
       "      <th>00227647</th>\n",
       "      <th>009</th>\n",
       "      <th>0096</th>\n",
       "      <th>...</th>\n",
       "      <th>équipe</th>\n",
       "      <th>équité</th>\n",
       "      <th>été</th>\n",
       "      <th>éventail</th>\n",
       "      <th>évoluer</th>\n",
       "      <th>être</th>\n",
       "      <th>œuvre</th>\n",
       "      <th>ﬁeld</th>\n",
       "      <th>ﬂexibility</th>\n",
       "      <th>ﬂow</th>\n",
       "    </tr>\n",
       "  </thead>\n",
       "  <tbody>\n",
       "    <tr>\n",
       "      <th>0</th>\n",
       "      <td>0.0</td>\n",
       "      <td>0.03551</td>\n",
       "      <td>0.0</td>\n",
       "      <td>0.0</td>\n",
       "      <td>0.0</td>\n",
       "      <td>0.0</td>\n",
       "      <td>0.0</td>\n",
       "      <td>0.0</td>\n",
       "      <td>0.0</td>\n",
       "      <td>0.0</td>\n",
       "      <td>...</td>\n",
       "      <td>0.0</td>\n",
       "      <td>0.0</td>\n",
       "      <td>0.0</td>\n",
       "      <td>0.0</td>\n",
       "      <td>0.0</td>\n",
       "      <td>0.0</td>\n",
       "      <td>0.0</td>\n",
       "      <td>0.0</td>\n",
       "      <td>0.0</td>\n",
       "      <td>0.0</td>\n",
       "    </tr>\n",
       "    <tr>\n",
       "      <th>1</th>\n",
       "      <td>0.0</td>\n",
       "      <td>0.00000</td>\n",
       "      <td>0.0</td>\n",
       "      <td>0.0</td>\n",
       "      <td>0.0</td>\n",
       "      <td>0.0</td>\n",
       "      <td>0.0</td>\n",
       "      <td>0.0</td>\n",
       "      <td>0.0</td>\n",
       "      <td>0.0</td>\n",
       "      <td>...</td>\n",
       "      <td>0.0</td>\n",
       "      <td>0.0</td>\n",
       "      <td>0.0</td>\n",
       "      <td>0.0</td>\n",
       "      <td>0.0</td>\n",
       "      <td>0.0</td>\n",
       "      <td>0.0</td>\n",
       "      <td>0.0</td>\n",
       "      <td>0.0</td>\n",
       "      <td>0.0</td>\n",
       "    </tr>\n",
       "    <tr>\n",
       "      <th>2</th>\n",
       "      <td>0.0</td>\n",
       "      <td>0.00000</td>\n",
       "      <td>0.0</td>\n",
       "      <td>0.0</td>\n",
       "      <td>0.0</td>\n",
       "      <td>0.0</td>\n",
       "      <td>0.0</td>\n",
       "      <td>0.0</td>\n",
       "      <td>0.0</td>\n",
       "      <td>0.0</td>\n",
       "      <td>...</td>\n",
       "      <td>0.0</td>\n",
       "      <td>0.0</td>\n",
       "      <td>0.0</td>\n",
       "      <td>0.0</td>\n",
       "      <td>0.0</td>\n",
       "      <td>0.0</td>\n",
       "      <td>0.0</td>\n",
       "      <td>0.0</td>\n",
       "      <td>0.0</td>\n",
       "      <td>0.0</td>\n",
       "    </tr>\n",
       "    <tr>\n",
       "      <th>3</th>\n",
       "      <td>0.0</td>\n",
       "      <td>0.00000</td>\n",
       "      <td>0.0</td>\n",
       "      <td>0.0</td>\n",
       "      <td>0.0</td>\n",
       "      <td>0.0</td>\n",
       "      <td>0.0</td>\n",
       "      <td>0.0</td>\n",
       "      <td>0.0</td>\n",
       "      <td>0.0</td>\n",
       "      <td>...</td>\n",
       "      <td>0.0</td>\n",
       "      <td>0.0</td>\n",
       "      <td>0.0</td>\n",
       "      <td>0.0</td>\n",
       "      <td>0.0</td>\n",
       "      <td>0.0</td>\n",
       "      <td>0.0</td>\n",
       "      <td>0.0</td>\n",
       "      <td>0.0</td>\n",
       "      <td>0.0</td>\n",
       "    </tr>\n",
       "    <tr>\n",
       "      <th>4</th>\n",
       "      <td>0.0</td>\n",
       "      <td>0.00000</td>\n",
       "      <td>0.0</td>\n",
       "      <td>0.0</td>\n",
       "      <td>0.0</td>\n",
       "      <td>0.0</td>\n",
       "      <td>0.0</td>\n",
       "      <td>0.0</td>\n",
       "      <td>0.0</td>\n",
       "      <td>0.0</td>\n",
       "      <td>...</td>\n",
       "      <td>0.0</td>\n",
       "      <td>0.0</td>\n",
       "      <td>0.0</td>\n",
       "      <td>0.0</td>\n",
       "      <td>0.0</td>\n",
       "      <td>0.0</td>\n",
       "      <td>0.0</td>\n",
       "      <td>0.0</td>\n",
       "      <td>0.0</td>\n",
       "      <td>0.0</td>\n",
       "    </tr>\n",
       "  </tbody>\n",
       "</table>\n",
       "<p>5 rows × 13392 columns</p>\n",
       "</div>"
      ],
      "text/plain": [
       "    00      000  000p  000pa  000usd  001  00227646  00227647  009  0096  ...  \\\n",
       "0  0.0  0.03551   0.0    0.0     0.0  0.0       0.0       0.0  0.0   0.0  ...   \n",
       "1  0.0  0.00000   0.0    0.0     0.0  0.0       0.0       0.0  0.0   0.0  ...   \n",
       "2  0.0  0.00000   0.0    0.0     0.0  0.0       0.0       0.0  0.0   0.0  ...   \n",
       "3  0.0  0.00000   0.0    0.0     0.0  0.0       0.0       0.0  0.0   0.0  ...   \n",
       "4  0.0  0.00000   0.0    0.0     0.0  0.0       0.0       0.0  0.0   0.0  ...   \n",
       "\n",
       "   équipe  équité  été  éventail  évoluer  être  œuvre  ﬁeld  ﬂexibility  ﬂow  \n",
       "0     0.0     0.0  0.0       0.0      0.0   0.0    0.0   0.0         0.0  0.0  \n",
       "1     0.0     0.0  0.0       0.0      0.0   0.0    0.0   0.0         0.0  0.0  \n",
       "2     0.0     0.0  0.0       0.0      0.0   0.0    0.0   0.0         0.0  0.0  \n",
       "3     0.0     0.0  0.0       0.0      0.0   0.0    0.0   0.0         0.0  0.0  \n",
       "4     0.0     0.0  0.0       0.0      0.0   0.0    0.0   0.0         0.0  0.0  \n",
       "\n",
       "[5 rows x 13392 columns]"
      ]
     },
     "execution_count": 28,
     "metadata": {},
     "output_type": "execute_result"
    }
   ],
   "source": [
    "df.head()"
   ]
  },
  {
   "cell_type": "code",
   "execution_count": 29,
   "metadata": {},
   "outputs": [],
   "source": [
    "listing1 = df.iloc[0].loc[df.iloc[0].gt(0)]"
   ]
  },
  {
   "cell_type": "code",
   "execution_count": 33,
   "metadata": {},
   "outputs": [
    {
     "data": {
      "text/plain": [
       "development    0.268458\n",
       "gui            0.221958\n",
       "scrum          0.161889\n",
       "expect         0.142804\n",
       "cd             0.140824\n",
       "software       0.140561\n",
       "ci             0.136413\n",
       "nodered        0.130334\n",
       "code           0.126346\n",
       "lld            0.123191\n",
       "hld            0.123191\n",
       "damage         0.123191\n",
       "able           0.122924\n",
       "product        0.119379\n",
       "acumen         0.118122\n",
       "Name: 0, dtype: float64"
      ]
     },
     "execution_count": 33,
     "metadata": {},
     "output_type": "execute_result"
    }
   ],
   "source": [
    "listing1.sort_values(ascending=False).head(15)"
   ]
  },
  {
   "cell_type": "code",
   "execution_count": 34,
   "metadata": {},
   "outputs": [
    {
     "data": {
      "image/png": "[encoded data removed]",
      "text/plain": [
       "<Figure size 640x480 with 1 Axes>"
      ]
     },
     "metadata": {},
     "output_type": "display_data"
    }
   ],
   "source": [
    "fig, ax = plt.subplots()\n",
    "ax = sns.barplot(x=listing1.sort_values(ascending=False).head(20).values, y=listing1.sort_values(ascending=False).head(20).index)"
   ]
  },
  {
   "cell_type": "code",
   "execution_count": 35,
   "metadata": {},
   "outputs": [
    {
     "data": {
      "image/png": "[encoded data removed]",
      "text/plain": [
       "<Figure size 640x480 with 1 Axes>"
      ]
     },
     "metadata": {},
     "output_type": "display_data"
    }
   ],
   "source": [
    "listing2 = df.iloc[1].loc[df.iloc[1].gt(0)]\n",
    "fig, ax = plt.subplots()\n",
    "ax = sns.barplot(x=listing2.sort_values(ascending=False).head(20).values, y=listing2.sort_values(ascending=False).head(20).index)"
   ]
  },
  {
   "cell_type": "code",
   "execution_count": 36,
   "metadata": {},
   "outputs": [
    {
     "data": {
      "image/png": "[encoded data removed]",
      "text/plain": [
       "<Figure size 640x480 with 1 Axes>"
      ]
     },
     "metadata": {},
     "output_type": "display_data"
    }
   ],
   "source": [
    "listing3 = df.iloc[2].loc[df.iloc[2].gt(0)]\n",
    "fig, ax = plt.subplots()\n",
    "ax = sns.barplot(x=listing3.sort_values(ascending=False).head(20).values, y=listing3.sort_values(ascending=False).head(20).index)"
   ]
  },
  {
   "cell_type": "code",
   "execution_count": 37,
   "metadata": {},
   "outputs": [
    {
     "data": {
      "image/png": "[encoded data removed]",
      "text/plain": [
       "<Figure size 640x480 with 1 Axes>"
      ]
     },
     "metadata": {},
     "output_type": "display_data"
    }
   ],
   "source": [
    "corpus = df.agg('mean').sort_values(ascending=False)\n",
    "fig, ax = plt.subplots()\n",
    "ax = sns.barplot(x=corpus.head(20).values, y=corpus.head(20).index)"
   ]
  },
  {
   "cell_type": "code",
   "execution_count": null,
   "metadata": {},
   "outputs": [],
   "source": []
  }
 ],
 "metadata": {
  "kernelspec": {
   "display_name": "Python 3",
   "language": "python",
   "name": "python3"
  },
  "language_info": {
   "codemirror_mode": {
    "name": "ipython",
    "version": 3
   },
   "file_extension": ".py",
   "mimetype": "text/x-python",
   "name": "python",
   "nbconvert_exporter": "python",
   "pygments_lexer": "ipython3",
   "version": "3.12.0"
  }
 },
 "nbformat": 4,
 "nbformat_minor": 2
}
