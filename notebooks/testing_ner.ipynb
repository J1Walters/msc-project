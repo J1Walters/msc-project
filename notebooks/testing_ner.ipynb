{
 "cells": [
  {
   "cell_type": "markdown",
   "metadata": {},
   "source": [
    "### Evaluate models from CLI"
   ]
  },
  {
   "cell_type": "code",
   "execution_count": 42,
   "metadata": {},
   "outputs": [],
   "source": [
    "MODEL_PATH = 'C:/University/6G7V0007_MSC_Project/Project/Large_Models/charembed_bilstm_vec_60_20/model-best'\n",
    "TEST_PATH = 'C:/University/6G7V0007_MSC_Project/Project/Data/test_20_annot.spacy'\n",
    "OUTPUT_PATH = '../test_results/charembed_bilstm_vec.json'"
   ]
  },
  {
   "cell_type": "code",
   "execution_count": 43,
   "metadata": {},
   "outputs": [
    {
     "name": "stdout",
     "output_type": "stream",
     "text": [
      "\u001b[38;5;4mℹ Using CPU\u001b[0m\n",
      "\u001b[1m\n",
      "================================== Results ==================================\u001b[0m\n",
      "\n",
      "TOK     -    \n",
      "NER P   51.55\n",
      "NER R   31.40\n",
      "NER F   39.02\n",
      "SPEED   29374\n",
      "\n",
      "\u001b[1m\n",
      "=============================== NER (per type) ===============================\u001b[0m\n",
      "\n",
      "                  P       R       F\n",
      "S_SKILL       45.45   24.54   31.87\n",
      "REQUIREMENT   57.14   58.33   57.73\n",
      "LANG_FRAM     67.95   47.75   56.08\n",
      "H_SKILL       27.37   12.75   17.39\n",
      "\n",
      "\u001b[38;5;2m✔ Saved results to ..\\test_results\\charembed_bilstm_vec.json\u001b[0m\n"
     ]
    }
   ],
   "source": [
    "!py -m spacy benchmark accuracy {MODEL_PATH} {TEST_PATH} -o {OUTPUT_PATH}"
   ]
  },
  {
   "cell_type": "code",
   "execution_count": null,
   "metadata": {},
   "outputs": [],
   "source": []
  }
 ],
 "metadata": {
  "kernelspec": {
   "display_name": "Python 3",
   "language": "python",
   "name": "python3"
  },
  "language_info": {
   "codemirror_mode": {
    "name": "ipython",
    "version": 3
   },
   "file_extension": ".py",
   "mimetype": "text/x-python",
   "name": "python",
   "nbconvert_exporter": "python",
   "pygments_lexer": "ipython3",
   "version": "3.12.0"
  }
 },
 "nbformat": 4,
 "nbformat_minor": 2
}
