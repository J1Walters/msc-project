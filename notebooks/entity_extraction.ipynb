{
 "cells": [
  {
   "cell_type": "markdown",
   "metadata": {},
   "source": [
    "### Import Packages"
   ]
  },
  {
   "cell_type": "code",
   "execution_count": 1,
   "metadata": {},
   "outputs": [],
   "source": [
    "import pandas as pd\n",
    "import sqlean as sqlite3\n",
    "import spacy"
   ]
  },
  {
   "cell_type": "markdown",
   "metadata": {},
   "source": [
    "### Load spaCy model"
   ]
  },
  {
   "cell_type": "code",
   "execution_count": 3,
   "metadata": {},
   "outputs": [],
   "source": [
    "MODEL_PATH = '../models/colab_multihash_maxout_60_20_annot/model-best'\n",
    "nlp = spacy.load(MODEL_PATH)"
   ]
  },
  {
   "cell_type": "markdown",
   "metadata": {},
   "source": [
    "### Import data"
   ]
  },
  {
   "cell_type": "code",
   "execution_count": 4,
   "metadata": {},
   "outputs": [],
   "source": [
    "DATABASE_PATH = 'C:/University/6G7V0007_MSC_Project/Project/Data/joblistings_transformed_OG_05072024.db'\n",
    "con = sqlite3.connect(DATABASE_PATH)"
   ]
  },
  {
   "cell_type": "code",
   "execution_count": 5,
   "metadata": {},
   "outputs": [
    {
     "name": "stderr",
     "output_type": "stream",
     "text": [
      "C:\\Users\\walte\\AppData\\Local\\Temp\\ipykernel_17816\\762033203.py:1: UserWarning: pandas only supports SQLAlchemy connectable (engine/connection) or database string URI or sqlite3 DBAPI2 connection. Other DBAPI2 objects are not tested. Please consider using SQLAlchemy.\n",
      "  job = pd.read_sql('SELECT * FROM job', con)\n"
     ]
    }
   ],
   "source": [
    "job = pd.read_sql('SELECT * FROM job', con)"
   ]
  },
  {
   "cell_type": "markdown",
   "metadata": {},
   "source": [
    "### Extract named entities"
   ]
  },
  {
   "cell_type": "code",
   "execution_count": 6,
   "metadata": {},
   "outputs": [],
   "source": [
    "def get_entities(text):\n",
    "    \"\"\"Return the named entities\"\"\"\n",
    "    return [(ent.text, ent.label_) for ent in nlp(text).ents]"
   ]
  },
  {
   "cell_type": "code",
   "execution_count": 7,
   "metadata": {},
   "outputs": [],
   "source": [
    "job['ents'] = job['description'].apply(get_entities)"
   ]
  },
  {
   "cell_type": "code",
   "execution_count": 8,
   "metadata": {},
   "outputs": [],
   "source": [
    "entities = job.explode('ents')['ents']"
   ]
  },
  {
   "cell_type": "code",
   "execution_count": 19,
   "metadata": {},
   "outputs": [
    {
     "data": {
      "text/plain": [
       "0                      (C, LANG_FRAM)\n",
       "0                 (Python, LANG_FRAM)\n",
       "0       (work independently, S_SKILL)\n",
       "0               (passionate, S_SKILL)\n",
       "0           (problem solver, S_SKILL)\n",
       "                    ...              \n",
       "1148              (flexible, S_SKILL)\n",
       "1148                  (AI, LANG_FRAM)\n",
       "1148         (collaborative, S_SKILL)\n",
       "1148                 (Agile, H_SKILL)\n",
       "1148         (Collaborative, S_SKILL)\n",
       "Name: ents, Length: 23163, dtype: object"
      ]
     },
     "execution_count": 19,
     "metadata": {},
     "output_type": "execute_result"
    }
   ],
   "source": [
    "entities"
   ]
  },
  {
   "cell_type": "code",
   "execution_count": 9,
   "metadata": {},
   "outputs": [],
   "source": [
    "ent_df = pd.DataFrame(entities.to_list())\n",
    "ent_df.columns = ['ent', 'type']"
   ]
  },
  {
   "cell_type": "code",
   "execution_count": 18,
   "metadata": {},
   "outputs": [
    {
     "data": {
      "text/plain": [
       "ent\n",
       "ai                                                  662\n",
       "python                                              423\n",
       "collaborate                                         379\n",
       "cloud                                               279\n",
       "sql                                                 253\n",
       "                                                   ... \n",
       "communicating complex problems                        1\n",
       "deploying network security tools                      1\n",
       "advising and creating network security solutions      1\n",
       "deliver and execute projects                          1\n",
       "understanding of basic ba principles                  1\n",
       "Name: count, Length: 8049, dtype: int64"
      ]
     },
     "execution_count": 18,
     "metadata": {},
     "output_type": "execute_result"
    }
   ],
   "source": [
    "ent_df['ent'].str.lower().value_counts()"
   ]
  },
  {
   "cell_type": "code",
   "execution_count": 16,
   "metadata": {},
   "outputs": [
    {
     "data": {
      "text/plain": [
       "ent               type     \n",
       "AI                LANG_FRAM    661\n",
       "Python            LANG_FRAM    402\n",
       "SQL               LANG_FRAM    252\n",
       "cloud             LANG_FRAM    225\n",
       "machine learning  LANG_FRAM    190\n",
       "Azure             LANG_FRAM    163\n",
       "Java              LANG_FRAM    148\n",
       "AWS               LANG_FRAM    145\n",
       "C++               LANG_FRAM    139\n",
       "Linux             LANG_FRAM    115\n",
       "C#                LANG_FRAM    107\n",
       "ML                LANG_FRAM     96\n",
       "Power BI          LANG_FRAM     92\n",
       "JavaScript        LANG_FRAM     91\n",
       "C                 LANG_FRAM     90\n",
       "CSS               LANG_FRAM     82\n",
       "Windows           LANG_FRAM     81\n",
       "APIs              LANG_FRAM     79\n",
       "HTML              LANG_FRAM     75\n",
       "R                 LANG_FRAM     68\n",
       "Name: count, dtype: int64"
      ]
     },
     "execution_count": 16,
     "metadata": {},
     "output_type": "execute_result"
    }
   ],
   "source": [
    "ent_df.loc[ent_df['type'] == 'LANG_FRAM'].value_counts()"
   ]
  },
  {
   "cell_type": "code",
   "execution_count": null,
   "metadata": {},
   "outputs": [],
   "source": [
    "# Export entity dataframe\n",
    "OUTPUT_PATH = '../entities/multihash_maxout_ent.csv'\n",
    "ent_df.to_csv(OUTPUT_PATH)"
   ]
  }
 ],
 "metadata": {
  "kernelspec": {
   "display_name": "Python 3",
   "language": "python",
   "name": "python3"
  },
  "language_info": {
   "codemirror_mode": {
    "name": "ipython",
    "version": 3
   },
   "file_extension": ".py",
   "mimetype": "text/x-python",
   "name": "python",
   "nbconvert_exporter": "python",
   "pygments_lexer": "ipython3",
   "version": "3.12.0"
  }
 },
 "nbformat": 4,
 "nbformat_minor": 2
}
