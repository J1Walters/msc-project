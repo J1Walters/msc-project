{
 "cells": [
  {
   "cell_type": "markdown",
   "metadata": {},
   "source": [
    "### Import Packages"
   ]
  },
  {
   "cell_type": "code",
   "execution_count": 1,
   "metadata": {},
   "outputs": [],
   "source": [
    "import pandas as pd"
   ]
  },
  {
   "cell_type": "code",
   "execution_count": 2,
   "metadata": {},
   "outputs": [],
   "source": [
    "DATA_PATH = '../entities/clean/multihash_maxout_vec_ents_clean.csv'"
   ]
  },
  {
   "cell_type": "code",
   "execution_count": 3,
   "metadata": {},
   "outputs": [],
   "source": [
    "df = pd.read_csv(DATA_PATH)"
   ]
  },
  {
   "cell_type": "code",
   "execution_count": 4,
   "metadata": {},
   "outputs": [],
   "source": [
    "df['timestamp'] = pd.to_datetime(df['timestamp'])"
   ]
  },
  {
   "cell_type": "code",
   "execution_count": 65,
   "metadata": {},
   "outputs": [],
   "source": [
    "df['year'] = df['timestamp'].dt.year"
   ]
  },
  {
   "cell_type": "code",
   "execution_count": 6,
   "metadata": {},
   "outputs": [],
   "source": [
    "df['month'] = df['timestamp'].dt.to_period('M')"
   ]
  },
  {
   "cell_type": "code",
   "execution_count": 7,
   "metadata": {},
   "outputs": [],
   "source": [
    "df['week'] = df['timestamp'].dt.to_period('W')"
   ]
  },
  {
   "cell_type": "code",
   "execution_count": 66,
   "metadata": {},
   "outputs": [
    {
     "data": {
      "text/html": [
       "<div>\n",
       "<style scoped>\n",
       "    .dataframe tbody tr th:only-of-type {\n",
       "        vertical-align: middle;\n",
       "    }\n",
       "\n",
       "    .dataframe tbody tr th {\n",
       "        vertical-align: top;\n",
       "    }\n",
       "\n",
       "    .dataframe thead th {\n",
       "        text-align: right;\n",
       "    }\n",
       "</style>\n",
       "<table border=\"1\" class=\"dataframe\">\n",
       "  <thead>\n",
       "    <tr style=\"text-align: right;\">\n",
       "      <th></th>\n",
       "      <th>Unnamed: 0</th>\n",
       "      <th>timestamp</th>\n",
       "      <th>ent</th>\n",
       "      <th>type</th>\n",
       "      <th>new_ent</th>\n",
       "      <th>year</th>\n",
       "      <th>month</th>\n",
       "      <th>week</th>\n",
       "    </tr>\n",
       "  </thead>\n",
       "  <tbody>\n",
       "    <tr>\n",
       "      <th>0</th>\n",
       "      <td>0</td>\n",
       "      <td>2024-06-28</td>\n",
       "      <td>design, development and manufacture of these p...</td>\n",
       "      <td>H_SKILL</td>\n",
       "      <td>DESIGN, DEVELOPMENT AND MANUFACTURE OF THESE P...</td>\n",
       "      <td>2024</td>\n",
       "      <td>2024-06</td>\n",
       "      <td>2024-06-24/2024-06-30</td>\n",
       "    </tr>\n",
       "    <tr>\n",
       "      <th>1</th>\n",
       "      <td>0</td>\n",
       "      <td>2024-06-28</td>\n",
       "      <td>C</td>\n",
       "      <td>LANG_FRAM</td>\n",
       "      <td>C</td>\n",
       "      <td>2024</td>\n",
       "      <td>2024-06</td>\n",
       "      <td>2024-06-24/2024-06-30</td>\n",
       "    </tr>\n",
       "    <tr>\n",
       "      <th>2</th>\n",
       "      <td>0</td>\n",
       "      <td>2024-06-28</td>\n",
       "      <td>Python</td>\n",
       "      <td>LANG_FRAM</td>\n",
       "      <td>PYTHON</td>\n",
       "      <td>2024</td>\n",
       "      <td>2024-06</td>\n",
       "      <td>2024-06-24/2024-06-30</td>\n",
       "    </tr>\n",
       "    <tr>\n",
       "      <th>3</th>\n",
       "      <td>0</td>\n",
       "      <td>2024-06-28</td>\n",
       "      <td>work independently</td>\n",
       "      <td>S_SKILL</td>\n",
       "      <td>INDEPENDENT WORKING</td>\n",
       "      <td>2024</td>\n",
       "      <td>2024-06</td>\n",
       "      <td>2024-06-24/2024-06-30</td>\n",
       "    </tr>\n",
       "    <tr>\n",
       "      <th>4</th>\n",
       "      <td>0</td>\n",
       "      <td>2024-06-28</td>\n",
       "      <td>passionate</td>\n",
       "      <td>S_SKILL</td>\n",
       "      <td>PASSION AND ENTHUSIASM</td>\n",
       "      <td>2024</td>\n",
       "      <td>2024-06</td>\n",
       "      <td>2024-06-24/2024-06-30</td>\n",
       "    </tr>\n",
       "  </tbody>\n",
       "</table>\n",
       "</div>"
      ],
      "text/plain": [
       "   Unnamed: 0  timestamp                                                ent  \\\n",
       "0           0 2024-06-28  design, development and manufacture of these p...   \n",
       "1           0 2024-06-28                                                  C   \n",
       "2           0 2024-06-28                                             Python   \n",
       "3           0 2024-06-28                                 work independently   \n",
       "4           0 2024-06-28                                         passionate   \n",
       "\n",
       "        type                                            new_ent  year  \\\n",
       "0    H_SKILL  DESIGN, DEVELOPMENT AND MANUFACTURE OF THESE P...  2024   \n",
       "1  LANG_FRAM                                                  C  2024   \n",
       "2  LANG_FRAM                                             PYTHON  2024   \n",
       "3    S_SKILL                                INDEPENDENT WORKING  2024   \n",
       "4    S_SKILL                             PASSION AND ENTHUSIASM  2024   \n",
       "\n",
       "     month                   week  \n",
       "0  2024-06  2024-06-24/2024-06-30  \n",
       "1  2024-06  2024-06-24/2024-06-30  \n",
       "2  2024-06  2024-06-24/2024-06-30  \n",
       "3  2024-06  2024-06-24/2024-06-30  \n",
       "4  2024-06  2024-06-24/2024-06-30  "
      ]
     },
     "execution_count": 66,
     "metadata": {},
     "output_type": "execute_result"
    }
   ],
   "source": [
    "df.head()"
   ]
  },
  {
   "cell_type": "code",
   "execution_count": 9,
   "metadata": {},
   "outputs": [
    {
     "name": "stdout",
     "output_type": "stream",
     "text": [
      "{Timestamp('2024-06-28 00:00:00'): 19234, Timestamp('2024-07-05 00:00:00'): 4869}\n",
      "{Period('2024', 'A-DEC'): 24103}\n",
      "{Period('2024-06', 'M'): 19234, Period('2024-07', 'M'): 4869}\n",
      "{Period('2024-06-24/2024-06-30', 'W-SUN'): 19234, Period('2024-07-01/2024-07-07', 'W-SUN'): 4869}\n"
     ]
    }
   ],
   "source": [
    "totals = df['timestamp'].value_counts().to_dict()\n",
    "year_totals = df['year'].value_counts().to_dict()\n",
    "month_totals = df['month'].value_counts().to_dict()\n",
    "week_totals = df['week'].value_counts().to_dict()\n",
    "print(totals)\n",
    "print(year_totals)\n",
    "print(month_totals)\n",
    "print(week_totals)"
   ]
  },
  {
   "cell_type": "code",
   "execution_count": 10,
   "metadata": {},
   "outputs": [],
   "source": [
    "year_counts = df[['year', 'new_ent', 'type']].value_counts()\n",
    "month_counts = df[['month', 'new_ent', 'type']].value_counts()\n",
    "week_counts = df[['week', 'new_ent', 'type']].value_counts()"
   ]
  },
  {
   "cell_type": "code",
   "execution_count": 11,
   "metadata": {},
   "outputs": [
    {
     "data": {
      "text/html": [
       "<div>\n",
       "<style scoped>\n",
       "    .dataframe tbody tr th:only-of-type {\n",
       "        vertical-align: middle;\n",
       "    }\n",
       "\n",
       "    .dataframe tbody tr th {\n",
       "        vertical-align: top;\n",
       "    }\n",
       "\n",
       "    .dataframe thead th {\n",
       "        text-align: right;\n",
       "    }\n",
       "</style>\n",
       "<table border=\"1\" class=\"dataframe\">\n",
       "  <thead>\n",
       "    <tr style=\"text-align: right;\">\n",
       "      <th></th>\n",
       "      <th></th>\n",
       "      <th></th>\n",
       "      <th>count</th>\n",
       "    </tr>\n",
       "    <tr>\n",
       "      <th>week</th>\n",
       "      <th>new_ent</th>\n",
       "      <th>type</th>\n",
       "      <th></th>\n",
       "    </tr>\n",
       "  </thead>\n",
       "  <tbody>\n",
       "    <tr>\n",
       "      <th rowspan=\"5\" valign=\"top\">2024-06-24/2024-06-30</th>\n",
       "      <th>) MODELLING</th>\n",
       "      <th>H_SKILL</th>\n",
       "      <td>1</td>\n",
       "    </tr>\n",
       "    <tr>\n",
       "      <th>*, *383</th>\n",
       "      <th>S_SKILL</th>\n",
       "      <td>1</td>\n",
       "    </tr>\n",
       "    <tr>\n",
       "      <th>*2024</th>\n",
       "      <th>S_SKILL</th>\n",
       "      <td>1</td>\n",
       "    </tr>\n",
       "    <tr>\n",
       "      <th>, INSPIRING, AND THOUGHT</th>\n",
       "      <th>S_SKILL</th>\n",
       "      <td>1</td>\n",
       "    </tr>\n",
       "    <tr>\n",
       "      <th>, OR PROVEN DEVELOPMENT EXPERIENCE</th>\n",
       "      <th>S_SKILL</th>\n",
       "      <td>1</td>\n",
       "    </tr>\n",
       "    <tr>\n",
       "      <th>...</th>\n",
       "      <th>...</th>\n",
       "      <th>...</th>\n",
       "      <td>...</td>\n",
       "    </tr>\n",
       "    <tr>\n",
       "      <th rowspan=\"5\" valign=\"top\">2024-07-01/2024-07-07</th>\n",
       "      <th>XCODE</th>\n",
       "      <th>LANG_FRAM</th>\n",
       "      <td>1</td>\n",
       "    </tr>\n",
       "    <tr>\n",
       "      <th>XML</th>\n",
       "      <th>LANG_FRAM</th>\n",
       "      <td>1</td>\n",
       "    </tr>\n",
       "    <tr>\n",
       "      <th>XSLT</th>\n",
       "      <th>LANG_FRAM</th>\n",
       "      <td>1</td>\n",
       "    </tr>\n",
       "    <tr>\n",
       "      <th>ZEPHYR</th>\n",
       "      <th>LANG_FRAM</th>\n",
       "      <td>1</td>\n",
       "    </tr>\n",
       "    <tr>\n",
       "      <th>· PROGRAMMING</th>\n",
       "      <th>LANG_FRAM</th>\n",
       "      <td>1</td>\n",
       "    </tr>\n",
       "  </tbody>\n",
       "</table>\n",
       "<p>7773 rows × 1 columns</p>\n",
       "</div>"
      ],
      "text/plain": [
       "                                                                    count\n",
       "week                  new_ent                            type            \n",
       "2024-06-24/2024-06-30 ) MODELLING                        H_SKILL        1\n",
       "                      *, *383                            S_SKILL        1\n",
       "                      *2024                              S_SKILL        1\n",
       "                      , INSPIRING, AND THOUGHT           S_SKILL        1\n",
       "                      , OR PROVEN DEVELOPMENT EXPERIENCE S_SKILL        1\n",
       "...                                                                   ...\n",
       "2024-07-01/2024-07-07 XCODE                              LANG_FRAM      1\n",
       "                      XML                                LANG_FRAM      1\n",
       "                      XSLT                               LANG_FRAM      1\n",
       "                      ZEPHYR                             LANG_FRAM      1\n",
       "                      · PROGRAMMING                      LANG_FRAM      1\n",
       "\n",
       "[7773 rows x 1 columns]"
      ]
     },
     "execution_count": 11,
     "metadata": {},
     "output_type": "execute_result"
    }
   ],
   "source": [
    "pd.DataFrame(week_counts).sort_index()"
   ]
  },
  {
   "cell_type": "code",
   "execution_count": 12,
   "metadata": {},
   "outputs": [
    {
     "data": {
      "text/html": [
       "<div>\n",
       "<style scoped>\n",
       "    .dataframe tbody tr th:only-of-type {\n",
       "        vertical-align: middle;\n",
       "    }\n",
       "\n",
       "    .dataframe tbody tr th {\n",
       "        vertical-align: top;\n",
       "    }\n",
       "\n",
       "    .dataframe thead th {\n",
       "        text-align: right;\n",
       "    }\n",
       "</style>\n",
       "<table border=\"1\" class=\"dataframe\">\n",
       "  <thead>\n",
       "    <tr style=\"text-align: right;\">\n",
       "      <th></th>\n",
       "      <th></th>\n",
       "      <th></th>\n",
       "      <th>count</th>\n",
       "    </tr>\n",
       "    <tr>\n",
       "      <th>year</th>\n",
       "      <th>new_ent</th>\n",
       "      <th>type</th>\n",
       "      <th></th>\n",
       "    </tr>\n",
       "  </thead>\n",
       "  <tbody>\n",
       "    <tr>\n",
       "      <th rowspan=\"11\" valign=\"top\">2024</th>\n",
       "      <th>COLLABORATION AND TEAMWORK</th>\n",
       "      <th>S_SKILL</th>\n",
       "      <td>1147</td>\n",
       "    </tr>\n",
       "    <tr>\n",
       "      <th>COMMUNICATION</th>\n",
       "      <th>S_SKILL</th>\n",
       "      <td>854</td>\n",
       "    </tr>\n",
       "    <tr>\n",
       "      <th>ANALYTICAL THINKING AND PROBLEM SOLVING</th>\n",
       "      <th>S_SKILL</th>\n",
       "      <td>820</td>\n",
       "    </tr>\n",
       "    <tr>\n",
       "      <th>CLOUD (GC, AWS, AZURE, ETC.)</th>\n",
       "      <th>LANG_FRAM</th>\n",
       "      <td>804</td>\n",
       "    </tr>\n",
       "    <tr>\n",
       "      <th>BACHELOR'S</th>\n",
       "      <th>REQUIREMENT</th>\n",
       "      <td>760</td>\n",
       "    </tr>\n",
       "    <tr>\n",
       "      <th>...</th>\n",
       "      <th>...</th>\n",
       "      <td>...</td>\n",
       "    </tr>\n",
       "    <tr>\n",
       "      <th>EXPERIENCE IN THE DESIGN, INTEGRATION AND ROLL OUT OF END TO END DIGITAL TELECOMMUNICATIONS SYSTEMS</th>\n",
       "      <th>H_SKILL</th>\n",
       "      <td>1</td>\n",
       "    </tr>\n",
       "    <tr>\n",
       "      <th>EXPERIENCE IN TECHNOLOGY ROLES SUCH AS TECHNOLOGY CONSULTANCY</th>\n",
       "      <th>H_SKILL</th>\n",
       "      <td>1</td>\n",
       "    </tr>\n",
       "    <tr>\n",
       "      <th>EXPERIENCE IN TECHNOLOGY PRODUCT MANAGEMENT</th>\n",
       "      <th>H_SKILL</th>\n",
       "      <td>1</td>\n",
       "    </tr>\n",
       "    <tr>\n",
       "      <th>EXPERIENCE IN SYSTEM-LEVEL CODE OPTIMISATION</th>\n",
       "      <th>H_SKILL</th>\n",
       "      <td>1</td>\n",
       "    </tr>\n",
       "    <tr>\n",
       "      <th>● VISUALISATION</th>\n",
       "      <th>H_SKILL</th>\n",
       "      <td>1</td>\n",
       "    </tr>\n",
       "  </tbody>\n",
       "</table>\n",
       "<p>6956 rows × 1 columns</p>\n",
       "</div>"
      ],
      "text/plain": [
       "                                                                     count\n",
       "year new_ent                                            type              \n",
       "2024 COLLABORATION AND TEAMWORK                         S_SKILL       1147\n",
       "     COMMUNICATION                                      S_SKILL        854\n",
       "     ANALYTICAL THINKING AND PROBLEM SOLVING            S_SKILL        820\n",
       "     CLOUD (GC, AWS, AZURE, ETC.)                       LANG_FRAM      804\n",
       "     BACHELOR'S                                         REQUIREMENT    760\n",
       "...                                                                    ...\n",
       "     EXPERIENCE IN THE DESIGN, INTEGRATION AND ROLL ... H_SKILL          1\n",
       "     EXPERIENCE IN TECHNOLOGY ROLES SUCH AS TECHNOLO... H_SKILL          1\n",
       "     EXPERIENCE IN TECHNOLOGY PRODUCT MANAGEMENT        H_SKILL          1\n",
       "     EXPERIENCE IN SYSTEM-LEVEL CODE OPTIMISATION       H_SKILL          1\n",
       "     ● VISUALISATION                                    H_SKILL          1\n",
       "\n",
       "[6956 rows x 1 columns]"
      ]
     },
     "execution_count": 12,
     "metadata": {},
     "output_type": "execute_result"
    }
   ],
   "source": [
    "pd.DataFrame(year_counts)"
   ]
  },
  {
   "cell_type": "code",
   "execution_count": 13,
   "metadata": {},
   "outputs": [],
   "source": [
    "year_df = pd.DataFrame(year_counts).reset_index()"
   ]
  },
  {
   "cell_type": "code",
   "execution_count": 14,
   "metadata": {},
   "outputs": [
    {
     "data": {
      "text/html": [
       "<div>\n",
       "<style scoped>\n",
       "    .dataframe tbody tr th:only-of-type {\n",
       "        vertical-align: middle;\n",
       "    }\n",
       "\n",
       "    .dataframe tbody tr th {\n",
       "        vertical-align: top;\n",
       "    }\n",
       "\n",
       "    .dataframe thead th {\n",
       "        text-align: right;\n",
       "    }\n",
       "</style>\n",
       "<table border=\"1\" class=\"dataframe\">\n",
       "  <thead>\n",
       "    <tr style=\"text-align: right;\">\n",
       "      <th></th>\n",
       "      <th>year</th>\n",
       "      <th>new_ent</th>\n",
       "      <th>type</th>\n",
       "      <th>count</th>\n",
       "    </tr>\n",
       "  </thead>\n",
       "  <tbody>\n",
       "    <tr>\n",
       "      <th>0</th>\n",
       "      <td>2024</td>\n",
       "      <td>COLLABORATION AND TEAMWORK</td>\n",
       "      <td>S_SKILL</td>\n",
       "      <td>1147</td>\n",
       "    </tr>\n",
       "    <tr>\n",
       "      <th>1</th>\n",
       "      <td>2024</td>\n",
       "      <td>COMMUNICATION</td>\n",
       "      <td>S_SKILL</td>\n",
       "      <td>854</td>\n",
       "    </tr>\n",
       "    <tr>\n",
       "      <th>2</th>\n",
       "      <td>2024</td>\n",
       "      <td>ANALYTICAL THINKING AND PROBLEM SOLVING</td>\n",
       "      <td>S_SKILL</td>\n",
       "      <td>820</td>\n",
       "    </tr>\n",
       "    <tr>\n",
       "      <th>3</th>\n",
       "      <td>2024</td>\n",
       "      <td>CLOUD (GC, AWS, AZURE, ETC.)</td>\n",
       "      <td>LANG_FRAM</td>\n",
       "      <td>804</td>\n",
       "    </tr>\n",
       "    <tr>\n",
       "      <th>4</th>\n",
       "      <td>2024</td>\n",
       "      <td>BACHELOR'S</td>\n",
       "      <td>REQUIREMENT</td>\n",
       "      <td>760</td>\n",
       "    </tr>\n",
       "    <tr>\n",
       "      <th>...</th>\n",
       "      <td>...</td>\n",
       "      <td>...</td>\n",
       "      <td>...</td>\n",
       "      <td>...</td>\n",
       "    </tr>\n",
       "    <tr>\n",
       "      <th>6951</th>\n",
       "      <td>2024</td>\n",
       "      <td>EXPERIENCE IN THE DESIGN, INTEGRATION AND ROLL...</td>\n",
       "      <td>H_SKILL</td>\n",
       "      <td>1</td>\n",
       "    </tr>\n",
       "    <tr>\n",
       "      <th>6952</th>\n",
       "      <td>2024</td>\n",
       "      <td>EXPERIENCE IN TECHNOLOGY ROLES SUCH AS TECHNOL...</td>\n",
       "      <td>H_SKILL</td>\n",
       "      <td>1</td>\n",
       "    </tr>\n",
       "    <tr>\n",
       "      <th>6953</th>\n",
       "      <td>2024</td>\n",
       "      <td>EXPERIENCE IN TECHNOLOGY PRODUCT MANAGEMENT</td>\n",
       "      <td>H_SKILL</td>\n",
       "      <td>1</td>\n",
       "    </tr>\n",
       "    <tr>\n",
       "      <th>6954</th>\n",
       "      <td>2024</td>\n",
       "      <td>EXPERIENCE IN SYSTEM-LEVEL CODE OPTIMISATION</td>\n",
       "      <td>H_SKILL</td>\n",
       "      <td>1</td>\n",
       "    </tr>\n",
       "    <tr>\n",
       "      <th>6955</th>\n",
       "      <td>2024</td>\n",
       "      <td>● VISUALISATION</td>\n",
       "      <td>H_SKILL</td>\n",
       "      <td>1</td>\n",
       "    </tr>\n",
       "  </tbody>\n",
       "</table>\n",
       "<p>6956 rows × 4 columns</p>\n",
       "</div>"
      ],
      "text/plain": [
       "      year                                            new_ent         type  \\\n",
       "0     2024                         COLLABORATION AND TEAMWORK      S_SKILL   \n",
       "1     2024                                      COMMUNICATION      S_SKILL   \n",
       "2     2024            ANALYTICAL THINKING AND PROBLEM SOLVING      S_SKILL   \n",
       "3     2024                       CLOUD (GC, AWS, AZURE, ETC.)    LANG_FRAM   \n",
       "4     2024                                         BACHELOR'S  REQUIREMENT   \n",
       "...    ...                                                ...          ...   \n",
       "6951  2024  EXPERIENCE IN THE DESIGN, INTEGRATION AND ROLL...      H_SKILL   \n",
       "6952  2024  EXPERIENCE IN TECHNOLOGY ROLES SUCH AS TECHNOL...      H_SKILL   \n",
       "6953  2024        EXPERIENCE IN TECHNOLOGY PRODUCT MANAGEMENT      H_SKILL   \n",
       "6954  2024       EXPERIENCE IN SYSTEM-LEVEL CODE OPTIMISATION      H_SKILL   \n",
       "6955  2024                                    ● VISUALISATION      H_SKILL   \n",
       "\n",
       "      count  \n",
       "0      1147  \n",
       "1       854  \n",
       "2       820  \n",
       "3       804  \n",
       "4       760  \n",
       "...     ...  \n",
       "6951      1  \n",
       "6952      1  \n",
       "6953      1  \n",
       "6954      1  \n",
       "6955      1  \n",
       "\n",
       "[6956 rows x 4 columns]"
      ]
     },
     "execution_count": 14,
     "metadata": {},
     "output_type": "execute_result"
    }
   ],
   "source": [
    "year_df"
   ]
  },
  {
   "cell_type": "code",
   "execution_count": 15,
   "metadata": {},
   "outputs": [],
   "source": [
    "year_df['total'] = year_df['year'].map(year_totals)"
   ]
  },
  {
   "cell_type": "code",
   "execution_count": 16,
   "metadata": {},
   "outputs": [],
   "source": [
    "year_df['proportion_perc'] = (year_df['count'] / year_df['total']) * 100"
   ]
  },
  {
   "cell_type": "code",
   "execution_count": 17,
   "metadata": {},
   "outputs": [],
   "source": [
    "year_df.drop(columns=['total'], inplace=True)"
   ]
  },
  {
   "cell_type": "code",
   "execution_count": 18,
   "metadata": {},
   "outputs": [
    {
     "data": {
      "text/html": [
       "<div>\n",
       "<style scoped>\n",
       "    .dataframe tbody tr th:only-of-type {\n",
       "        vertical-align: middle;\n",
       "    }\n",
       "\n",
       "    .dataframe tbody tr th {\n",
       "        vertical-align: top;\n",
       "    }\n",
       "\n",
       "    .dataframe thead th {\n",
       "        text-align: right;\n",
       "    }\n",
       "</style>\n",
       "<table border=\"1\" class=\"dataframe\">\n",
       "  <thead>\n",
       "    <tr style=\"text-align: right;\">\n",
       "      <th></th>\n",
       "      <th>year</th>\n",
       "      <th>new_ent</th>\n",
       "      <th>type</th>\n",
       "      <th>count</th>\n",
       "      <th>proportion_perc</th>\n",
       "    </tr>\n",
       "  </thead>\n",
       "  <tbody>\n",
       "    <tr>\n",
       "      <th>0</th>\n",
       "      <td>2024</td>\n",
       "      <td>COLLABORATION AND TEAMWORK</td>\n",
       "      <td>S_SKILL</td>\n",
       "      <td>1147</td>\n",
       "      <td>4.758744</td>\n",
       "    </tr>\n",
       "    <tr>\n",
       "      <th>1</th>\n",
       "      <td>2024</td>\n",
       "      <td>COMMUNICATION</td>\n",
       "      <td>S_SKILL</td>\n",
       "      <td>854</td>\n",
       "      <td>3.543127</td>\n",
       "    </tr>\n",
       "    <tr>\n",
       "      <th>2</th>\n",
       "      <td>2024</td>\n",
       "      <td>ANALYTICAL THINKING AND PROBLEM SOLVING</td>\n",
       "      <td>S_SKILL</td>\n",
       "      <td>820</td>\n",
       "      <td>3.402066</td>\n",
       "    </tr>\n",
       "    <tr>\n",
       "      <th>3</th>\n",
       "      <td>2024</td>\n",
       "      <td>CLOUD (GC, AWS, AZURE, ETC.)</td>\n",
       "      <td>LANG_FRAM</td>\n",
       "      <td>804</td>\n",
       "      <td>3.335684</td>\n",
       "    </tr>\n",
       "    <tr>\n",
       "      <th>4</th>\n",
       "      <td>2024</td>\n",
       "      <td>BACHELOR'S</td>\n",
       "      <td>REQUIREMENT</td>\n",
       "      <td>760</td>\n",
       "      <td>3.153134</td>\n",
       "    </tr>\n",
       "    <tr>\n",
       "      <th>5</th>\n",
       "      <td>2024</td>\n",
       "      <td>AI</td>\n",
       "      <td>LANG_FRAM</td>\n",
       "      <td>651</td>\n",
       "      <td>2.700909</td>\n",
       "    </tr>\n",
       "    <tr>\n",
       "      <th>6</th>\n",
       "      <td>2024</td>\n",
       "      <td>PYTHON</td>\n",
       "      <td>LANG_FRAM</td>\n",
       "      <td>423</td>\n",
       "      <td>1.754968</td>\n",
       "    </tr>\n",
       "    <tr>\n",
       "      <th>7</th>\n",
       "      <td>2024</td>\n",
       "      <td>MACHINE LEARNING</td>\n",
       "      <td>LANG_FRAM</td>\n",
       "      <td>418</td>\n",
       "      <td>1.734224</td>\n",
       "    </tr>\n",
       "    <tr>\n",
       "      <th>8</th>\n",
       "      <td>2024</td>\n",
       "      <td>PASSION AND ENTHUSIASM</td>\n",
       "      <td>S_SKILL</td>\n",
       "      <td>348</td>\n",
       "      <td>1.443804</td>\n",
       "    </tr>\n",
       "    <tr>\n",
       "      <th>9</th>\n",
       "      <td>2024</td>\n",
       "      <td>MASTER'S</td>\n",
       "      <td>REQUIREMENT</td>\n",
       "      <td>258</td>\n",
       "      <td>1.070406</td>\n",
       "    </tr>\n",
       "    <tr>\n",
       "      <th>10</th>\n",
       "      <td>2024</td>\n",
       "      <td>SQL</td>\n",
       "      <td>LANG_FRAM</td>\n",
       "      <td>257</td>\n",
       "      <td>1.066257</td>\n",
       "    </tr>\n",
       "    <tr>\n",
       "      <th>11</th>\n",
       "      <td>2024</td>\n",
       "      <td>DEVELOPMENT</td>\n",
       "      <td>H_SKILL</td>\n",
       "      <td>227</td>\n",
       "      <td>0.941791</td>\n",
       "    </tr>\n",
       "    <tr>\n",
       "      <th>12</th>\n",
       "      <td>2024</td>\n",
       "      <td>CODING/PROGRAMMING</td>\n",
       "      <td>H_SKILL</td>\n",
       "      <td>225</td>\n",
       "      <td>0.933494</td>\n",
       "    </tr>\n",
       "    <tr>\n",
       "      <th>13</th>\n",
       "      <td>2024</td>\n",
       "      <td>TESTING</td>\n",
       "      <td>H_SKILL</td>\n",
       "      <td>220</td>\n",
       "      <td>0.912749</td>\n",
       "    </tr>\n",
       "    <tr>\n",
       "      <th>14</th>\n",
       "      <td>2024</td>\n",
       "      <td>DATA ANALYSIS</td>\n",
       "      <td>H_SKILL</td>\n",
       "      <td>216</td>\n",
       "      <td>0.896154</td>\n",
       "    </tr>\n",
       "    <tr>\n",
       "      <th>15</th>\n",
       "      <td>2024</td>\n",
       "      <td>APIS (SOAP, REST, ETC.)</td>\n",
       "      <td>LANG_FRAM</td>\n",
       "      <td>180</td>\n",
       "      <td>0.746795</td>\n",
       "    </tr>\n",
       "    <tr>\n",
       "      <th>16</th>\n",
       "      <td>2024</td>\n",
       "      <td>WILLING TO LEARN</td>\n",
       "      <td>S_SKILL</td>\n",
       "      <td>163</td>\n",
       "      <td>0.676264</td>\n",
       "    </tr>\n",
       "    <tr>\n",
       "      <th>17</th>\n",
       "      <td>2024</td>\n",
       "      <td>AGILE</td>\n",
       "      <td>H_SKILL</td>\n",
       "      <td>162</td>\n",
       "      <td>0.672116</td>\n",
       "    </tr>\n",
       "    <tr>\n",
       "      <th>18</th>\n",
       "      <td>2024</td>\n",
       "      <td>ATTENTION TO DETAIL</td>\n",
       "      <td>S_SKILL</td>\n",
       "      <td>159</td>\n",
       "      <td>0.659669</td>\n",
       "    </tr>\n",
       "    <tr>\n",
       "      <th>19</th>\n",
       "      <td>2024</td>\n",
       "      <td>INDEPENDENT WORKING</td>\n",
       "      <td>S_SKILL</td>\n",
       "      <td>153</td>\n",
       "      <td>0.634776</td>\n",
       "    </tr>\n",
       "  </tbody>\n",
       "</table>\n",
       "</div>"
      ],
      "text/plain": [
       "    year                                  new_ent         type  count  \\\n",
       "0   2024               COLLABORATION AND TEAMWORK      S_SKILL   1147   \n",
       "1   2024                            COMMUNICATION      S_SKILL    854   \n",
       "2   2024  ANALYTICAL THINKING AND PROBLEM SOLVING      S_SKILL    820   \n",
       "3   2024             CLOUD (GC, AWS, AZURE, ETC.)    LANG_FRAM    804   \n",
       "4   2024                               BACHELOR'S  REQUIREMENT    760   \n",
       "5   2024                                       AI    LANG_FRAM    651   \n",
       "6   2024                                   PYTHON    LANG_FRAM    423   \n",
       "7   2024                         MACHINE LEARNING    LANG_FRAM    418   \n",
       "8   2024                   PASSION AND ENTHUSIASM      S_SKILL    348   \n",
       "9   2024                                 MASTER'S  REQUIREMENT    258   \n",
       "10  2024                                      SQL    LANG_FRAM    257   \n",
       "11  2024                              DEVELOPMENT      H_SKILL    227   \n",
       "12  2024                       CODING/PROGRAMMING      H_SKILL    225   \n",
       "13  2024                                  TESTING      H_SKILL    220   \n",
       "14  2024                            DATA ANALYSIS      H_SKILL    216   \n",
       "15  2024                  APIS (SOAP, REST, ETC.)    LANG_FRAM    180   \n",
       "16  2024                         WILLING TO LEARN      S_SKILL    163   \n",
       "17  2024                                    AGILE      H_SKILL    162   \n",
       "18  2024                      ATTENTION TO DETAIL      S_SKILL    159   \n",
       "19  2024                      INDEPENDENT WORKING      S_SKILL    153   \n",
       "\n",
       "    proportion_perc  \n",
       "0          4.758744  \n",
       "1          3.543127  \n",
       "2          3.402066  \n",
       "3          3.335684  \n",
       "4          3.153134  \n",
       "5          2.700909  \n",
       "6          1.754968  \n",
       "7          1.734224  \n",
       "8          1.443804  \n",
       "9          1.070406  \n",
       "10         1.066257  \n",
       "11         0.941791  \n",
       "12         0.933494  \n",
       "13         0.912749  \n",
       "14         0.896154  \n",
       "15         0.746795  \n",
       "16         0.676264  \n",
       "17         0.672116  \n",
       "18         0.659669  \n",
       "19         0.634776  "
      ]
     },
     "execution_count": 18,
     "metadata": {},
     "output_type": "execute_result"
    }
   ],
   "source": [
    "year_df.head(20)"
   ]
  },
  {
   "cell_type": "code",
   "execution_count": 19,
   "metadata": {},
   "outputs": [],
   "source": [
    "year_df['perc_change'] = year_df.groupby(['new_ent', 'type'])['proportion_perc'].pct_change()"
   ]
  },
  {
   "cell_type": "code",
   "execution_count": 20,
   "metadata": {},
   "outputs": [
    {
     "data": {
      "text/html": [
       "<div>\n",
       "<style scoped>\n",
       "    .dataframe tbody tr th:only-of-type {\n",
       "        vertical-align: middle;\n",
       "    }\n",
       "\n",
       "    .dataframe tbody tr th {\n",
       "        vertical-align: top;\n",
       "    }\n",
       "\n",
       "    .dataframe thead th {\n",
       "        text-align: right;\n",
       "    }\n",
       "</style>\n",
       "<table border=\"1\" class=\"dataframe\">\n",
       "  <thead>\n",
       "    <tr style=\"text-align: right;\">\n",
       "      <th></th>\n",
       "      <th>year</th>\n",
       "      <th>new_ent</th>\n",
       "      <th>type</th>\n",
       "      <th>count</th>\n",
       "      <th>proportion_perc</th>\n",
       "      <th>perc_change</th>\n",
       "    </tr>\n",
       "  </thead>\n",
       "  <tbody>\n",
       "    <tr>\n",
       "      <th>0</th>\n",
       "      <td>2024</td>\n",
       "      <td>COLLABORATION AND TEAMWORK</td>\n",
       "      <td>S_SKILL</td>\n",
       "      <td>1147</td>\n",
       "      <td>4.758744</td>\n",
       "      <td>NaN</td>\n",
       "    </tr>\n",
       "    <tr>\n",
       "      <th>1</th>\n",
       "      <td>2024</td>\n",
       "      <td>COMMUNICATION</td>\n",
       "      <td>S_SKILL</td>\n",
       "      <td>854</td>\n",
       "      <td>3.543127</td>\n",
       "      <td>NaN</td>\n",
       "    </tr>\n",
       "    <tr>\n",
       "      <th>2</th>\n",
       "      <td>2024</td>\n",
       "      <td>ANALYTICAL THINKING AND PROBLEM SOLVING</td>\n",
       "      <td>S_SKILL</td>\n",
       "      <td>820</td>\n",
       "      <td>3.402066</td>\n",
       "      <td>NaN</td>\n",
       "    </tr>\n",
       "    <tr>\n",
       "      <th>3</th>\n",
       "      <td>2024</td>\n",
       "      <td>CLOUD (GC, AWS, AZURE, ETC.)</td>\n",
       "      <td>LANG_FRAM</td>\n",
       "      <td>804</td>\n",
       "      <td>3.335684</td>\n",
       "      <td>NaN</td>\n",
       "    </tr>\n",
       "    <tr>\n",
       "      <th>4</th>\n",
       "      <td>2024</td>\n",
       "      <td>BACHELOR'S</td>\n",
       "      <td>REQUIREMENT</td>\n",
       "      <td>760</td>\n",
       "      <td>3.153134</td>\n",
       "      <td>NaN</td>\n",
       "    </tr>\n",
       "    <tr>\n",
       "      <th>5</th>\n",
       "      <td>2024</td>\n",
       "      <td>AI</td>\n",
       "      <td>LANG_FRAM</td>\n",
       "      <td>651</td>\n",
       "      <td>2.700909</td>\n",
       "      <td>NaN</td>\n",
       "    </tr>\n",
       "    <tr>\n",
       "      <th>6</th>\n",
       "      <td>2024</td>\n",
       "      <td>PYTHON</td>\n",
       "      <td>LANG_FRAM</td>\n",
       "      <td>423</td>\n",
       "      <td>1.754968</td>\n",
       "      <td>NaN</td>\n",
       "    </tr>\n",
       "    <tr>\n",
       "      <th>7</th>\n",
       "      <td>2024</td>\n",
       "      <td>MACHINE LEARNING</td>\n",
       "      <td>LANG_FRAM</td>\n",
       "      <td>418</td>\n",
       "      <td>1.734224</td>\n",
       "      <td>NaN</td>\n",
       "    </tr>\n",
       "    <tr>\n",
       "      <th>8</th>\n",
       "      <td>2024</td>\n",
       "      <td>PASSION AND ENTHUSIASM</td>\n",
       "      <td>S_SKILL</td>\n",
       "      <td>348</td>\n",
       "      <td>1.443804</td>\n",
       "      <td>NaN</td>\n",
       "    </tr>\n",
       "    <tr>\n",
       "      <th>9</th>\n",
       "      <td>2024</td>\n",
       "      <td>MASTER'S</td>\n",
       "      <td>REQUIREMENT</td>\n",
       "      <td>258</td>\n",
       "      <td>1.070406</td>\n",
       "      <td>NaN</td>\n",
       "    </tr>\n",
       "    <tr>\n",
       "      <th>10</th>\n",
       "      <td>2024</td>\n",
       "      <td>SQL</td>\n",
       "      <td>LANG_FRAM</td>\n",
       "      <td>257</td>\n",
       "      <td>1.066257</td>\n",
       "      <td>NaN</td>\n",
       "    </tr>\n",
       "    <tr>\n",
       "      <th>11</th>\n",
       "      <td>2024</td>\n",
       "      <td>DEVELOPMENT</td>\n",
       "      <td>H_SKILL</td>\n",
       "      <td>227</td>\n",
       "      <td>0.941791</td>\n",
       "      <td>NaN</td>\n",
       "    </tr>\n",
       "    <tr>\n",
       "      <th>12</th>\n",
       "      <td>2024</td>\n",
       "      <td>CODING/PROGRAMMING</td>\n",
       "      <td>H_SKILL</td>\n",
       "      <td>225</td>\n",
       "      <td>0.933494</td>\n",
       "      <td>NaN</td>\n",
       "    </tr>\n",
       "    <tr>\n",
       "      <th>13</th>\n",
       "      <td>2024</td>\n",
       "      <td>TESTING</td>\n",
       "      <td>H_SKILL</td>\n",
       "      <td>220</td>\n",
       "      <td>0.912749</td>\n",
       "      <td>NaN</td>\n",
       "    </tr>\n",
       "    <tr>\n",
       "      <th>14</th>\n",
       "      <td>2024</td>\n",
       "      <td>DATA ANALYSIS</td>\n",
       "      <td>H_SKILL</td>\n",
       "      <td>216</td>\n",
       "      <td>0.896154</td>\n",
       "      <td>NaN</td>\n",
       "    </tr>\n",
       "    <tr>\n",
       "      <th>15</th>\n",
       "      <td>2024</td>\n",
       "      <td>APIS (SOAP, REST, ETC.)</td>\n",
       "      <td>LANG_FRAM</td>\n",
       "      <td>180</td>\n",
       "      <td>0.746795</td>\n",
       "      <td>NaN</td>\n",
       "    </tr>\n",
       "    <tr>\n",
       "      <th>16</th>\n",
       "      <td>2024</td>\n",
       "      <td>WILLING TO LEARN</td>\n",
       "      <td>S_SKILL</td>\n",
       "      <td>163</td>\n",
       "      <td>0.676264</td>\n",
       "      <td>NaN</td>\n",
       "    </tr>\n",
       "    <tr>\n",
       "      <th>17</th>\n",
       "      <td>2024</td>\n",
       "      <td>AGILE</td>\n",
       "      <td>H_SKILL</td>\n",
       "      <td>162</td>\n",
       "      <td>0.672116</td>\n",
       "      <td>NaN</td>\n",
       "    </tr>\n",
       "    <tr>\n",
       "      <th>18</th>\n",
       "      <td>2024</td>\n",
       "      <td>ATTENTION TO DETAIL</td>\n",
       "      <td>S_SKILL</td>\n",
       "      <td>159</td>\n",
       "      <td>0.659669</td>\n",
       "      <td>NaN</td>\n",
       "    </tr>\n",
       "    <tr>\n",
       "      <th>19</th>\n",
       "      <td>2024</td>\n",
       "      <td>INDEPENDENT WORKING</td>\n",
       "      <td>S_SKILL</td>\n",
       "      <td>153</td>\n",
       "      <td>0.634776</td>\n",
       "      <td>NaN</td>\n",
       "    </tr>\n",
       "  </tbody>\n",
       "</table>\n",
       "</div>"
      ],
      "text/plain": [
       "    year                                  new_ent         type  count  \\\n",
       "0   2024               COLLABORATION AND TEAMWORK      S_SKILL   1147   \n",
       "1   2024                            COMMUNICATION      S_SKILL    854   \n",
       "2   2024  ANALYTICAL THINKING AND PROBLEM SOLVING      S_SKILL    820   \n",
       "3   2024             CLOUD (GC, AWS, AZURE, ETC.)    LANG_FRAM    804   \n",
       "4   2024                               BACHELOR'S  REQUIREMENT    760   \n",
       "5   2024                                       AI    LANG_FRAM    651   \n",
       "6   2024                                   PYTHON    LANG_FRAM    423   \n",
       "7   2024                         MACHINE LEARNING    LANG_FRAM    418   \n",
       "8   2024                   PASSION AND ENTHUSIASM      S_SKILL    348   \n",
       "9   2024                                 MASTER'S  REQUIREMENT    258   \n",
       "10  2024                                      SQL    LANG_FRAM    257   \n",
       "11  2024                              DEVELOPMENT      H_SKILL    227   \n",
       "12  2024                       CODING/PROGRAMMING      H_SKILL    225   \n",
       "13  2024                                  TESTING      H_SKILL    220   \n",
       "14  2024                            DATA ANALYSIS      H_SKILL    216   \n",
       "15  2024                  APIS (SOAP, REST, ETC.)    LANG_FRAM    180   \n",
       "16  2024                         WILLING TO LEARN      S_SKILL    163   \n",
       "17  2024                                    AGILE      H_SKILL    162   \n",
       "18  2024                      ATTENTION TO DETAIL      S_SKILL    159   \n",
       "19  2024                      INDEPENDENT WORKING      S_SKILL    153   \n",
       "\n",
       "    proportion_perc  perc_change  \n",
       "0          4.758744          NaN  \n",
       "1          3.543127          NaN  \n",
       "2          3.402066          NaN  \n",
       "3          3.335684          NaN  \n",
       "4          3.153134          NaN  \n",
       "5          2.700909          NaN  \n",
       "6          1.754968          NaN  \n",
       "7          1.734224          NaN  \n",
       "8          1.443804          NaN  \n",
       "9          1.070406          NaN  \n",
       "10         1.066257          NaN  \n",
       "11         0.941791          NaN  \n",
       "12         0.933494          NaN  \n",
       "13         0.912749          NaN  \n",
       "14         0.896154          NaN  \n",
       "15         0.746795          NaN  \n",
       "16         0.676264          NaN  \n",
       "17         0.672116          NaN  \n",
       "18         0.659669          NaN  \n",
       "19         0.634776          NaN  "
      ]
     },
     "execution_count": 20,
     "metadata": {},
     "output_type": "execute_result"
    }
   ],
   "source": [
    "year_df.head(20)"
   ]
  },
  {
   "cell_type": "code",
   "execution_count": 21,
   "metadata": {},
   "outputs": [],
   "source": [
    "year_df['perc_change'].fillna(0, inplace=True)"
   ]
  },
  {
   "cell_type": "code",
   "execution_count": 22,
   "metadata": {},
   "outputs": [
    {
     "data": {
      "text/html": [
       "<div>\n",
       "<style scoped>\n",
       "    .dataframe tbody tr th:only-of-type {\n",
       "        vertical-align: middle;\n",
       "    }\n",
       "\n",
       "    .dataframe tbody tr th {\n",
       "        vertical-align: top;\n",
       "    }\n",
       "\n",
       "    .dataframe thead th {\n",
       "        text-align: right;\n",
       "    }\n",
       "</style>\n",
       "<table border=\"1\" class=\"dataframe\">\n",
       "  <thead>\n",
       "    <tr style=\"text-align: right;\">\n",
       "      <th></th>\n",
       "      <th>year</th>\n",
       "      <th>new_ent</th>\n",
       "      <th>type</th>\n",
       "      <th>count</th>\n",
       "      <th>proportion_perc</th>\n",
       "      <th>perc_change</th>\n",
       "    </tr>\n",
       "  </thead>\n",
       "  <tbody>\n",
       "    <tr>\n",
       "      <th>0</th>\n",
       "      <td>2024</td>\n",
       "      <td>COLLABORATION AND TEAMWORK</td>\n",
       "      <td>S_SKILL</td>\n",
       "      <td>1147</td>\n",
       "      <td>4.758744</td>\n",
       "      <td>0.0</td>\n",
       "    </tr>\n",
       "    <tr>\n",
       "      <th>1</th>\n",
       "      <td>2024</td>\n",
       "      <td>COMMUNICATION</td>\n",
       "      <td>S_SKILL</td>\n",
       "      <td>854</td>\n",
       "      <td>3.543127</td>\n",
       "      <td>0.0</td>\n",
       "    </tr>\n",
       "    <tr>\n",
       "      <th>2</th>\n",
       "      <td>2024</td>\n",
       "      <td>ANALYTICAL THINKING AND PROBLEM SOLVING</td>\n",
       "      <td>S_SKILL</td>\n",
       "      <td>820</td>\n",
       "      <td>3.402066</td>\n",
       "      <td>0.0</td>\n",
       "    </tr>\n",
       "    <tr>\n",
       "      <th>3</th>\n",
       "      <td>2024</td>\n",
       "      <td>CLOUD (GC, AWS, AZURE, ETC.)</td>\n",
       "      <td>LANG_FRAM</td>\n",
       "      <td>804</td>\n",
       "      <td>3.335684</td>\n",
       "      <td>0.0</td>\n",
       "    </tr>\n",
       "    <tr>\n",
       "      <th>4</th>\n",
       "      <td>2024</td>\n",
       "      <td>BACHELOR'S</td>\n",
       "      <td>REQUIREMENT</td>\n",
       "      <td>760</td>\n",
       "      <td>3.153134</td>\n",
       "      <td>0.0</td>\n",
       "    </tr>\n",
       "  </tbody>\n",
       "</table>\n",
       "</div>"
      ],
      "text/plain": [
       "   year                                  new_ent         type  count  \\\n",
       "0  2024               COLLABORATION AND TEAMWORK      S_SKILL   1147   \n",
       "1  2024                            COMMUNICATION      S_SKILL    854   \n",
       "2  2024  ANALYTICAL THINKING AND PROBLEM SOLVING      S_SKILL    820   \n",
       "3  2024             CLOUD (GC, AWS, AZURE, ETC.)    LANG_FRAM    804   \n",
       "4  2024                               BACHELOR'S  REQUIREMENT    760   \n",
       "\n",
       "   proportion_perc  perc_change  \n",
       "0         4.758744          0.0  \n",
       "1         3.543127          0.0  \n",
       "2         3.402066          0.0  \n",
       "3         3.335684          0.0  \n",
       "4         3.153134          0.0  "
      ]
     },
     "execution_count": 22,
     "metadata": {},
     "output_type": "execute_result"
    }
   ],
   "source": [
    "year_df.head()"
   ]
  },
  {
   "cell_type": "markdown",
   "metadata": {},
   "source": [
    "### Visualisations"
   ]
  },
  {
   "cell_type": "code",
   "execution_count": 23,
   "metadata": {},
   "outputs": [],
   "source": [
    "import plotly.express as px"
   ]
  },
  {
   "cell_type": "code",
   "execution_count": 24,
   "metadata": {},
   "outputs": [],
   "source": [
    "month_df = pd.read_csv('../trend_data/monthly_trend.csv')"
   ]
  },
  {
   "cell_type": "code",
   "execution_count": 25,
   "metadata": {},
   "outputs": [
    {
     "data": {
      "text/html": [
       "<div>\n",
       "<style scoped>\n",
       "    .dataframe tbody tr th:only-of-type {\n",
       "        vertical-align: middle;\n",
       "    }\n",
       "\n",
       "    .dataframe tbody tr th {\n",
       "        vertical-align: top;\n",
       "    }\n",
       "\n",
       "    .dataframe thead th {\n",
       "        text-align: right;\n",
       "    }\n",
       "</style>\n",
       "<table border=\"1\" class=\"dataframe\">\n",
       "  <thead>\n",
       "    <tr style=\"text-align: right;\">\n",
       "      <th></th>\n",
       "      <th>Unnamed: 0</th>\n",
       "      <th>month</th>\n",
       "      <th>new_ent</th>\n",
       "      <th>type</th>\n",
       "      <th>count</th>\n",
       "      <th>proportion_perc</th>\n",
       "      <th>perc_change</th>\n",
       "    </tr>\n",
       "  </thead>\n",
       "  <tbody>\n",
       "    <tr>\n",
       "      <th>1216</th>\n",
       "      <td>1216</td>\n",
       "      <td>2024-06</td>\n",
       "      <td>DATA GOVERNANCE</td>\n",
       "      <td>H_SKILL</td>\n",
       "      <td>6</td>\n",
       "      <td>0.031195</td>\n",
       "      <td>0.000000</td>\n",
       "    </tr>\n",
       "    <tr>\n",
       "      <th>6270</th>\n",
       "      <td>6270</td>\n",
       "      <td>2024-07</td>\n",
       "      <td>DATA GOVERNANCE</td>\n",
       "      <td>H_SKILL</td>\n",
       "      <td>8</td>\n",
       "      <td>0.164305</td>\n",
       "      <td>4.267064</td>\n",
       "    </tr>\n",
       "  </tbody>\n",
       "</table>\n",
       "</div>"
      ],
      "text/plain": [
       "      Unnamed: 0    month          new_ent     type  count  proportion_perc  \\\n",
       "1216        1216  2024-06  DATA GOVERNANCE  H_SKILL      6         0.031195   \n",
       "6270        6270  2024-07  DATA GOVERNANCE  H_SKILL      8         0.164305   \n",
       "\n",
       "      perc_change  \n",
       "1216     0.000000  \n",
       "6270     4.267064  "
      ]
     },
     "execution_count": 25,
     "metadata": {},
     "output_type": "execute_result"
    }
   ],
   "source": [
    "month_df.loc[month_df['new_ent'] == 'DATA GOVERNANCE']"
   ]
  },
  {
   "cell_type": "code",
   "execution_count": 68,
   "metadata": {},
   "outputs": [
    {
     "data": {
      "text/plain": [
       "['2024-07', '2024-06']"
      ]
     },
     "execution_count": 68,
     "metadata": {},
     "output_type": "execute_result"
    }
   ],
   "source": [
    "list(month_df['month'].unique()[::-1])"
   ]
  },
  {
   "cell_type": "code",
   "execution_count": 26,
   "metadata": {},
   "outputs": [],
   "source": [
    "lang_fram_df = month_df.loc[month_df['type'] == 'LANG_FRAM']"
   ]
  },
  {
   "cell_type": "code",
   "execution_count": 27,
   "metadata": {},
   "outputs": [],
   "source": [
    "top_increase = lang_fram_df.loc[(lang_fram_df['perc_change'] > 0) & (lang_fram_df['count'] > 5)].sort_values(by='perc_change', ascending=False)"
   ]
  },
  {
   "cell_type": "code",
   "execution_count": 33,
   "metadata": {},
   "outputs": [],
   "source": [
    "top_decrease = lang_fram_df.loc[(lang_fram_df['perc_change'] < 0) & (lang_fram_df['count'] > 5)].sort_values(by='perc_change', ascending=False)"
   ]
  },
  {
   "cell_type": "code",
   "execution_count": 40,
   "metadata": {},
   "outputs": [],
   "source": [
    "top_increase['status'] = 'increasing'\n",
    "top_decrease['status'] = 'decreasing'"
   ]
  },
  {
   "cell_type": "code",
   "execution_count": 41,
   "metadata": {},
   "outputs": [
    {
     "data": {
      "text/html": [
       "<div>\n",
       "<style scoped>\n",
       "    .dataframe tbody tr th:only-of-type {\n",
       "        vertical-align: middle;\n",
       "    }\n",
       "\n",
       "    .dataframe tbody tr th {\n",
       "        vertical-align: top;\n",
       "    }\n",
       "\n",
       "    .dataframe thead th {\n",
       "        text-align: right;\n",
       "    }\n",
       "</style>\n",
       "<table border=\"1\" class=\"dataframe\">\n",
       "  <thead>\n",
       "    <tr style=\"text-align: right;\">\n",
       "      <th></th>\n",
       "      <th>Unnamed: 0</th>\n",
       "      <th>month</th>\n",
       "      <th>new_ent</th>\n",
       "      <th>type</th>\n",
       "      <th>count</th>\n",
       "      <th>proportion_perc</th>\n",
       "      <th>perc_change</th>\n",
       "      <th>status</th>\n",
       "    </tr>\n",
       "  </thead>\n",
       "  <tbody>\n",
       "    <tr>\n",
       "      <th>6878</th>\n",
       "      <td>6878</td>\n",
       "      <td>2024-07</td>\n",
       "      <td>LARAVEL</td>\n",
       "      <td>LANG_FRAM</td>\n",
       "      <td>10</td>\n",
       "      <td>0.205381</td>\n",
       "      <td>8.875745</td>\n",
       "      <td>increasing</td>\n",
       "    </tr>\n",
       "    <tr>\n",
       "      <th>7007</th>\n",
       "      <td>7007</td>\n",
       "      <td>2024-07</td>\n",
       "      <td>MICROSOFT EXCEL</td>\n",
       "      <td>LANG_FRAM</td>\n",
       "      <td>6</td>\n",
       "      <td>0.123229</td>\n",
       "      <td>2.950298</td>\n",
       "      <td>increasing</td>\n",
       "    </tr>\n",
       "    <tr>\n",
       "      <th>7449</th>\n",
       "      <td>7449</td>\n",
       "      <td>2024-07</td>\n",
       "      <td>SQL SERVER</td>\n",
       "      <td>LANG_FRAM</td>\n",
       "      <td>9</td>\n",
       "      <td>0.184843</td>\n",
       "      <td>1.734822</td>\n",
       "      <td>increasing</td>\n",
       "    </tr>\n",
       "    <tr>\n",
       "      <th>7495</th>\n",
       "      <td>7495</td>\n",
       "      <td>2024-07</td>\n",
       "      <td>TABLEAU</td>\n",
       "      <td>LANG_FRAM</td>\n",
       "      <td>20</td>\n",
       "      <td>0.410762</td>\n",
       "      <td>1.323705</td>\n",
       "      <td>increasing</td>\n",
       "    </tr>\n",
       "    <tr>\n",
       "      <th>7435</th>\n",
       "      <td>7435</td>\n",
       "      <td>2024-07</td>\n",
       "      <td>SPARK</td>\n",
       "      <td>LANG_FRAM</td>\n",
       "      <td>7</td>\n",
       "      <td>0.143767</td>\n",
       "      <td>0.975149</td>\n",
       "      <td>increasing</td>\n",
       "    </tr>\n",
       "    <tr>\n",
       "      <th>6899</th>\n",
       "      <td>6899</td>\n",
       "      <td>2024-07</td>\n",
       "      <td>LLM</td>\n",
       "      <td>LANG_FRAM</td>\n",
       "      <td>15</td>\n",
       "      <td>0.308071</td>\n",
       "      <td>0.911434</td>\n",
       "      <td>increasing</td>\n",
       "    </tr>\n",
       "    <tr>\n",
       "      <th>7402</th>\n",
       "      <td>7402</td>\n",
       "      <td>2024-07</td>\n",
       "      <td>SHAREPOINT</td>\n",
       "      <td>LANG_FRAM</td>\n",
       "      <td>10</td>\n",
       "      <td>0.205381</td>\n",
       "      <td>0.881094</td>\n",
       "      <td>increasing</td>\n",
       "    </tr>\n",
       "    <tr>\n",
       "      <th>6901</th>\n",
       "      <td>6901</td>\n",
       "      <td>2024-07</td>\n",
       "      <td>LLMS</td>\n",
       "      <td>LANG_FRAM</td>\n",
       "      <td>9</td>\n",
       "      <td>0.184843</td>\n",
       "      <td>0.777634</td>\n",
       "      <td>increasing</td>\n",
       "    </tr>\n",
       "    <tr>\n",
       "      <th>7162</th>\n",
       "      <td>7162</td>\n",
       "      <td>2024-07</td>\n",
       "      <td>POWER BI</td>\n",
       "      <td>LANG_FRAM</td>\n",
       "      <td>29</td>\n",
       "      <td>0.595605</td>\n",
       "      <td>0.660270</td>\n",
       "      <td>increasing</td>\n",
       "    </tr>\n",
       "    <tr>\n",
       "      <th>5956</th>\n",
       "      <td>5956</td>\n",
       "      <td>2024-07</td>\n",
       "      <td>AI</td>\n",
       "      <td>LANG_FRAM</td>\n",
       "      <td>175</td>\n",
       "      <td>3.594167</td>\n",
       "      <td>0.452315</td>\n",
       "      <td>increasing</td>\n",
       "    </tr>\n",
       "    <tr>\n",
       "      <th>6610</th>\n",
       "      <td>6610</td>\n",
       "      <td>2024-07</td>\n",
       "      <td>GCP</td>\n",
       "      <td>LANG_FRAM</td>\n",
       "      <td>8</td>\n",
       "      <td>0.164305</td>\n",
       "      <td>0.436472</td>\n",
       "      <td>increasing</td>\n",
       "    </tr>\n",
       "    <tr>\n",
       "      <th>7447</th>\n",
       "      <td>7447</td>\n",
       "      <td>2024-07</td>\n",
       "      <td>SQL</td>\n",
       "      <td>LANG_FRAM</td>\n",
       "      <td>67</td>\n",
       "      <td>1.376053</td>\n",
       "      <td>0.393000</td>\n",
       "      <td>increasing</td>\n",
       "    </tr>\n",
       "    <tr>\n",
       "      <th>7049</th>\n",
       "      <td>7049</td>\n",
       "      <td>2024-07</td>\n",
       "      <td>MYSQL</td>\n",
       "      <td>LANG_FRAM</td>\n",
       "      <td>8</td>\n",
       "      <td>0.164305</td>\n",
       "      <td>0.374017</td>\n",
       "      <td>increasing</td>\n",
       "    </tr>\n",
       "    <tr>\n",
       "      <th>7705</th>\n",
       "      <td>7705</td>\n",
       "      <td>2024-07</td>\n",
       "      <td>WORD</td>\n",
       "      <td>LANG_FRAM</td>\n",
       "      <td>8</td>\n",
       "      <td>0.164305</td>\n",
       "      <td>0.215476</td>\n",
       "      <td>increasing</td>\n",
       "    </tr>\n",
       "    <tr>\n",
       "      <th>6614</th>\n",
       "      <td>6614</td>\n",
       "      <td>2024-07</td>\n",
       "      <td>GENAI</td>\n",
       "      <td>LANG_FRAM</td>\n",
       "      <td>8</td>\n",
       "      <td>0.164305</td>\n",
       "      <td>0.215476</td>\n",
       "      <td>increasing</td>\n",
       "    </tr>\n",
       "    <tr>\n",
       "      <th>6108</th>\n",
       "      <td>6108</td>\n",
       "      <td>2024-07</td>\n",
       "      <td>C++</td>\n",
       "      <td>LANG_FRAM</td>\n",
       "      <td>31</td>\n",
       "      <td>0.636681</td>\n",
       "      <td>0.144479</td>\n",
       "      <td>increasing</td>\n",
       "    </tr>\n",
       "    <tr>\n",
       "      <th>6806</th>\n",
       "      <td>6806</td>\n",
       "      <td>2024-07</td>\n",
       "      <td>IOS</td>\n",
       "      <td>LANG_FRAM</td>\n",
       "      <td>6</td>\n",
       "      <td>0.123229</td>\n",
       "      <td>0.077354</td>\n",
       "      <td>increasing</td>\n",
       "    </tr>\n",
       "    <tr>\n",
       "      <th>5900</th>\n",
       "      <td>5900</td>\n",
       "      <td>2024-07</td>\n",
       "      <td>.NET</td>\n",
       "      <td>LANG_FRAM</td>\n",
       "      <td>12</td>\n",
       "      <td>0.246457</td>\n",
       "      <td>0.053413</td>\n",
       "      <td>increasing</td>\n",
       "    </tr>\n",
       "    <tr>\n",
       "      <th>7514</th>\n",
       "      <td>7514</td>\n",
       "      <td>2024-07</td>\n",
       "      <td>TENSORFLOW</td>\n",
       "      <td>LANG_FRAM</td>\n",
       "      <td>9</td>\n",
       "      <td>0.184843</td>\n",
       "      <td>0.045667</td>\n",
       "      <td>increasing</td>\n",
       "    </tr>\n",
       "    <tr>\n",
       "      <th>7298</th>\n",
       "      <td>7298</td>\n",
       "      <td>2024-07</td>\n",
       "      <td>R</td>\n",
       "      <td>LANG_FRAM</td>\n",
       "      <td>14</td>\n",
       "      <td>0.287533</td>\n",
       "      <td>0.024151</td>\n",
       "      <td>increasing</td>\n",
       "    </tr>\n",
       "    <tr>\n",
       "      <th>7140</th>\n",
       "      <td>7140</td>\n",
       "      <td>2024-07</td>\n",
       "      <td>PHP</td>\n",
       "      <td>LANG_FRAM</td>\n",
       "      <td>8</td>\n",
       "      <td>0.164305</td>\n",
       "      <td>0.019432</td>\n",
       "      <td>increasing</td>\n",
       "    </tr>\n",
       "  </tbody>\n",
       "</table>\n",
       "</div>"
      ],
      "text/plain": [
       "      Unnamed: 0    month          new_ent       type  count  proportion_perc  \\\n",
       "6878        6878  2024-07          LARAVEL  LANG_FRAM     10         0.205381   \n",
       "7007        7007  2024-07  MICROSOFT EXCEL  LANG_FRAM      6         0.123229   \n",
       "7449        7449  2024-07       SQL SERVER  LANG_FRAM      9         0.184843   \n",
       "7495        7495  2024-07          TABLEAU  LANG_FRAM     20         0.410762   \n",
       "7435        7435  2024-07            SPARK  LANG_FRAM      7         0.143767   \n",
       "6899        6899  2024-07              LLM  LANG_FRAM     15         0.308071   \n",
       "7402        7402  2024-07       SHAREPOINT  LANG_FRAM     10         0.205381   \n",
       "6901        6901  2024-07             LLMS  LANG_FRAM      9         0.184843   \n",
       "7162        7162  2024-07         POWER BI  LANG_FRAM     29         0.595605   \n",
       "5956        5956  2024-07               AI  LANG_FRAM    175         3.594167   \n",
       "6610        6610  2024-07              GCP  LANG_FRAM      8         0.164305   \n",
       "7447        7447  2024-07              SQL  LANG_FRAM     67         1.376053   \n",
       "7049        7049  2024-07            MYSQL  LANG_FRAM      8         0.164305   \n",
       "7705        7705  2024-07             WORD  LANG_FRAM      8         0.164305   \n",
       "6614        6614  2024-07            GENAI  LANG_FRAM      8         0.164305   \n",
       "6108        6108  2024-07              C++  LANG_FRAM     31         0.636681   \n",
       "6806        6806  2024-07              IOS  LANG_FRAM      6         0.123229   \n",
       "5900        5900  2024-07             .NET  LANG_FRAM     12         0.246457   \n",
       "7514        7514  2024-07       TENSORFLOW  LANG_FRAM      9         0.184843   \n",
       "7298        7298  2024-07                R  LANG_FRAM     14         0.287533   \n",
       "7140        7140  2024-07              PHP  LANG_FRAM      8         0.164305   \n",
       "\n",
       "      perc_change      status  \n",
       "6878     8.875745  increasing  \n",
       "7007     2.950298  increasing  \n",
       "7449     1.734822  increasing  \n",
       "7495     1.323705  increasing  \n",
       "7435     0.975149  increasing  \n",
       "6899     0.911434  increasing  \n",
       "7402     0.881094  increasing  \n",
       "6901     0.777634  increasing  \n",
       "7162     0.660270  increasing  \n",
       "5956     0.452315  increasing  \n",
       "6610     0.436472  increasing  \n",
       "7447     0.393000  increasing  \n",
       "7049     0.374017  increasing  \n",
       "7705     0.215476  increasing  \n",
       "6614     0.215476  increasing  \n",
       "6108     0.144479  increasing  \n",
       "6806     0.077354  increasing  \n",
       "5900     0.053413  increasing  \n",
       "7514     0.045667  increasing  \n",
       "7298     0.024151  increasing  \n",
       "7140     0.019432  increasing  "
      ]
     },
     "execution_count": 41,
     "metadata": {},
     "output_type": "execute_result"
    }
   ],
   "source": [
    "top_increase"
   ]
  },
  {
   "cell_type": "code",
   "execution_count": 42,
   "metadata": {},
   "outputs": [
    {
     "data": {
      "text/html": [
       "<div>\n",
       "<style scoped>\n",
       "    .dataframe tbody tr th:only-of-type {\n",
       "        vertical-align: middle;\n",
       "    }\n",
       "\n",
       "    .dataframe tbody tr th {\n",
       "        vertical-align: top;\n",
       "    }\n",
       "\n",
       "    .dataframe thead th {\n",
       "        text-align: right;\n",
       "    }\n",
       "</style>\n",
       "<table border=\"1\" class=\"dataframe\">\n",
       "  <thead>\n",
       "    <tr style=\"text-align: right;\">\n",
       "      <th></th>\n",
       "      <th>Unnamed: 0</th>\n",
       "      <th>month</th>\n",
       "      <th>new_ent</th>\n",
       "      <th>type</th>\n",
       "      <th>count</th>\n",
       "      <th>proportion_perc</th>\n",
       "      <th>perc_change</th>\n",
       "      <th>status</th>\n",
       "    </tr>\n",
       "  </thead>\n",
       "  <tbody>\n",
       "    <tr>\n",
       "      <th>6821</th>\n",
       "      <td>6821</td>\n",
       "      <td>2024-07</td>\n",
       "      <td>JAVASCRIPT</td>\n",
       "      <td>LANG_FRAM</td>\n",
       "      <td>14</td>\n",
       "      <td>0.287533</td>\n",
       "      <td>-0.483139</td>\n",
       "      <td>decreasing</td>\n",
       "    </tr>\n",
       "    <tr>\n",
       "      <th>6875</th>\n",
       "      <td>6875</td>\n",
       "      <td>2024-07</td>\n",
       "      <td>KUBERNETES</td>\n",
       "      <td>LANG_FRAM</td>\n",
       "      <td>7</td>\n",
       "      <td>0.143767</td>\n",
       "      <td>-0.497235</td>\n",
       "      <td>decreasing</td>\n",
       "    </tr>\n",
       "    <tr>\n",
       "      <th>6675</th>\n",
       "      <td>6675</td>\n",
       "      <td>2024-07</td>\n",
       "      <td>HTML</td>\n",
       "      <td>LANG_FRAM</td>\n",
       "      <td>8</td>\n",
       "      <td>0.164305</td>\n",
       "      <td>-0.521176</td>\n",
       "      <td>decreasing</td>\n",
       "    </tr>\n",
       "    <tr>\n",
       "      <th>6104</th>\n",
       "      <td>6104</td>\n",
       "      <td>2024-07</td>\n",
       "      <td>C</td>\n",
       "      <td>LANG_FRAM</td>\n",
       "      <td>9</td>\n",
       "      <td>0.184843</td>\n",
       "      <td>-0.586597</td>\n",
       "      <td>decreasing</td>\n",
       "    </tr>\n",
       "    <tr>\n",
       "      <th>6894</th>\n",
       "      <td>6894</td>\n",
       "      <td>2024-07</td>\n",
       "      <td>LINUX</td>\n",
       "      <td>LANG_FRAM</td>\n",
       "      <td>8</td>\n",
       "      <td>0.164305</td>\n",
       "      <td>-0.717836</td>\n",
       "      <td>decreasing</td>\n",
       "    </tr>\n",
       "  </tbody>\n",
       "</table>\n",
       "</div>"
      ],
      "text/plain": [
       "      Unnamed: 0    month     new_ent       type  count  proportion_perc  \\\n",
       "6821        6821  2024-07  JAVASCRIPT  LANG_FRAM     14         0.287533   \n",
       "6875        6875  2024-07  KUBERNETES  LANG_FRAM      7         0.143767   \n",
       "6675        6675  2024-07        HTML  LANG_FRAM      8         0.164305   \n",
       "6104        6104  2024-07           C  LANG_FRAM      9         0.184843   \n",
       "6894        6894  2024-07       LINUX  LANG_FRAM      8         0.164305   \n",
       "\n",
       "      perc_change      status  \n",
       "6821    -0.483139  decreasing  \n",
       "6875    -0.497235  decreasing  \n",
       "6675    -0.521176  decreasing  \n",
       "6104    -0.586597  decreasing  \n",
       "6894    -0.717836  decreasing  "
      ]
     },
     "execution_count": 42,
     "metadata": {},
     "output_type": "execute_result"
    }
   ],
   "source": [
    "top_decrease.tail(5)"
   ]
  },
  {
   "cell_type": "code",
   "execution_count": 48,
   "metadata": {},
   "outputs": [
    {
     "data": {
      "text/html": [
       "<div>\n",
       "<style scoped>\n",
       "    .dataframe tbody tr th:only-of-type {\n",
       "        vertical-align: middle;\n",
       "    }\n",
       "\n",
       "    .dataframe tbody tr th {\n",
       "        vertical-align: top;\n",
       "    }\n",
       "\n",
       "    .dataframe thead th {\n",
       "        text-align: right;\n",
       "    }\n",
       "</style>\n",
       "<table border=\"1\" class=\"dataframe\">\n",
       "  <thead>\n",
       "    <tr style=\"text-align: right;\">\n",
       "      <th></th>\n",
       "      <th>Unnamed: 0</th>\n",
       "      <th>month</th>\n",
       "      <th>new_ent</th>\n",
       "      <th>type</th>\n",
       "      <th>count</th>\n",
       "      <th>proportion_perc</th>\n",
       "      <th>perc_change</th>\n",
       "      <th>status</th>\n",
       "    </tr>\n",
       "  </thead>\n",
       "  <tbody>\n",
       "    <tr>\n",
       "      <th>6878</th>\n",
       "      <td>6878</td>\n",
       "      <td>2024-07</td>\n",
       "      <td>LARAVEL</td>\n",
       "      <td>LANG_FRAM</td>\n",
       "      <td>10</td>\n",
       "      <td>0.205381</td>\n",
       "      <td>8.875745</td>\n",
       "      <td>increasing</td>\n",
       "    </tr>\n",
       "    <tr>\n",
       "      <th>7007</th>\n",
       "      <td>7007</td>\n",
       "      <td>2024-07</td>\n",
       "      <td>MICROSOFT EXCEL</td>\n",
       "      <td>LANG_FRAM</td>\n",
       "      <td>6</td>\n",
       "      <td>0.123229</td>\n",
       "      <td>2.950298</td>\n",
       "      <td>increasing</td>\n",
       "    </tr>\n",
       "    <tr>\n",
       "      <th>7449</th>\n",
       "      <td>7449</td>\n",
       "      <td>2024-07</td>\n",
       "      <td>SQL SERVER</td>\n",
       "      <td>LANG_FRAM</td>\n",
       "      <td>9</td>\n",
       "      <td>0.184843</td>\n",
       "      <td>1.734822</td>\n",
       "      <td>increasing</td>\n",
       "    </tr>\n",
       "    <tr>\n",
       "      <th>7495</th>\n",
       "      <td>7495</td>\n",
       "      <td>2024-07</td>\n",
       "      <td>TABLEAU</td>\n",
       "      <td>LANG_FRAM</td>\n",
       "      <td>20</td>\n",
       "      <td>0.410762</td>\n",
       "      <td>1.323705</td>\n",
       "      <td>increasing</td>\n",
       "    </tr>\n",
       "    <tr>\n",
       "      <th>7435</th>\n",
       "      <td>7435</td>\n",
       "      <td>2024-07</td>\n",
       "      <td>SPARK</td>\n",
       "      <td>LANG_FRAM</td>\n",
       "      <td>7</td>\n",
       "      <td>0.143767</td>\n",
       "      <td>0.975149</td>\n",
       "      <td>increasing</td>\n",
       "    </tr>\n",
       "    <tr>\n",
       "      <th>6821</th>\n",
       "      <td>6821</td>\n",
       "      <td>2024-07</td>\n",
       "      <td>JAVASCRIPT</td>\n",
       "      <td>LANG_FRAM</td>\n",
       "      <td>14</td>\n",
       "      <td>0.287533</td>\n",
       "      <td>-0.483139</td>\n",
       "      <td>decreasing</td>\n",
       "    </tr>\n",
       "    <tr>\n",
       "      <th>6875</th>\n",
       "      <td>6875</td>\n",
       "      <td>2024-07</td>\n",
       "      <td>KUBERNETES</td>\n",
       "      <td>LANG_FRAM</td>\n",
       "      <td>7</td>\n",
       "      <td>0.143767</td>\n",
       "      <td>-0.497235</td>\n",
       "      <td>decreasing</td>\n",
       "    </tr>\n",
       "    <tr>\n",
       "      <th>6675</th>\n",
       "      <td>6675</td>\n",
       "      <td>2024-07</td>\n",
       "      <td>HTML</td>\n",
       "      <td>LANG_FRAM</td>\n",
       "      <td>8</td>\n",
       "      <td>0.164305</td>\n",
       "      <td>-0.521176</td>\n",
       "      <td>decreasing</td>\n",
       "    </tr>\n",
       "    <tr>\n",
       "      <th>6104</th>\n",
       "      <td>6104</td>\n",
       "      <td>2024-07</td>\n",
       "      <td>C</td>\n",
       "      <td>LANG_FRAM</td>\n",
       "      <td>9</td>\n",
       "      <td>0.184843</td>\n",
       "      <td>-0.586597</td>\n",
       "      <td>decreasing</td>\n",
       "    </tr>\n",
       "    <tr>\n",
       "      <th>6894</th>\n",
       "      <td>6894</td>\n",
       "      <td>2024-07</td>\n",
       "      <td>LINUX</td>\n",
       "      <td>LANG_FRAM</td>\n",
       "      <td>8</td>\n",
       "      <td>0.164305</td>\n",
       "      <td>-0.717836</td>\n",
       "      <td>decreasing</td>\n",
       "    </tr>\n",
       "  </tbody>\n",
       "</table>\n",
       "</div>"
      ],
      "text/plain": [
       "      Unnamed: 0    month          new_ent       type  count  proportion_perc  \\\n",
       "6878        6878  2024-07          LARAVEL  LANG_FRAM     10         0.205381   \n",
       "7007        7007  2024-07  MICROSOFT EXCEL  LANG_FRAM      6         0.123229   \n",
       "7449        7449  2024-07       SQL SERVER  LANG_FRAM      9         0.184843   \n",
       "7495        7495  2024-07          TABLEAU  LANG_FRAM     20         0.410762   \n",
       "7435        7435  2024-07            SPARK  LANG_FRAM      7         0.143767   \n",
       "6821        6821  2024-07       JAVASCRIPT  LANG_FRAM     14         0.287533   \n",
       "6875        6875  2024-07       KUBERNETES  LANG_FRAM      7         0.143767   \n",
       "6675        6675  2024-07             HTML  LANG_FRAM      8         0.164305   \n",
       "6104        6104  2024-07                C  LANG_FRAM      9         0.184843   \n",
       "6894        6894  2024-07            LINUX  LANG_FRAM      8         0.164305   \n",
       "\n",
       "      perc_change      status  \n",
       "6878     8.875745  increasing  \n",
       "7007     2.950298  increasing  \n",
       "7449     1.734822  increasing  \n",
       "7495     1.323705  increasing  \n",
       "7435     0.975149  increasing  \n",
       "6821    -0.483139  decreasing  \n",
       "6875    -0.497235  decreasing  \n",
       "6675    -0.521176  decreasing  \n",
       "6104    -0.586597  decreasing  \n",
       "6894    -0.717836  decreasing  "
      ]
     },
     "execution_count": 48,
     "metadata": {},
     "output_type": "execute_result"
    }
   ],
   "source": [
    "test = pd.concat([top_increase.head(5), top_decrease.tail(5)], axis=0)\n",
    "test"
   ]
  },
  {
   "cell_type": "code",
   "execution_count": 47,
   "metadata": {},
   "outputs": [
    {
     "data": {
      "application/vnd.plotly.v1+json": {
       "config": {
        "plotlyServerURL": "https://plot.ly"
       },
       "data": [
        {
         "alignmentgroup": "True",
         "hovertemplate": "status=increasing<br>Skill=%{x}<br>Change From Previous Month (%)=%{y}<extra></extra>",
         "legendgroup": "increasing",
         "marker": {
          "color": "#636efa",
          "pattern": {
           "shape": ""
          }
         },
         "name": "increasing",
         "offsetgroup": "increasing",
         "orientation": "v",
         "showlegend": true,
         "textposition": "auto",
         "type": "bar",
         "x": [
          "LARAVEL",
          "MICROSOFT EXCEL",
          "SQL SERVER",
          "TABLEAU",
          "SPARK"
         ],
         "xaxis": "x",
         "y": [
          8.875744506058737,
          2.950297802423496,
          1.734821555523958,
          1.32370458966088,
          0.975148901211748
         ],
         "yaxis": "y"
        },
        {
         "alignmentgroup": "True",
         "hovertemplate": "status=decreasing<br>Skill=%{x}<br>Change From Previous Month (%)=%{y}<extra></extra>",
         "legendgroup": "decreasing",
         "marker": {
          "color": "#EF553B",
          "pattern": {
           "shape": ""
          }
         },
         "name": "decreasing",
         "offsetgroup": "decreasing",
         "orientation": "v",
         "showlegend": true,
         "textposition": "auto",
         "type": "bar",
         "x": [
          "JAVASCRIPT",
          "KUBERNETES",
          "HTML",
          "C",
          "LINUX"
         ],
         "xaxis": "x",
         "y": [
          -0.4831386052903836,
          -0.4972348251461005,
          -0.5211760239486671,
          -0.5865967416068434,
          -0.7178358712554647
         ],
         "yaxis": "y"
        }
       ],
       "layout": {
        "barmode": "relative",
        "legend": {
         "title": {
          "text": "status"
         },
         "tracegroupgap": 0
        },
        "margin": {
         "t": 60
        },
        "template": {
         "data": {
          "bar": [
           {
            "error_x": {
             "color": "#2a3f5f"
            },
            "error_y": {
             "color": "#2a3f5f"
            },
            "marker": {
             "line": {
              "color": "#E5ECF6",
              "width": 0.5
             },
             "pattern": {
              "fillmode": "overlay",
              "size": 10,
              "solidity": 0.2
             }
            },
            "type": "bar"
           }
          ],
          "barpolar": [
           {
            "marker": {
             "line": {
              "color": "#E5ECF6",
              "width": 0.5
             },
             "pattern": {
              "fillmode": "overlay",
              "size": 10,
              "solidity": 0.2
             }
            },
            "type": "barpolar"
           }
          ],
          "carpet": [
           {
            "aaxis": {
             "endlinecolor": "#2a3f5f",
             "gridcolor": "white",
             "linecolor": "white",
             "minorgridcolor": "white",
             "startlinecolor": "#2a3f5f"
            },
            "baxis": {
             "endlinecolor": "#2a3f5f",
             "gridcolor": "white",
             "linecolor": "white",
             "minorgridcolor": "white",
             "startlinecolor": "#2a3f5f"
            },
            "type": "carpet"
           }
          ],
          "choropleth": [
           {
            "colorbar": {
             "outlinewidth": 0,
             "ticks": ""
            },
            "type": "choropleth"
           }
          ],
          "contour": [
           {
            "colorbar": {
             "outlinewidth": 0,
             "ticks": ""
            },
            "colorscale": [
             [
              0,
              "#0d0887"
             ],
             [
              0.1111111111111111,
              "#46039f"
             ],
             [
              0.2222222222222222,
              "#7201a8"
             ],
             [
              0.3333333333333333,
              "#9c179e"
             ],
             [
              0.4444444444444444,
              "#bd3786"
             ],
             [
              0.5555555555555556,
              "#d8576b"
             ],
             [
              0.6666666666666666,
              "#ed7953"
             ],
             [
              0.7777777777777778,
              "#fb9f3a"
             ],
             [
              0.8888888888888888,
              "#fdca26"
             ],
             [
              1,
              "#f0f921"
             ]
            ],
            "type": "contour"
           }
          ],
          "contourcarpet": [
           {
            "colorbar": {
             "outlinewidth": 0,
             "ticks": ""
            },
            "type": "contourcarpet"
           }
          ],
          "heatmap": [
           {
            "colorbar": {
             "outlinewidth": 0,
             "ticks": ""
            },
            "colorscale": [
             [
              0,
              "#0d0887"
             ],
             [
              0.1111111111111111,
              "#46039f"
             ],
             [
              0.2222222222222222,
              "#7201a8"
             ],
             [
              0.3333333333333333,
              "#9c179e"
             ],
             [
              0.4444444444444444,
              "#bd3786"
             ],
             [
              0.5555555555555556,
              "#d8576b"
             ],
             [
              0.6666666666666666,
              "#ed7953"
             ],
             [
              0.7777777777777778,
              "#fb9f3a"
             ],
             [
              0.8888888888888888,
              "#fdca26"
             ],
             [
              1,
              "#f0f921"
             ]
            ],
            "type": "heatmap"
           }
          ],
          "heatmapgl": [
           {
            "colorbar": {
             "outlinewidth": 0,
             "ticks": ""
            },
            "colorscale": [
             [
              0,
              "#0d0887"
             ],
             [
              0.1111111111111111,
              "#46039f"
             ],
             [
              0.2222222222222222,
              "#7201a8"
             ],
             [
              0.3333333333333333,
              "#9c179e"
             ],
             [
              0.4444444444444444,
              "#bd3786"
             ],
             [
              0.5555555555555556,
              "#d8576b"
             ],
             [
              0.6666666666666666,
              "#ed7953"
             ],
             [
              0.7777777777777778,
              "#fb9f3a"
             ],
             [
              0.8888888888888888,
              "#fdca26"
             ],
             [
              1,
              "#f0f921"
             ]
            ],
            "type": "heatmapgl"
           }
          ],
          "histogram": [
           {
            "marker": {
             "pattern": {
              "fillmode": "overlay",
              "size": 10,
              "solidity": 0.2
             }
            },
            "type": "histogram"
           }
          ],
          "histogram2d": [
           {
            "colorbar": {
             "outlinewidth": 0,
             "ticks": ""
            },
            "colorscale": [
             [
              0,
              "#0d0887"
             ],
             [
              0.1111111111111111,
              "#46039f"
             ],
             [
              0.2222222222222222,
              "#7201a8"
             ],
             [
              0.3333333333333333,
              "#9c179e"
             ],
             [
              0.4444444444444444,
              "#bd3786"
             ],
             [
              0.5555555555555556,
              "#d8576b"
             ],
             [
              0.6666666666666666,
              "#ed7953"
             ],
             [
              0.7777777777777778,
              "#fb9f3a"
             ],
             [
              0.8888888888888888,
              "#fdca26"
             ],
             [
              1,
              "#f0f921"
             ]
            ],
            "type": "histogram2d"
           }
          ],
          "histogram2dcontour": [
           {
            "colorbar": {
             "outlinewidth": 0,
             "ticks": ""
            },
            "colorscale": [
             [
              0,
              "#0d0887"
             ],
             [
              0.1111111111111111,
              "#46039f"
             ],
             [
              0.2222222222222222,
              "#7201a8"
             ],
             [
              0.3333333333333333,
              "#9c179e"
             ],
             [
              0.4444444444444444,
              "#bd3786"
             ],
             [
              0.5555555555555556,
              "#d8576b"
             ],
             [
              0.6666666666666666,
              "#ed7953"
             ],
             [
              0.7777777777777778,
              "#fb9f3a"
             ],
             [
              0.8888888888888888,
              "#fdca26"
             ],
             [
              1,
              "#f0f921"
             ]
            ],
            "type": "histogram2dcontour"
           }
          ],
          "mesh3d": [
           {
            "colorbar": {
             "outlinewidth": 0,
             "ticks": ""
            },
            "type": "mesh3d"
           }
          ],
          "parcoords": [
           {
            "line": {
             "colorbar": {
              "outlinewidth": 0,
              "ticks": ""
             }
            },
            "type": "parcoords"
           }
          ],
          "pie": [
           {
            "automargin": true,
            "type": "pie"
           }
          ],
          "scatter": [
           {
            "fillpattern": {
             "fillmode": "overlay",
             "size": 10,
             "solidity": 0.2
            },
            "type": "scatter"
           }
          ],
          "scatter3d": [
           {
            "line": {
             "colorbar": {
              "outlinewidth": 0,
              "ticks": ""
             }
            },
            "marker": {
             "colorbar": {
              "outlinewidth": 0,
              "ticks": ""
             }
            },
            "type": "scatter3d"
           }
          ],
          "scattercarpet": [
           {
            "marker": {
             "colorbar": {
              "outlinewidth": 0,
              "ticks": ""
             }
            },
            "type": "scattercarpet"
           }
          ],
          "scattergeo": [
           {
            "marker": {
             "colorbar": {
              "outlinewidth": 0,
              "ticks": ""
             }
            },
            "type": "scattergeo"
           }
          ],
          "scattergl": [
           {
            "marker": {
             "colorbar": {
              "outlinewidth": 0,
              "ticks": ""
             }
            },
            "type": "scattergl"
           }
          ],
          "scattermapbox": [
           {
            "marker": {
             "colorbar": {
              "outlinewidth": 0,
              "ticks": ""
             }
            },
            "type": "scattermapbox"
           }
          ],
          "scatterpolar": [
           {
            "marker": {
             "colorbar": {
              "outlinewidth": 0,
              "ticks": ""
             }
            },
            "type": "scatterpolar"
           }
          ],
          "scatterpolargl": [
           {
            "marker": {
             "colorbar": {
              "outlinewidth": 0,
              "ticks": ""
             }
            },
            "type": "scatterpolargl"
           }
          ],
          "scatterternary": [
           {
            "marker": {
             "colorbar": {
              "outlinewidth": 0,
              "ticks": ""
             }
            },
            "type": "scatterternary"
           }
          ],
          "surface": [
           {
            "colorbar": {
             "outlinewidth": 0,
             "ticks": ""
            },
            "colorscale": [
             [
              0,
              "#0d0887"
             ],
             [
              0.1111111111111111,
              "#46039f"
             ],
             [
              0.2222222222222222,
              "#7201a8"
             ],
             [
              0.3333333333333333,
              "#9c179e"
             ],
             [
              0.4444444444444444,
              "#bd3786"
             ],
             [
              0.5555555555555556,
              "#d8576b"
             ],
             [
              0.6666666666666666,
              "#ed7953"
             ],
             [
              0.7777777777777778,
              "#fb9f3a"
             ],
             [
              0.8888888888888888,
              "#fdca26"
             ],
             [
              1,
              "#f0f921"
             ]
            ],
            "type": "surface"
           }
          ],
          "table": [
           {
            "cells": {
             "fill": {
              "color": "#EBF0F8"
             },
             "line": {
              "color": "white"
             }
            },
            "header": {
             "fill": {
              "color": "#C8D4E3"
             },
             "line": {
              "color": "white"
             }
            },
            "type": "table"
           }
          ]
         },
         "layout": {
          "annotationdefaults": {
           "arrowcolor": "#2a3f5f",
           "arrowhead": 0,
           "arrowwidth": 1
          },
          "autotypenumbers": "strict",
          "coloraxis": {
           "colorbar": {
            "outlinewidth": 0,
            "ticks": ""
           }
          },
          "colorscale": {
           "diverging": [
            [
             0,
             "#8e0152"
            ],
            [
             0.1,
             "#c51b7d"
            ],
            [
             0.2,
             "#de77ae"
            ],
            [
             0.3,
             "#f1b6da"
            ],
            [
             0.4,
             "#fde0ef"
            ],
            [
             0.5,
             "#f7f7f7"
            ],
            [
             0.6,
             "#e6f5d0"
            ],
            [
             0.7,
             "#b8e186"
            ],
            [
             0.8,
             "#7fbc41"
            ],
            [
             0.9,
             "#4d9221"
            ],
            [
             1,
             "#276419"
            ]
           ],
           "sequential": [
            [
             0,
             "#0d0887"
            ],
            [
             0.1111111111111111,
             "#46039f"
            ],
            [
             0.2222222222222222,
             "#7201a8"
            ],
            [
             0.3333333333333333,
             "#9c179e"
            ],
            [
             0.4444444444444444,
             "#bd3786"
            ],
            [
             0.5555555555555556,
             "#d8576b"
            ],
            [
             0.6666666666666666,
             "#ed7953"
            ],
            [
             0.7777777777777778,
             "#fb9f3a"
            ],
            [
             0.8888888888888888,
             "#fdca26"
            ],
            [
             1,
             "#f0f921"
            ]
           ],
           "sequentialminus": [
            [
             0,
             "#0d0887"
            ],
            [
             0.1111111111111111,
             "#46039f"
            ],
            [
             0.2222222222222222,
             "#7201a8"
            ],
            [
             0.3333333333333333,
             "#9c179e"
            ],
            [
             0.4444444444444444,
             "#bd3786"
            ],
            [
             0.5555555555555556,
             "#d8576b"
            ],
            [
             0.6666666666666666,
             "#ed7953"
            ],
            [
             0.7777777777777778,
             "#fb9f3a"
            ],
            [
             0.8888888888888888,
             "#fdca26"
            ],
            [
             1,
             "#f0f921"
            ]
           ]
          },
          "colorway": [
           "#636efa",
           "#EF553B",
           "#00cc96",
           "#ab63fa",
           "#FFA15A",
           "#19d3f3",
           "#FF6692",
           "#B6E880",
           "#FF97FF",
           "#FECB52"
          ],
          "font": {
           "color": "#2a3f5f"
          },
          "geo": {
           "bgcolor": "white",
           "lakecolor": "white",
           "landcolor": "#E5ECF6",
           "showlakes": true,
           "showland": true,
           "subunitcolor": "white"
          },
          "hoverlabel": {
           "align": "left"
          },
          "hovermode": "closest",
          "mapbox": {
           "style": "light"
          },
          "paper_bgcolor": "white",
          "plot_bgcolor": "#E5ECF6",
          "polar": {
           "angularaxis": {
            "gridcolor": "white",
            "linecolor": "white",
            "ticks": ""
           },
           "bgcolor": "#E5ECF6",
           "radialaxis": {
            "gridcolor": "white",
            "linecolor": "white",
            "ticks": ""
           }
          },
          "scene": {
           "xaxis": {
            "backgroundcolor": "#E5ECF6",
            "gridcolor": "white",
            "gridwidth": 2,
            "linecolor": "white",
            "showbackground": true,
            "ticks": "",
            "zerolinecolor": "white"
           },
           "yaxis": {
            "backgroundcolor": "#E5ECF6",
            "gridcolor": "white",
            "gridwidth": 2,
            "linecolor": "white",
            "showbackground": true,
            "ticks": "",
            "zerolinecolor": "white"
           },
           "zaxis": {
            "backgroundcolor": "#E5ECF6",
            "gridcolor": "white",
            "gridwidth": 2,
            "linecolor": "white",
            "showbackground": true,
            "ticks": "",
            "zerolinecolor": "white"
           }
          },
          "shapedefaults": {
           "line": {
            "color": "#2a3f5f"
           }
          },
          "ternary": {
           "aaxis": {
            "gridcolor": "white",
            "linecolor": "white",
            "ticks": ""
           },
           "baxis": {
            "gridcolor": "white",
            "linecolor": "white",
            "ticks": ""
           },
           "bgcolor": "#E5ECF6",
           "caxis": {
            "gridcolor": "white",
            "linecolor": "white",
            "ticks": ""
           }
          },
          "title": {
           "x": 0.05
          },
          "xaxis": {
           "automargin": true,
           "gridcolor": "white",
           "linecolor": "white",
           "ticks": "",
           "title": {
            "standoff": 15
           },
           "zerolinecolor": "white",
           "zerolinewidth": 2
          },
          "yaxis": {
           "automargin": true,
           "gridcolor": "white",
           "linecolor": "white",
           "ticks": "",
           "title": {
            "standoff": 15
           },
           "zerolinecolor": "white",
           "zerolinewidth": 2
          }
         }
        },
        "xaxis": {
         "anchor": "y",
         "domain": [
          0,
          1
         ],
         "title": {
          "text": "Skill"
         }
        },
        "yaxis": {
         "anchor": "x",
         "domain": [
          0,
          1
         ],
         "title": {
          "text": "Change From Previous Month (%)"
         }
        }
       }
      }
     },
     "metadata": {},
     "output_type": "display_data"
    }
   ],
   "source": [
    "time = 'Month'\n",
    "px.bar(test, x='new_ent', y='perc_change', color='status', labels={'perc_change':f'Change From Previous {time} (%)', 'new_ent':'Skill'})"
   ]
  },
  {
   "cell_type": "code",
   "execution_count": null,
   "metadata": {},
   "outputs": [],
   "source": []
  }
 ],
 "metadata": {
  "kernelspec": {
   "display_name": "Python 3",
   "language": "python",
   "name": "python3"
  },
  "language_info": {
   "codemirror_mode": {
    "name": "ipython",
    "version": 3
   },
   "file_extension": ".py",
   "mimetype": "text/x-python",
   "name": "python",
   "nbconvert_exporter": "python",
   "pygments_lexer": "ipython3",
   "version": "3.12.0"
  }
 },
 "nbformat": 4,
 "nbformat_minor": 2
}
