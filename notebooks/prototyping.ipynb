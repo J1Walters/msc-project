{
 "cells": [
  {
   "cell_type": "markdown",
   "metadata": {},
   "source": [
    "### Import Packages"
   ]
  },
  {
   "cell_type": "code",
   "execution_count": 1,
   "metadata": {},
   "outputs": [],
   "source": [
    "import numpy as np\n",
    "import matplotlib.pyplot as plt\n",
    "import seaborn as sns\n",
    "import pandas as pd\n",
    "import sqlean as sqlite3\n",
    "from sklearn.feature_extraction.text import TfidfVectorizer"
   ]
  },
  {
   "cell_type": "markdown",
   "metadata": {},
   "source": [
    "### Import Data"
   ]
  },
  {
   "cell_type": "code",
   "execution_count": 2,
   "metadata": {},
   "outputs": [],
   "source": [
    "DATABASE_PATH = 'C:/University/6G7V0007_MSC_Project/Project/Data/joblistings_transformed.db'\n",
    "con = sqlite3.connect(DATABASE_PATH)"
   ]
  },
  {
   "cell_type": "code",
   "execution_count": 3,
   "metadata": {},
   "outputs": [
    {
     "name": "stderr",
     "output_type": "stream",
     "text": [
      "C:\\Users\\walte\\AppData\\Local\\Temp\\ipykernel_4328\\1361633401.py:1: UserWarning: pandas only supports SQLAlchemy connectable (engine/connection) or database string URI or sqlite3 DBAPI2 connection. Other DBAPI2 objects are not tested. Please consider using SQLAlchemy.\n",
      "  job = pd.read_sql('SELECT * FROM job', con)\n",
      "C:\\Users\\walte\\AppData\\Local\\Temp\\ipykernel_4328\\1361633401.py:2: UserWarning: pandas only supports SQLAlchemy connectable (engine/connection) or database string URI or sqlite3 DBAPI2 connection. Other DBAPI2 objects are not tested. Please consider using SQLAlchemy.\n",
      "  company = pd.read_sql('SELECT * FROM company', con)\n",
      "C:\\Users\\walte\\AppData\\Local\\Temp\\ipykernel_4328\\1361633401.py:3: UserWarning: pandas only supports SQLAlchemy connectable (engine/connection) or database string URI or sqlite3 DBAPI2 connection. Other DBAPI2 objects are not tested. Please consider using SQLAlchemy.\n",
      "  website = pd.read_sql('SELECT * FROM website', con)\n"
     ]
    }
   ],
   "source": [
    "job = pd.read_sql('SELECT * FROM job', con)\n",
    "company = pd.read_sql('SELECT * FROM company', con)\n",
    "website = pd.read_sql('SELECT * FROM website', con)"
   ]
  },
  {
   "cell_type": "code",
   "execution_count": 4,
   "metadata": {},
   "outputs": [],
   "source": [
    "job.set_index('id', inplace=True)\n",
    "company.set_index('id', inplace=True)\n",
    "website.set_index('id', inplace=True)"
   ]
  },
  {
   "cell_type": "code",
   "execution_count": 5,
   "metadata": {},
   "outputs": [],
   "source": [
    "test = job.merge(company, left_on='company_id', right_index=True)"
   ]
  },
  {
   "cell_type": "code",
   "execution_count": 6,
   "metadata": {},
   "outputs": [],
   "source": [
    "test.rename(columns={'name':'company_name'}, inplace=True)"
   ]
  },
  {
   "cell_type": "code",
   "execution_count": 7,
   "metadata": {},
   "outputs": [
    {
     "data": {
      "text/html": [
       "<div>\n",
       "<style scoped>\n",
       "    .dataframe tbody tr th:only-of-type {\n",
       "        vertical-align: middle;\n",
       "    }\n",
       "\n",
       "    .dataframe tbody tr th {\n",
       "        vertical-align: top;\n",
       "    }\n",
       "\n",
       "    .dataframe thead th {\n",
       "        text-align: right;\n",
       "    }\n",
       "</style>\n",
       "<table border=\"1\" class=\"dataframe\">\n",
       "  <thead>\n",
       "    <tr style=\"text-align: right;\">\n",
       "      <th></th>\n",
       "      <th>website_id</th>\n",
       "      <th>company_id</th>\n",
       "      <th>title</th>\n",
       "      <th>location</th>\n",
       "      <th>pay</th>\n",
       "      <th>description</th>\n",
       "      <th>timestamp</th>\n",
       "      <th>company_name</th>\n",
       "    </tr>\n",
       "    <tr>\n",
       "      <th>id</th>\n",
       "      <th></th>\n",
       "      <th></th>\n",
       "      <th></th>\n",
       "      <th></th>\n",
       "      <th></th>\n",
       "      <th></th>\n",
       "      <th></th>\n",
       "      <th></th>\n",
       "    </tr>\n",
       "  </thead>\n",
       "  <tbody>\n",
       "    <tr>\n",
       "      <th>1</th>\n",
       "      <td>1</td>\n",
       "      <td>1</td>\n",
       "      <td>Graduate Electronics/Computer Science Software...</td>\n",
       "      <td>Cirencester (Gloucestershire)</td>\n",
       "      <td>£30,000</td>\n",
       "      <td>About the role A unique opportunity to join a ...</td>\n",
       "      <td>2024-06-28</td>\n",
       "      <td>AccuLink Technology</td>\n",
       "    </tr>\n",
       "    <tr>\n",
       "      <th>145</th>\n",
       "      <td>1</td>\n",
       "      <td>1</td>\n",
       "      <td>Project Engineer</td>\n",
       "      <td>Cirencester (Gloucestershire)</td>\n",
       "      <td>Competitive</td>\n",
       "      <td>AccuLink Technology specialises in the design ...</td>\n",
       "      <td>2024-06-28</td>\n",
       "      <td>AccuLink Technology</td>\n",
       "    </tr>\n",
       "    <tr>\n",
       "      <th>2</th>\n",
       "      <td>1</td>\n",
       "      <td>2</td>\n",
       "      <td>Graduate Software Development Engineer</td>\n",
       "      <td>London</td>\n",
       "      <td>Competitive</td>\n",
       "      <td>nFocus Graduate Academy Accelerate your career...</td>\n",
       "      <td>2024-06-28</td>\n",
       "      <td>nfocus</td>\n",
       "    </tr>\n",
       "    <tr>\n",
       "      <th>3</th>\n",
       "      <td>1</td>\n",
       "      <td>3</td>\n",
       "      <td>Graduate Technology Consultant</td>\n",
       "      <td>Manchester (Hybrid)</td>\n",
       "      <td>Competitive</td>\n",
       "      <td>About Arlanis Reply: Arlanis Reply is the Repl...</td>\n",
       "      <td>2024-06-28</td>\n",
       "      <td>Reply</td>\n",
       "    </tr>\n",
       "    <tr>\n",
       "      <th>20</th>\n",
       "      <td>1</td>\n",
       "      <td>3</td>\n",
       "      <td>Graduate Software Developer</td>\n",
       "      <td>London and Manchester (Hybrid)</td>\n",
       "      <td>Competitive</td>\n",
       "      <td>About Arlanis Reply: Arlanis Reply is the Repl...</td>\n",
       "      <td>2024-06-28</td>\n",
       "      <td>Reply</td>\n",
       "    </tr>\n",
       "  </tbody>\n",
       "</table>\n",
       "</div>"
      ],
      "text/plain": [
       "     website_id  company_id  \\\n",
       "id                            \n",
       "1             1           1   \n",
       "145           1           1   \n",
       "2             1           2   \n",
       "3             1           3   \n",
       "20            1           3   \n",
       "\n",
       "                                                 title  \\\n",
       "id                                                       \n",
       "1    Graduate Electronics/Computer Science Software...   \n",
       "145                                   Project Engineer   \n",
       "2               Graduate Software Development Engineer   \n",
       "3                       Graduate Technology Consultant   \n",
       "20                         Graduate Software Developer   \n",
       "\n",
       "                           location          pay  \\\n",
       "id                                                 \n",
       "1     Cirencester (Gloucestershire)      £30,000   \n",
       "145   Cirencester (Gloucestershire)  Competitive   \n",
       "2                            London  Competitive   \n",
       "3               Manchester (Hybrid)  Competitive   \n",
       "20   London and Manchester (Hybrid)  Competitive   \n",
       "\n",
       "                                           description   timestamp  \\\n",
       "id                                                                   \n",
       "1    About the role A unique opportunity to join a ...  2024-06-28   \n",
       "145  AccuLink Technology specialises in the design ...  2024-06-28   \n",
       "2    nFocus Graduate Academy Accelerate your career...  2024-06-28   \n",
       "3    About Arlanis Reply: Arlanis Reply is the Repl...  2024-06-28   \n",
       "20   About Arlanis Reply: Arlanis Reply is the Repl...  2024-06-28   \n",
       "\n",
       "            company_name  \n",
       "id                        \n",
       "1    AccuLink Technology  \n",
       "145  AccuLink Technology  \n",
       "2                 nfocus  \n",
       "3                  Reply  \n",
       "20                 Reply  "
      ]
     },
     "execution_count": 7,
     "metadata": {},
     "output_type": "execute_result"
    }
   ],
   "source": [
    "test.head()"
   ]
  },
  {
   "cell_type": "markdown",
   "metadata": {},
   "source": [
    "### TF-IDF with Sci-kit Learn"
   ]
  },
  {
   "cell_type": "code",
   "execution_count": 36,
   "metadata": {},
   "outputs": [],
   "source": [
    "tfidf = TfidfVectorizer(max_df=0.65, stop_words='english')\n",
    "\n",
    "X = tfidf.fit_transform(test['description'])"
   ]
  },
  {
   "cell_type": "code",
   "execution_count": 37,
   "metadata": {},
   "outputs": [
    {
     "data": {
      "text/plain": [
       "(1200, 15566)"
      ]
     },
     "execution_count": 37,
     "metadata": {},
     "output_type": "execute_result"
    }
   ],
   "source": [
    "X.shape"
   ]
  },
  {
   "cell_type": "code",
   "execution_count": 38,
   "metadata": {},
   "outputs": [],
   "source": [
    "X = X.toarray()"
   ]
  },
  {
   "cell_type": "code",
   "execution_count": 39,
   "metadata": {},
   "outputs": [],
   "source": [
    "df = pd.DataFrame(X, columns= tfidf.get_feature_names_out())"
   ]
  },
  {
   "cell_type": "code",
   "execution_count": 40,
   "metadata": {},
   "outputs": [
    {
     "data": {
      "text/html": [
       "<div>\n",
       "<style scoped>\n",
       "    .dataframe tbody tr th:only-of-type {\n",
       "        vertical-align: middle;\n",
       "    }\n",
       "\n",
       "    .dataframe tbody tr th {\n",
       "        vertical-align: top;\n",
       "    }\n",
       "\n",
       "    .dataframe thead th {\n",
       "        text-align: right;\n",
       "    }\n",
       "</style>\n",
       "<table border=\"1\" class=\"dataframe\">\n",
       "  <thead>\n",
       "    <tr style=\"text-align: right;\">\n",
       "      <th></th>\n",
       "      <th>00</th>\n",
       "      <th>000</th>\n",
       "      <th>000p</th>\n",
       "      <th>000pa</th>\n",
       "      <th>000usd</th>\n",
       "      <th>001</th>\n",
       "      <th>00227646</th>\n",
       "      <th>00227647</th>\n",
       "      <th>009</th>\n",
       "      <th>0096</th>\n",
       "      <th>...</th>\n",
       "      <th>équipe</th>\n",
       "      <th>équité</th>\n",
       "      <th>été</th>\n",
       "      <th>éventail</th>\n",
       "      <th>évoluer</th>\n",
       "      <th>être</th>\n",
       "      <th>œuvre</th>\n",
       "      <th>ﬁeld</th>\n",
       "      <th>ﬂexibility</th>\n",
       "      <th>ﬂow</th>\n",
       "    </tr>\n",
       "  </thead>\n",
       "  <tbody>\n",
       "    <tr>\n",
       "      <th>0</th>\n",
       "      <td>0.0</td>\n",
       "      <td>0.035123</td>\n",
       "      <td>0.0</td>\n",
       "      <td>0.0</td>\n",
       "      <td>0.0</td>\n",
       "      <td>0.0</td>\n",
       "      <td>0.0</td>\n",
       "      <td>0.0</td>\n",
       "      <td>0.0</td>\n",
       "      <td>0.0</td>\n",
       "      <td>...</td>\n",
       "      <td>0.0</td>\n",
       "      <td>0.0</td>\n",
       "      <td>0.0</td>\n",
       "      <td>0.0</td>\n",
       "      <td>0.0</td>\n",
       "      <td>0.0</td>\n",
       "      <td>0.0</td>\n",
       "      <td>0.0</td>\n",
       "      <td>0.0</td>\n",
       "      <td>0.0</td>\n",
       "    </tr>\n",
       "    <tr>\n",
       "      <th>1</th>\n",
       "      <td>0.0</td>\n",
       "      <td>0.000000</td>\n",
       "      <td>0.0</td>\n",
       "      <td>0.0</td>\n",
       "      <td>0.0</td>\n",
       "      <td>0.0</td>\n",
       "      <td>0.0</td>\n",
       "      <td>0.0</td>\n",
       "      <td>0.0</td>\n",
       "      <td>0.0</td>\n",
       "      <td>...</td>\n",
       "      <td>0.0</td>\n",
       "      <td>0.0</td>\n",
       "      <td>0.0</td>\n",
       "      <td>0.0</td>\n",
       "      <td>0.0</td>\n",
       "      <td>0.0</td>\n",
       "      <td>0.0</td>\n",
       "      <td>0.0</td>\n",
       "      <td>0.0</td>\n",
       "      <td>0.0</td>\n",
       "    </tr>\n",
       "    <tr>\n",
       "      <th>2</th>\n",
       "      <td>0.0</td>\n",
       "      <td>0.000000</td>\n",
       "      <td>0.0</td>\n",
       "      <td>0.0</td>\n",
       "      <td>0.0</td>\n",
       "      <td>0.0</td>\n",
       "      <td>0.0</td>\n",
       "      <td>0.0</td>\n",
       "      <td>0.0</td>\n",
       "      <td>0.0</td>\n",
       "      <td>...</td>\n",
       "      <td>0.0</td>\n",
       "      <td>0.0</td>\n",
       "      <td>0.0</td>\n",
       "      <td>0.0</td>\n",
       "      <td>0.0</td>\n",
       "      <td>0.0</td>\n",
       "      <td>0.0</td>\n",
       "      <td>0.0</td>\n",
       "      <td>0.0</td>\n",
       "      <td>0.0</td>\n",
       "    </tr>\n",
       "    <tr>\n",
       "      <th>3</th>\n",
       "      <td>0.0</td>\n",
       "      <td>0.000000</td>\n",
       "      <td>0.0</td>\n",
       "      <td>0.0</td>\n",
       "      <td>0.0</td>\n",
       "      <td>0.0</td>\n",
       "      <td>0.0</td>\n",
       "      <td>0.0</td>\n",
       "      <td>0.0</td>\n",
       "      <td>0.0</td>\n",
       "      <td>...</td>\n",
       "      <td>0.0</td>\n",
       "      <td>0.0</td>\n",
       "      <td>0.0</td>\n",
       "      <td>0.0</td>\n",
       "      <td>0.0</td>\n",
       "      <td>0.0</td>\n",
       "      <td>0.0</td>\n",
       "      <td>0.0</td>\n",
       "      <td>0.0</td>\n",
       "      <td>0.0</td>\n",
       "    </tr>\n",
       "    <tr>\n",
       "      <th>4</th>\n",
       "      <td>0.0</td>\n",
       "      <td>0.000000</td>\n",
       "      <td>0.0</td>\n",
       "      <td>0.0</td>\n",
       "      <td>0.0</td>\n",
       "      <td>0.0</td>\n",
       "      <td>0.0</td>\n",
       "      <td>0.0</td>\n",
       "      <td>0.0</td>\n",
       "      <td>0.0</td>\n",
       "      <td>...</td>\n",
       "      <td>0.0</td>\n",
       "      <td>0.0</td>\n",
       "      <td>0.0</td>\n",
       "      <td>0.0</td>\n",
       "      <td>0.0</td>\n",
       "      <td>0.0</td>\n",
       "      <td>0.0</td>\n",
       "      <td>0.0</td>\n",
       "      <td>0.0</td>\n",
       "      <td>0.0</td>\n",
       "    </tr>\n",
       "  </tbody>\n",
       "</table>\n",
       "<p>5 rows × 15566 columns</p>\n",
       "</div>"
      ],
      "text/plain": [
       "    00       000  000p  000pa  000usd  001  00227646  00227647  009  0096  \\\n",
       "0  0.0  0.035123   0.0    0.0     0.0  0.0       0.0       0.0  0.0   0.0   \n",
       "1  0.0  0.000000   0.0    0.0     0.0  0.0       0.0       0.0  0.0   0.0   \n",
       "2  0.0  0.000000   0.0    0.0     0.0  0.0       0.0       0.0  0.0   0.0   \n",
       "3  0.0  0.000000   0.0    0.0     0.0  0.0       0.0       0.0  0.0   0.0   \n",
       "4  0.0  0.000000   0.0    0.0     0.0  0.0       0.0       0.0  0.0   0.0   \n",
       "\n",
       "   ...  équipe  équité  été  éventail  évoluer  être  œuvre  ﬁeld  ﬂexibility  \\\n",
       "0  ...     0.0     0.0  0.0       0.0      0.0   0.0    0.0   0.0         0.0   \n",
       "1  ...     0.0     0.0  0.0       0.0      0.0   0.0    0.0   0.0         0.0   \n",
       "2  ...     0.0     0.0  0.0       0.0      0.0   0.0    0.0   0.0         0.0   \n",
       "3  ...     0.0     0.0  0.0       0.0      0.0   0.0    0.0   0.0         0.0   \n",
       "4  ...     0.0     0.0  0.0       0.0      0.0   0.0    0.0   0.0         0.0   \n",
       "\n",
       "   ﬂow  \n",
       "0  0.0  \n",
       "1  0.0  \n",
       "2  0.0  \n",
       "3  0.0  \n",
       "4  0.0  \n",
       "\n",
       "[5 rows x 15566 columns]"
      ]
     },
     "execution_count": 40,
     "metadata": {},
     "output_type": "execute_result"
    }
   ],
   "source": [
    "df.head()"
   ]
  },
  {
   "cell_type": "code",
   "execution_count": 41,
   "metadata": {},
   "outputs": [
    {
     "data": {
      "text/plain": [
       "00            0.000000\n",
       "000           0.035123\n",
       "000p          0.000000\n",
       "000pa         0.000000\n",
       "000usd        0.000000\n",
       "                ...   \n",
       "être          0.000000\n",
       "œuvre         0.000000\n",
       "ﬁeld          0.000000\n",
       "ﬂexibility    0.000000\n",
       "ﬂow           0.000000\n",
       "Name: 0, Length: 15566, dtype: float64"
      ]
     },
     "execution_count": 41,
     "metadata": {},
     "output_type": "execute_result"
    }
   ],
   "source": [
    "df.iloc[0]"
   ]
  },
  {
   "cell_type": "code",
   "execution_count": 42,
   "metadata": {},
   "outputs": [],
   "source": [
    "entry = df.iloc[0].gt(0)"
   ]
  },
  {
   "cell_type": "code",
   "execution_count": 43,
   "metadata": {},
   "outputs": [],
   "source": [
    "listing1 = df.iloc[0].loc[entry]"
   ]
  },
  {
   "cell_type": "code",
   "execution_count": 44,
   "metadata": {},
   "outputs": [
    {
     "data": {
      "text/plain": [
       "000        0.035123\n",
       "25         0.047242\n",
       "30         0.046767\n",
       "5g         0.095004\n",
       "ability    0.026078\n",
       "             ...   \n",
       "web        0.051911\n",
       "willing    0.060569\n",
       "windows    0.064415\n",
       "world      0.028697\n",
       "written    0.083547\n",
       "Name: 0, Length: 189, dtype: float64"
      ]
     },
     "execution_count": 44,
     "metadata": {},
     "output_type": "execute_result"
    }
   ],
   "source": [
    "listing1"
   ]
  },
  {
   "cell_type": "code",
   "execution_count": 45,
   "metadata": {},
   "outputs": [
    {
     "data": {
      "text/plain": [
       "gui           0.233670\n",
       "expected      0.170563\n",
       "scrum         0.161197\n",
       "cd            0.139289\n",
       "software      0.139029\n",
       "ci            0.134927\n",
       "code          0.134746\n",
       "nodered       0.128914\n",
       "deriving      0.121848\n",
       "estimating    0.121848\n",
       "Name: 0, dtype: float64"
      ]
     },
     "execution_count": 45,
     "metadata": {},
     "output_type": "execute_result"
    }
   ],
   "source": [
    "listing1.sort_values(ascending=False).head(10)"
   ]
  },
  {
   "cell_type": "code",
   "execution_count": 46,
   "metadata": {},
   "outputs": [
    {
     "data": {
      "image/png": "[encoded data removed]",
      "text/plain": [
       "<Figure size 640x480 with 1 Axes>"
      ]
     },
     "metadata": {},
     "output_type": "display_data"
    }
   ],
   "source": [
    "fig, ax = plt.subplots()\n",
    "ax = sns.barplot(x=listing1.sort_values(ascending=False).head(20).values, y=listing1.sort_values(ascending=False).head(20).index)"
   ]
  },
  {
   "cell_type": "code",
   "execution_count": null,
   "metadata": {},
   "outputs": [],
   "source": []
  }
 ],
 "metadata": {
  "kernelspec": {
   "display_name": "Python 3",
   "language": "python",
   "name": "python3"
  },
  "language_info": {
   "codemirror_mode": {
    "name": "ipython",
    "version": 3
   },
   "file_extension": ".py",
   "mimetype": "text/x-python",
   "name": "python",
   "nbconvert_exporter": "python",
   "pygments_lexer": "ipython3",
   "version": "3.12.0"
  }
 },
 "nbformat": 4,
 "nbformat_minor": 2
}
