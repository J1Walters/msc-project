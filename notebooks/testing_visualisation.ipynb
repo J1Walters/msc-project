{
 "cells": [
  {
   "cell_type": "markdown",
   "metadata": {},
   "source": [
    "### Import Packages"
   ]
  },
  {
   "cell_type": "code",
   "execution_count": 1,
   "metadata": {},
   "outputs": [],
   "source": [
    "import glob\n",
    "import pandas as pd\n",
    "import plotly.express as px"
   ]
  },
  {
   "cell_type": "code",
   "execution_count": 2,
   "metadata": {},
   "outputs": [],
   "source": [
    "DATA_DIR = '../test_results/'"
   ]
  },
  {
   "cell_type": "code",
   "execution_count": 3,
   "metadata": {},
   "outputs": [],
   "source": [
    "files = [file for file in glob.glob(DATA_DIR + '*.json')]"
   ]
  },
  {
   "cell_type": "code",
   "execution_count": 4,
   "metadata": {},
   "outputs": [
    {
     "data": {
      "text/plain": [
       "['../test_results\\\\charembed_bilstm.json',\n",
       " '../test_results\\\\charembed_bilstm_vec.json',\n",
       " '../test_results\\\\charembed_maxout.json',\n",
       " '../test_results\\\\charembed_maxout_vec.json',\n",
       " '../test_results\\\\charembed_mish.json',\n",
       " '../test_results\\\\charembed_mish_vec.json',\n",
       " '../test_results\\\\multihash_bilstm.json',\n",
       " '../test_results\\\\multihash_bilstm_vec.json',\n",
       " '../test_results\\\\multihash_maxout.json',\n",
       " '../test_results\\\\multihash_maxout_vec.json',\n",
       " '../test_results\\\\multihash_mish.json',\n",
       " '../test_results\\\\multihash_mish_vec.json']"
      ]
     },
     "execution_count": 4,
     "metadata": {},
     "output_type": "execute_result"
    }
   ],
   "source": [
    "files"
   ]
  },
  {
   "cell_type": "code",
   "execution_count": 74,
   "metadata": {},
   "outputs": [],
   "source": [
    "def make_df(file):\n",
    "    # Read .json\n",
    "    df = pd.read_json(file, orient='index')\n",
    "    # Transpose to get in right format\n",
    "    df = df.transpose()\n",
    "    # Add column with name of the model\n",
    "    df['model'] = str(file).lstrip('../test_results\\\\').rstrip('.json')\n",
    "    # Get scores for each label category as individual columns\n",
    "    ent_scores = pd.json_normalize(df['ents_per_type'])\n",
    "    # Concatenate columns together\n",
    "    df = pd.concat([df, ent_scores], axis=1)\n",
    "    # Drop unneeded columns\n",
    "    df.drop(columns=['token_acc', 'token_p', 'token_r', 'token_f', 'ents_per_type'], inplace=True)\n",
    "    \n",
    "    return df"
   ]
  },
  {
   "cell_type": "code",
   "execution_count": 75,
   "metadata": {},
   "outputs": [],
   "source": [
    "dataframes = []\n",
    "for file in files:\n",
    "    df = make_df(file)\n",
    "    dataframes.append(df)"
   ]
  },
  {
   "cell_type": "code",
   "execution_count": 77,
   "metadata": {},
   "outputs": [],
   "source": [
    "results_df = pd.concat(dataframes, axis=0)"
   ]
  },
  {
   "cell_type": "code",
   "execution_count": 78,
   "metadata": {},
   "outputs": [
    {
     "data": {
      "text/html": [
       "<div>\n",
       "<style scoped>\n",
       "    .dataframe tbody tr th:only-of-type {\n",
       "        vertical-align: middle;\n",
       "    }\n",
       "\n",
       "    .dataframe tbody tr th {\n",
       "        vertical-align: top;\n",
       "    }\n",
       "\n",
       "    .dataframe thead th {\n",
       "        text-align: right;\n",
       "    }\n",
       "</style>\n",
       "<table border=\"1\" class=\"dataframe\">\n",
       "  <thead>\n",
       "    <tr style=\"text-align: right;\">\n",
       "      <th></th>\n",
       "      <th>ents_p</th>\n",
       "      <th>ents_r</th>\n",
       "      <th>ents_f</th>\n",
       "      <th>speed</th>\n",
       "      <th>model</th>\n",
       "      <th>H_SKILL.p</th>\n",
       "      <th>H_SKILL.r</th>\n",
       "      <th>H_SKILL.f</th>\n",
       "      <th>S_SKILL.p</th>\n",
       "      <th>S_SKILL.r</th>\n",
       "      <th>S_SKILL.f</th>\n",
       "      <th>LANG_FRAM.p</th>\n",
       "      <th>LANG_FRAM.r</th>\n",
       "      <th>LANG_FRAM.f</th>\n",
       "      <th>REQUIREMENT.p</th>\n",
       "      <th>REQUIREMENT.r</th>\n",
       "      <th>REQUIREMENT.f</th>\n",
       "    </tr>\n",
       "  </thead>\n",
       "  <tbody>\n",
       "    <tr>\n",
       "      <th>0</th>\n",
       "      <td>0.371991</td>\n",
       "      <td>0.266876</td>\n",
       "      <td>0.310786</td>\n",
       "      <td>37761.973299</td>\n",
       "      <td>charembed_bilstm</td>\n",
       "      <td>0.122995</td>\n",
       "      <td>0.112745</td>\n",
       "      <td>0.117647</td>\n",
       "      <td>0.558824</td>\n",
       "      <td>0.233129</td>\n",
       "      <td>0.329004</td>\n",
       "      <td>0.589744</td>\n",
       "      <td>0.414414</td>\n",
       "      <td>0.486772</td>\n",
       "      <td>0.369565</td>\n",
       "      <td>0.354167</td>\n",
       "      <td>0.361702</td>\n",
       "    </tr>\n",
       "    <tr>\n",
       "      <th>0</th>\n",
       "      <td>0.515464</td>\n",
       "      <td>0.313972</td>\n",
       "      <td>0.390244</td>\n",
       "      <td>29373.816001</td>\n",
       "      <td>charembed_bilstm_vec</td>\n",
       "      <td>0.273684</td>\n",
       "      <td>0.127451</td>\n",
       "      <td>0.173913</td>\n",
       "      <td>0.454545</td>\n",
       "      <td>0.245399</td>\n",
       "      <td>0.318725</td>\n",
       "      <td>0.679487</td>\n",
       "      <td>0.477477</td>\n",
       "      <td>0.560847</td>\n",
       "      <td>0.571429</td>\n",
       "      <td>0.583333</td>\n",
       "      <td>0.577320</td>\n",
       "    </tr>\n",
       "    <tr>\n",
       "      <th>0</th>\n",
       "      <td>0.535714</td>\n",
       "      <td>0.32967</td>\n",
       "      <td>0.408163</td>\n",
       "      <td>28638.609691</td>\n",
       "      <td>charembed_maxout</td>\n",
       "      <td>0.284483</td>\n",
       "      <td>0.161765</td>\n",
       "      <td>0.206250</td>\n",
       "      <td>0.514019</td>\n",
       "      <td>0.337423</td>\n",
       "      <td>0.407407</td>\n",
       "      <td>0.725191</td>\n",
       "      <td>0.427928</td>\n",
       "      <td>0.538244</td>\n",
       "      <td>0.710526</td>\n",
       "      <td>0.562500</td>\n",
       "      <td>0.627907</td>\n",
       "    </tr>\n",
       "    <tr>\n",
       "      <th>0</th>\n",
       "      <td>0.50358</td>\n",
       "      <td>0.33124</td>\n",
       "      <td>0.399621</td>\n",
       "      <td>24591.112316</td>\n",
       "      <td>charembed_maxout_vec</td>\n",
       "      <td>0.259259</td>\n",
       "      <td>0.068627</td>\n",
       "      <td>0.108527</td>\n",
       "      <td>0.378788</td>\n",
       "      <td>0.306748</td>\n",
       "      <td>0.338983</td>\n",
       "      <td>0.644444</td>\n",
       "      <td>0.522523</td>\n",
       "      <td>0.577114</td>\n",
       "      <td>0.584906</td>\n",
       "      <td>0.645833</td>\n",
       "      <td>0.613861</td>\n",
       "    </tr>\n",
       "    <tr>\n",
       "      <th>0</th>\n",
       "      <td>0.561605</td>\n",
       "      <td>0.307692</td>\n",
       "      <td>0.397566</td>\n",
       "      <td>27055.712442</td>\n",
       "      <td>charembed_mish</td>\n",
       "      <td>0.314286</td>\n",
       "      <td>0.161765</td>\n",
       "      <td>0.213592</td>\n",
       "      <td>0.545455</td>\n",
       "      <td>0.331288</td>\n",
       "      <td>0.412214</td>\n",
       "      <td>0.763636</td>\n",
       "      <td>0.378378</td>\n",
       "      <td>0.506024</td>\n",
       "      <td>0.714286</td>\n",
       "      <td>0.520833</td>\n",
       "      <td>0.602410</td>\n",
       "    </tr>\n",
       "    <tr>\n",
       "      <th>0</th>\n",
       "      <td>0.491765</td>\n",
       "      <td>0.3281</td>\n",
       "      <td>0.393597</td>\n",
       "      <td>25553.423109</td>\n",
       "      <td>charembed_mish_vec</td>\n",
       "      <td>0.223140</td>\n",
       "      <td>0.132353</td>\n",
       "      <td>0.166154</td>\n",
       "      <td>0.457143</td>\n",
       "      <td>0.294479</td>\n",
       "      <td>0.358209</td>\n",
       "      <td>0.636364</td>\n",
       "      <td>0.472973</td>\n",
       "      <td>0.542636</td>\n",
       "      <td>0.852941</td>\n",
       "      <td>0.604167</td>\n",
       "      <td>0.707317</td>\n",
       "    </tr>\n",
       "    <tr>\n",
       "      <th>0</th>\n",
       "      <td>0.51105</td>\n",
       "      <td>0.290424</td>\n",
       "      <td>0.37037</td>\n",
       "      <td>37741.592798</td>\n",
       "      <td>multihash_bilstm</td>\n",
       "      <td>0.217822</td>\n",
       "      <td>0.107843</td>\n",
       "      <td>0.144262</td>\n",
       "      <td>0.494505</td>\n",
       "      <td>0.276074</td>\n",
       "      <td>0.354331</td>\n",
       "      <td>0.698529</td>\n",
       "      <td>0.427928</td>\n",
       "      <td>0.530726</td>\n",
       "      <td>0.676471</td>\n",
       "      <td>0.479167</td>\n",
       "      <td>0.560976</td>\n",
       "    </tr>\n",
       "    <tr>\n",
       "      <th>0</th>\n",
       "      <td>0.503686</td>\n",
       "      <td>0.321821</td>\n",
       "      <td>0.39272</td>\n",
       "      <td>36884.00505</td>\n",
       "      <td>multihash_bilstm_vec</td>\n",
       "      <td>0.224719</td>\n",
       "      <td>0.098039</td>\n",
       "      <td>0.136519</td>\n",
       "      <td>0.510000</td>\n",
       "      <td>0.312883</td>\n",
       "      <td>0.387833</td>\n",
       "      <td>0.603352</td>\n",
       "      <td>0.486486</td>\n",
       "      <td>0.538653</td>\n",
       "      <td>0.666667</td>\n",
       "      <td>0.541667</td>\n",
       "      <td>0.597701</td>\n",
       "    </tr>\n",
       "    <tr>\n",
       "      <th>0</th>\n",
       "      <td>0.530504</td>\n",
       "      <td>0.313972</td>\n",
       "      <td>0.394477</td>\n",
       "      <td>19277.556476</td>\n",
       "      <td>multihash_maxout</td>\n",
       "      <td>0.251969</td>\n",
       "      <td>0.156863</td>\n",
       "      <td>0.193353</td>\n",
       "      <td>0.548387</td>\n",
       "      <td>0.312883</td>\n",
       "      <td>0.398438</td>\n",
       "      <td>0.744186</td>\n",
       "      <td>0.432432</td>\n",
       "      <td>0.547009</td>\n",
       "      <td>0.750000</td>\n",
       "      <td>0.437500</td>\n",
       "      <td>0.552632</td>\n",
       "    </tr>\n",
       "    <tr>\n",
       "      <th>0</th>\n",
       "      <td>0.561097</td>\n",
       "      <td>0.353218</td>\n",
       "      <td>0.433526</td>\n",
       "      <td>26372.005712</td>\n",
       "      <td>multihash_maxout_vec</td>\n",
       "      <td>0.336134</td>\n",
       "      <td>0.196078</td>\n",
       "      <td>0.247678</td>\n",
       "      <td>0.471910</td>\n",
       "      <td>0.257669</td>\n",
       "      <td>0.333333</td>\n",
       "      <td>0.713415</td>\n",
       "      <td>0.527027</td>\n",
       "      <td>0.606218</td>\n",
       "      <td>0.896552</td>\n",
       "      <td>0.541667</td>\n",
       "      <td>0.675325</td>\n",
       "    </tr>\n",
       "    <tr>\n",
       "      <th>0</th>\n",
       "      <td>0.522546</td>\n",
       "      <td>0.309262</td>\n",
       "      <td>0.38856</td>\n",
       "      <td>29883.123885</td>\n",
       "      <td>multihash_mish</td>\n",
       "      <td>0.246377</td>\n",
       "      <td>0.166667</td>\n",
       "      <td>0.198830</td>\n",
       "      <td>0.471910</td>\n",
       "      <td>0.257669</td>\n",
       "      <td>0.333333</td>\n",
       "      <td>0.813008</td>\n",
       "      <td>0.450450</td>\n",
       "      <td>0.579710</td>\n",
       "      <td>0.777778</td>\n",
       "      <td>0.437500</td>\n",
       "      <td>0.560000</td>\n",
       "    </tr>\n",
       "    <tr>\n",
       "      <th>0</th>\n",
       "      <td>0.545</td>\n",
       "      <td>0.342229</td>\n",
       "      <td>0.420444</td>\n",
       "      <td>24303.644038</td>\n",
       "      <td>multihash_mish_vec</td>\n",
       "      <td>0.289474</td>\n",
       "      <td>0.161765</td>\n",
       "      <td>0.207547</td>\n",
       "      <td>0.471698</td>\n",
       "      <td>0.306748</td>\n",
       "      <td>0.371747</td>\n",
       "      <td>0.750000</td>\n",
       "      <td>0.486486</td>\n",
       "      <td>0.590164</td>\n",
       "      <td>0.750000</td>\n",
       "      <td>0.562500</td>\n",
       "      <td>0.642857</td>\n",
       "    </tr>\n",
       "  </tbody>\n",
       "</table>\n",
       "</div>"
      ],
      "text/plain": [
       "     ents_p    ents_r    ents_f         speed                 model  \\\n",
       "0  0.371991  0.266876  0.310786  37761.973299      charembed_bilstm   \n",
       "0  0.515464  0.313972  0.390244  29373.816001  charembed_bilstm_vec   \n",
       "0  0.535714   0.32967  0.408163  28638.609691      charembed_maxout   \n",
       "0   0.50358   0.33124  0.399621  24591.112316  charembed_maxout_vec   \n",
       "0  0.561605  0.307692  0.397566  27055.712442        charembed_mish   \n",
       "0  0.491765    0.3281  0.393597  25553.423109    charembed_mish_vec   \n",
       "0   0.51105  0.290424   0.37037  37741.592798      multihash_bilstm   \n",
       "0  0.503686  0.321821   0.39272   36884.00505  multihash_bilstm_vec   \n",
       "0  0.530504  0.313972  0.394477  19277.556476      multihash_maxout   \n",
       "0  0.561097  0.353218  0.433526  26372.005712  multihash_maxout_vec   \n",
       "0  0.522546  0.309262   0.38856  29883.123885        multihash_mish   \n",
       "0     0.545  0.342229  0.420444  24303.644038    multihash_mish_vec   \n",
       "\n",
       "   H_SKILL.p  H_SKILL.r  H_SKILL.f  S_SKILL.p  S_SKILL.r  S_SKILL.f  \\\n",
       "0   0.122995   0.112745   0.117647   0.558824   0.233129   0.329004   \n",
       "0   0.273684   0.127451   0.173913   0.454545   0.245399   0.318725   \n",
       "0   0.284483   0.161765   0.206250   0.514019   0.337423   0.407407   \n",
       "0   0.259259   0.068627   0.108527   0.378788   0.306748   0.338983   \n",
       "0   0.314286   0.161765   0.213592   0.545455   0.331288   0.412214   \n",
       "0   0.223140   0.132353   0.166154   0.457143   0.294479   0.358209   \n",
       "0   0.217822   0.107843   0.144262   0.494505   0.276074   0.354331   \n",
       "0   0.224719   0.098039   0.136519   0.510000   0.312883   0.387833   \n",
       "0   0.251969   0.156863   0.193353   0.548387   0.312883   0.398438   \n",
       "0   0.336134   0.196078   0.247678   0.471910   0.257669   0.333333   \n",
       "0   0.246377   0.166667   0.198830   0.471910   0.257669   0.333333   \n",
       "0   0.289474   0.161765   0.207547   0.471698   0.306748   0.371747   \n",
       "\n",
       "   LANG_FRAM.p  LANG_FRAM.r  LANG_FRAM.f  REQUIREMENT.p  REQUIREMENT.r  \\\n",
       "0     0.589744     0.414414     0.486772       0.369565       0.354167   \n",
       "0     0.679487     0.477477     0.560847       0.571429       0.583333   \n",
       "0     0.725191     0.427928     0.538244       0.710526       0.562500   \n",
       "0     0.644444     0.522523     0.577114       0.584906       0.645833   \n",
       "0     0.763636     0.378378     0.506024       0.714286       0.520833   \n",
       "0     0.636364     0.472973     0.542636       0.852941       0.604167   \n",
       "0     0.698529     0.427928     0.530726       0.676471       0.479167   \n",
       "0     0.603352     0.486486     0.538653       0.666667       0.541667   \n",
       "0     0.744186     0.432432     0.547009       0.750000       0.437500   \n",
       "0     0.713415     0.527027     0.606218       0.896552       0.541667   \n",
       "0     0.813008     0.450450     0.579710       0.777778       0.437500   \n",
       "0     0.750000     0.486486     0.590164       0.750000       0.562500   \n",
       "\n",
       "   REQUIREMENT.f  \n",
       "0       0.361702  \n",
       "0       0.577320  \n",
       "0       0.627907  \n",
       "0       0.613861  \n",
       "0       0.602410  \n",
       "0       0.707317  \n",
       "0       0.560976  \n",
       "0       0.597701  \n",
       "0       0.552632  \n",
       "0       0.675325  \n",
       "0       0.560000  \n",
       "0       0.642857  "
      ]
     },
     "execution_count": 78,
     "metadata": {},
     "output_type": "execute_result"
    }
   ],
   "source": [
    "results_df.head()"
   ]
  },
  {
   "cell_type": "code",
   "execution_count": 119,
   "metadata": {},
   "outputs": [],
   "source": [
    "# Get in long format for some plots\n",
    "long_df = results_df.melt(id_vars='model')"
   ]
  },
  {
   "cell_type": "code",
   "execution_count": 120,
   "metadata": {},
   "outputs": [
    {
     "data": {
      "text/html": [
       "<div>\n",
       "<style scoped>\n",
       "    .dataframe tbody tr th:only-of-type {\n",
       "        vertical-align: middle;\n",
       "    }\n",
       "\n",
       "    .dataframe tbody tr th {\n",
       "        vertical-align: top;\n",
       "    }\n",
       "\n",
       "    .dataframe thead th {\n",
       "        text-align: right;\n",
       "    }\n",
       "</style>\n",
       "<table border=\"1\" class=\"dataframe\">\n",
       "  <thead>\n",
       "    <tr style=\"text-align: right;\">\n",
       "      <th></th>\n",
       "      <th>model</th>\n",
       "      <th>variable</th>\n",
       "      <th>value</th>\n",
       "    </tr>\n",
       "  </thead>\n",
       "  <tbody>\n",
       "    <tr>\n",
       "      <th>0</th>\n",
       "      <td>charembed_bilstm</td>\n",
       "      <td>ents_p</td>\n",
       "      <td>0.371991</td>\n",
       "    </tr>\n",
       "    <tr>\n",
       "      <th>1</th>\n",
       "      <td>charembed_bilstm_vec</td>\n",
       "      <td>ents_p</td>\n",
       "      <td>0.515464</td>\n",
       "    </tr>\n",
       "    <tr>\n",
       "      <th>2</th>\n",
       "      <td>charembed_maxout</td>\n",
       "      <td>ents_p</td>\n",
       "      <td>0.535714</td>\n",
       "    </tr>\n",
       "    <tr>\n",
       "      <th>3</th>\n",
       "      <td>charembed_maxout_vec</td>\n",
       "      <td>ents_p</td>\n",
       "      <td>0.50358</td>\n",
       "    </tr>\n",
       "    <tr>\n",
       "      <th>4</th>\n",
       "      <td>charembed_mish</td>\n",
       "      <td>ents_p</td>\n",
       "      <td>0.561605</td>\n",
       "    </tr>\n",
       "  </tbody>\n",
       "</table>\n",
       "</div>"
      ],
      "text/plain": [
       "                  model variable     value\n",
       "0      charembed_bilstm   ents_p  0.371991\n",
       "1  charembed_bilstm_vec   ents_p  0.515464\n",
       "2      charembed_maxout   ents_p  0.535714\n",
       "3  charembed_maxout_vec   ents_p   0.50358\n",
       "4        charembed_mish   ents_p  0.561605"
      ]
     },
     "execution_count": 120,
     "metadata": {},
     "output_type": "execute_result"
    }
   ],
   "source": [
    "long_df.head()"
   ]
  },
  {
   "cell_type": "code",
   "execution_count": 168,
   "metadata": {},
   "outputs": [],
   "source": [
    "def plot_overall_results(df, sort=None):\n",
    "    # Filter for precision, recall and f-score\n",
    "    df = df.loc[df['variable'].isin(['ents_p', 'ents_r', 'ents_f'])]\n",
    "    # Make barplot\n",
    "    fig = px.bar(df, x='model', y='value', color='variable', barmode='group', labels={'value':'Score', 'model':'Model', 'variable':'Metric'})\n",
    "    # Sort by given variable\n",
    "    if sort is not None:\n",
    "        sorted_df = df.loc[df['variable'] == sort].sort_values(by='value')\n",
    "        sorted_array = sorted_df['model'].to_list()\n",
    "        fig.update_layout(xaxis={'categoryorder':'array', 'categoryarray':sorted_array})\n",
    "    # Update legend names\n",
    "    fig.data[0].name = 'Precision'\n",
    "    fig.data[1].name = 'Recall'\n",
    "    fig.data[2].name = 'F-score'\n",
    "    \n",
    "    fig.show()"
   ]
  },
  {
   "cell_type": "code",
   "execution_count": 169,
   "metadata": {},
   "outputs": [
    {
     "data": {
      "application/vnd.plotly.v1+json": {
       "config": {
        "plotlyServerURL": "https://plot.ly"
       },
       "data": [
        {
         "alignmentgroup": "True",
         "hovertemplate": "Metric=ents_p<br>Model=%{x}<br>Score=%{y}<extra></extra>",
         "legendgroup": "ents_p",
         "marker": {
          "color": "#636efa",
          "pattern": {
           "shape": ""
          }
         },
         "name": "Precision",
         "offsetgroup": "ents_p",
         "orientation": "v",
         "showlegend": true,
         "textposition": "auto",
         "type": "bar",
         "x": [
          "charembed_bilstm",
          "charembed_bilstm_vec",
          "charembed_maxout",
          "charembed_maxout_vec",
          "charembed_mish",
          "charembed_mish_vec",
          "multihash_bilstm",
          "multihash_bilstm_vec",
          "multihash_maxout",
          "multihash_maxout_vec",
          "multihash_mish",
          "multihash_mish_vec"
         ],
         "xaxis": "x",
         "y": [
          0.3719912473,
          0.5154639175,
          0.5357142857,
          0.5035799523,
          0.5616045845000001,
          0.49176470590000004,
          0.5110497238,
          0.5036855037,
          0.5305039788,
          0.5610972569,
          0.5225464191,
          0.545
         ],
         "yaxis": "y"
        },
        {
         "alignmentgroup": "True",
         "hovertemplate": "Metric=ents_r<br>Model=%{x}<br>Score=%{y}<extra></extra>",
         "legendgroup": "ents_r",
         "marker": {
          "color": "#EF553B",
          "pattern": {
           "shape": ""
          }
         },
         "name": "Recall",
         "offsetgroup": "ents_r",
         "orientation": "v",
         "showlegend": true,
         "textposition": "auto",
         "type": "bar",
         "x": [
          "charembed_bilstm",
          "charembed_bilstm_vec",
          "charembed_maxout",
          "charembed_maxout_vec",
          "charembed_mish",
          "charembed_mish_vec",
          "multihash_bilstm",
          "multihash_bilstm_vec",
          "multihash_maxout",
          "multihash_maxout_vec",
          "multihash_mish",
          "multihash_mish_vec"
         ],
         "xaxis": "x",
         "y": [
          0.2668759812,
          0.3139717425,
          0.3296703297,
          0.3312401884,
          0.3076923077,
          0.328100471,
          0.2904238619,
          0.3218210361,
          0.3139717425,
          0.3532182104,
          0.30926216640000004,
          0.3422291994
         ],
         "yaxis": "y"
        },
        {
         "alignmentgroup": "True",
         "hovertemplate": "Metric=ents_f<br>Model=%{x}<br>Score=%{y}<extra></extra>",
         "legendgroup": "ents_f",
         "marker": {
          "color": "#00cc96",
          "pattern": {
           "shape": ""
          }
         },
         "name": "F-score",
         "offsetgroup": "ents_f",
         "orientation": "v",
         "showlegend": true,
         "textposition": "auto",
         "type": "bar",
         "x": [
          "charembed_bilstm",
          "charembed_bilstm_vec",
          "charembed_maxout",
          "charembed_maxout_vec",
          "charembed_mish",
          "charembed_mish_vec",
          "multihash_bilstm",
          "multihash_bilstm_vec",
          "multihash_maxout",
          "multihash_maxout_vec",
          "multihash_mish",
          "multihash_mish_vec"
         ],
         "xaxis": "x",
         "y": [
          0.310786106,
          0.3902439024,
          0.4081632653,
          0.3996212121,
          0.39756592290000003,
          0.3935969868,
          0.37037037040000004,
          0.3927203065,
          0.3944773176,
          0.43352601160000004,
          0.38856015780000003,
          0.42044358730000003
         ],
         "yaxis": "y"
        }
       ],
       "layout": {
        "barmode": "group",
        "legend": {
         "title": {
          "text": "Metric"
         },
         "tracegroupgap": 0
        },
        "margin": {
         "t": 60
        },
        "template": {
         "data": {
          "bar": [
           {
            "error_x": {
             "color": "#2a3f5f"
            },
            "error_y": {
             "color": "#2a3f5f"
            },
            "marker": {
             "line": {
              "color": "#E5ECF6",
              "width": 0.5
             },
             "pattern": {
              "fillmode": "overlay",
              "size": 10,
              "solidity": 0.2
             }
            },
            "type": "bar"
           }
          ],
          "barpolar": [
           {
            "marker": {
             "line": {
              "color": "#E5ECF6",
              "width": 0.5
             },
             "pattern": {
              "fillmode": "overlay",
              "size": 10,
              "solidity": 0.2
             }
            },
            "type": "barpolar"
           }
          ],
          "carpet": [
           {
            "aaxis": {
             "endlinecolor": "#2a3f5f",
             "gridcolor": "white",
             "linecolor": "white",
             "minorgridcolor": "white",
             "startlinecolor": "#2a3f5f"
            },
            "baxis": {
             "endlinecolor": "#2a3f5f",
             "gridcolor": "white",
             "linecolor": "white",
             "minorgridcolor": "white",
             "startlinecolor": "#2a3f5f"
            },
            "type": "carpet"
           }
          ],
          "choropleth": [
           {
            "colorbar": {
             "outlinewidth": 0,
             "ticks": ""
            },
            "type": "choropleth"
           }
          ],
          "contour": [
           {
            "colorbar": {
             "outlinewidth": 0,
             "ticks": ""
            },
            "colorscale": [
             [
              0,
              "#0d0887"
             ],
             [
              0.1111111111111111,
              "#46039f"
             ],
             [
              0.2222222222222222,
              "#7201a8"
             ],
             [
              0.3333333333333333,
              "#9c179e"
             ],
             [
              0.4444444444444444,
              "#bd3786"
             ],
             [
              0.5555555555555556,
              "#d8576b"
             ],
             [
              0.6666666666666666,
              "#ed7953"
             ],
             [
              0.7777777777777778,
              "#fb9f3a"
             ],
             [
              0.8888888888888888,
              "#fdca26"
             ],
             [
              1,
              "#f0f921"
             ]
            ],
            "type": "contour"
           }
          ],
          "contourcarpet": [
           {
            "colorbar": {
             "outlinewidth": 0,
             "ticks": ""
            },
            "type": "contourcarpet"
           }
          ],
          "heatmap": [
           {
            "colorbar": {
             "outlinewidth": 0,
             "ticks": ""
            },
            "colorscale": [
             [
              0,
              "#0d0887"
             ],
             [
              0.1111111111111111,
              "#46039f"
             ],
             [
              0.2222222222222222,
              "#7201a8"
             ],
             [
              0.3333333333333333,
              "#9c179e"
             ],
             [
              0.4444444444444444,
              "#bd3786"
             ],
             [
              0.5555555555555556,
              "#d8576b"
             ],
             [
              0.6666666666666666,
              "#ed7953"
             ],
             [
              0.7777777777777778,
              "#fb9f3a"
             ],
             [
              0.8888888888888888,
              "#fdca26"
             ],
             [
              1,
              "#f0f921"
             ]
            ],
            "type": "heatmap"
           }
          ],
          "heatmapgl": [
           {
            "colorbar": {
             "outlinewidth": 0,
             "ticks": ""
            },
            "colorscale": [
             [
              0,
              "#0d0887"
             ],
             [
              0.1111111111111111,
              "#46039f"
             ],
             [
              0.2222222222222222,
              "#7201a8"
             ],
             [
              0.3333333333333333,
              "#9c179e"
             ],
             [
              0.4444444444444444,
              "#bd3786"
             ],
             [
              0.5555555555555556,
              "#d8576b"
             ],
             [
              0.6666666666666666,
              "#ed7953"
             ],
             [
              0.7777777777777778,
              "#fb9f3a"
             ],
             [
              0.8888888888888888,
              "#fdca26"
             ],
             [
              1,
              "#f0f921"
             ]
            ],
            "type": "heatmapgl"
           }
          ],
          "histogram": [
           {
            "marker": {
             "pattern": {
              "fillmode": "overlay",
              "size": 10,
              "solidity": 0.2
             }
            },
            "type": "histogram"
           }
          ],
          "histogram2d": [
           {
            "colorbar": {
             "outlinewidth": 0,
             "ticks": ""
            },
            "colorscale": [
             [
              0,
              "#0d0887"
             ],
             [
              0.1111111111111111,
              "#46039f"
             ],
             [
              0.2222222222222222,
              "#7201a8"
             ],
             [
              0.3333333333333333,
              "#9c179e"
             ],
             [
              0.4444444444444444,
              "#bd3786"
             ],
             [
              0.5555555555555556,
              "#d8576b"
             ],
             [
              0.6666666666666666,
              "#ed7953"
             ],
             [
              0.7777777777777778,
              "#fb9f3a"
             ],
             [
              0.8888888888888888,
              "#fdca26"
             ],
             [
              1,
              "#f0f921"
             ]
            ],
            "type": "histogram2d"
           }
          ],
          "histogram2dcontour": [
           {
            "colorbar": {
             "outlinewidth": 0,
             "ticks": ""
            },
            "colorscale": [
             [
              0,
              "#0d0887"
             ],
             [
              0.1111111111111111,
              "#46039f"
             ],
             [
              0.2222222222222222,
              "#7201a8"
             ],
             [
              0.3333333333333333,
              "#9c179e"
             ],
             [
              0.4444444444444444,
              "#bd3786"
             ],
             [
              0.5555555555555556,
              "#d8576b"
             ],
             [
              0.6666666666666666,
              "#ed7953"
             ],
             [
              0.7777777777777778,
              "#fb9f3a"
             ],
             [
              0.8888888888888888,
              "#fdca26"
             ],
             [
              1,
              "#f0f921"
             ]
            ],
            "type": "histogram2dcontour"
           }
          ],
          "mesh3d": [
           {
            "colorbar": {
             "outlinewidth": 0,
             "ticks": ""
            },
            "type": "mesh3d"
           }
          ],
          "parcoords": [
           {
            "line": {
             "colorbar": {
              "outlinewidth": 0,
              "ticks": ""
             }
            },
            "type": "parcoords"
           }
          ],
          "pie": [
           {
            "automargin": true,
            "type": "pie"
           }
          ],
          "scatter": [
           {
            "fillpattern": {
             "fillmode": "overlay",
             "size": 10,
             "solidity": 0.2
            },
            "type": "scatter"
           }
          ],
          "scatter3d": [
           {
            "line": {
             "colorbar": {
              "outlinewidth": 0,
              "ticks": ""
             }
            },
            "marker": {
             "colorbar": {
              "outlinewidth": 0,
              "ticks": ""
             }
            },
            "type": "scatter3d"
           }
          ],
          "scattercarpet": [
           {
            "marker": {
             "colorbar": {
              "outlinewidth": 0,
              "ticks": ""
             }
            },
            "type": "scattercarpet"
           }
          ],
          "scattergeo": [
           {
            "marker": {
             "colorbar": {
              "outlinewidth": 0,
              "ticks": ""
             }
            },
            "type": "scattergeo"
           }
          ],
          "scattergl": [
           {
            "marker": {
             "colorbar": {
              "outlinewidth": 0,
              "ticks": ""
             }
            },
            "type": "scattergl"
           }
          ],
          "scattermapbox": [
           {
            "marker": {
             "colorbar": {
              "outlinewidth": 0,
              "ticks": ""
             }
            },
            "type": "scattermapbox"
           }
          ],
          "scatterpolar": [
           {
            "marker": {
             "colorbar": {
              "outlinewidth": 0,
              "ticks": ""
             }
            },
            "type": "scatterpolar"
           }
          ],
          "scatterpolargl": [
           {
            "marker": {
             "colorbar": {
              "outlinewidth": 0,
              "ticks": ""
             }
            },
            "type": "scatterpolargl"
           }
          ],
          "scatterternary": [
           {
            "marker": {
             "colorbar": {
              "outlinewidth": 0,
              "ticks": ""
             }
            },
            "type": "scatterternary"
           }
          ],
          "surface": [
           {
            "colorbar": {
             "outlinewidth": 0,
             "ticks": ""
            },
            "colorscale": [
             [
              0,
              "#0d0887"
             ],
             [
              0.1111111111111111,
              "#46039f"
             ],
             [
              0.2222222222222222,
              "#7201a8"
             ],
             [
              0.3333333333333333,
              "#9c179e"
             ],
             [
              0.4444444444444444,
              "#bd3786"
             ],
             [
              0.5555555555555556,
              "#d8576b"
             ],
             [
              0.6666666666666666,
              "#ed7953"
             ],
             [
              0.7777777777777778,
              "#fb9f3a"
             ],
             [
              0.8888888888888888,
              "#fdca26"
             ],
             [
              1,
              "#f0f921"
             ]
            ],
            "type": "surface"
           }
          ],
          "table": [
           {
            "cells": {
             "fill": {
              "color": "#EBF0F8"
             },
             "line": {
              "color": "white"
             }
            },
            "header": {
             "fill": {
              "color": "#C8D4E3"
             },
             "line": {
              "color": "white"
             }
            },
            "type": "table"
           }
          ]
         },
         "layout": {
          "annotationdefaults": {
           "arrowcolor": "#2a3f5f",
           "arrowhead": 0,
           "arrowwidth": 1
          },
          "autotypenumbers": "strict",
          "coloraxis": {
           "colorbar": {
            "outlinewidth": 0,
            "ticks": ""
           }
          },
          "colorscale": {
           "diverging": [
            [
             0,
             "#8e0152"
            ],
            [
             0.1,
             "#c51b7d"
            ],
            [
             0.2,
             "#de77ae"
            ],
            [
             0.3,
             "#f1b6da"
            ],
            [
             0.4,
             "#fde0ef"
            ],
            [
             0.5,
             "#f7f7f7"
            ],
            [
             0.6,
             "#e6f5d0"
            ],
            [
             0.7,
             "#b8e186"
            ],
            [
             0.8,
             "#7fbc41"
            ],
            [
             0.9,
             "#4d9221"
            ],
            [
             1,
             "#276419"
            ]
           ],
           "sequential": [
            [
             0,
             "#0d0887"
            ],
            [
             0.1111111111111111,
             "#46039f"
            ],
            [
             0.2222222222222222,
             "#7201a8"
            ],
            [
             0.3333333333333333,
             "#9c179e"
            ],
            [
             0.4444444444444444,
             "#bd3786"
            ],
            [
             0.5555555555555556,
             "#d8576b"
            ],
            [
             0.6666666666666666,
             "#ed7953"
            ],
            [
             0.7777777777777778,
             "#fb9f3a"
            ],
            [
             0.8888888888888888,
             "#fdca26"
            ],
            [
             1,
             "#f0f921"
            ]
           ],
           "sequentialminus": [
            [
             0,
             "#0d0887"
            ],
            [
             0.1111111111111111,
             "#46039f"
            ],
            [
             0.2222222222222222,
             "#7201a8"
            ],
            [
             0.3333333333333333,
             "#9c179e"
            ],
            [
             0.4444444444444444,
             "#bd3786"
            ],
            [
             0.5555555555555556,
             "#d8576b"
            ],
            [
             0.6666666666666666,
             "#ed7953"
            ],
            [
             0.7777777777777778,
             "#fb9f3a"
            ],
            [
             0.8888888888888888,
             "#fdca26"
            ],
            [
             1,
             "#f0f921"
            ]
           ]
          },
          "colorway": [
           "#636efa",
           "#EF553B",
           "#00cc96",
           "#ab63fa",
           "#FFA15A",
           "#19d3f3",
           "#FF6692",
           "#B6E880",
           "#FF97FF",
           "#FECB52"
          ],
          "font": {
           "color": "#2a3f5f"
          },
          "geo": {
           "bgcolor": "white",
           "lakecolor": "white",
           "landcolor": "#E5ECF6",
           "showlakes": true,
           "showland": true,
           "subunitcolor": "white"
          },
          "hoverlabel": {
           "align": "left"
          },
          "hovermode": "closest",
          "mapbox": {
           "style": "light"
          },
          "paper_bgcolor": "white",
          "plot_bgcolor": "#E5ECF6",
          "polar": {
           "angularaxis": {
            "gridcolor": "white",
            "linecolor": "white",
            "ticks": ""
           },
           "bgcolor": "#E5ECF6",
           "radialaxis": {
            "gridcolor": "white",
            "linecolor": "white",
            "ticks": ""
           }
          },
          "scene": {
           "xaxis": {
            "backgroundcolor": "#E5ECF6",
            "gridcolor": "white",
            "gridwidth": 2,
            "linecolor": "white",
            "showbackground": true,
            "ticks": "",
            "zerolinecolor": "white"
           },
           "yaxis": {
            "backgroundcolor": "#E5ECF6",
            "gridcolor": "white",
            "gridwidth": 2,
            "linecolor": "white",
            "showbackground": true,
            "ticks": "",
            "zerolinecolor": "white"
           },
           "zaxis": {
            "backgroundcolor": "#E5ECF6",
            "gridcolor": "white",
            "gridwidth": 2,
            "linecolor": "white",
            "showbackground": true,
            "ticks": "",
            "zerolinecolor": "white"
           }
          },
          "shapedefaults": {
           "line": {
            "color": "#2a3f5f"
           }
          },
          "ternary": {
           "aaxis": {
            "gridcolor": "white",
            "linecolor": "white",
            "ticks": ""
           },
           "baxis": {
            "gridcolor": "white",
            "linecolor": "white",
            "ticks": ""
           },
           "bgcolor": "#E5ECF6",
           "caxis": {
            "gridcolor": "white",
            "linecolor": "white",
            "ticks": ""
           }
          },
          "title": {
           "x": 0.05
          },
          "xaxis": {
           "automargin": true,
           "gridcolor": "white",
           "linecolor": "white",
           "ticks": "",
           "title": {
            "standoff": 15
           },
           "zerolinecolor": "white",
           "zerolinewidth": 2
          },
          "yaxis": {
           "automargin": true,
           "gridcolor": "white",
           "linecolor": "white",
           "ticks": "",
           "title": {
            "standoff": 15
           },
           "zerolinecolor": "white",
           "zerolinewidth": 2
          }
         }
        },
        "xaxis": {
         "anchor": "y",
         "categoryarray": [
          "charembed_bilstm",
          "multihash_bilstm",
          "multihash_mish",
          "charembed_bilstm_vec",
          "multihash_bilstm_vec",
          "charembed_mish_vec",
          "multihash_maxout",
          "charembed_mish",
          "charembed_maxout_vec",
          "charembed_maxout",
          "multihash_mish_vec",
          "multihash_maxout_vec"
         ],
         "categoryorder": "array",
         "domain": [
          0,
          1
         ],
         "title": {
          "text": "Model"
         }
        },
        "yaxis": {
         "anchor": "x",
         "domain": [
          0,
          1
         ],
         "title": {
          "text": "Score"
         }
        }
       }
      }
     },
     "metadata": {},
     "output_type": "display_data"
    }
   ],
   "source": [
    "plot_overall_results(long_df, sort='ents_f')"
   ]
  },
  {
   "cell_type": "code",
   "execution_count": null,
   "metadata": {},
   "outputs": [],
   "source": []
  }
 ],
 "metadata": {
  "kernelspec": {
   "display_name": "Python 3",
   "language": "python",
   "name": "python3"
  },
  "language_info": {
   "codemirror_mode": {
    "name": "ipython",
    "version": 3
   },
   "file_extension": ".py",
   "mimetype": "text/x-python",
   "name": "python",
   "nbconvert_exporter": "python",
   "pygments_lexer": "ipython3",
   "version": "3.12.0"
  }
 },
 "nbformat": 4,
 "nbformat_minor": 2
}
